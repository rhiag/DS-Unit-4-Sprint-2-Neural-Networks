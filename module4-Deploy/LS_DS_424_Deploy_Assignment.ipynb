{
  "nbformat": 4,
  "nbformat_minor": 0,
  "metadata": {
    "colab": {
      "name": "LS_DS_424_Deploy_Assignment.ipynb",
      "provenance": [],
      "collapsed_sections": []
    },
    "kernelspec": {
      "display_name": "U4-S2-NN (Python3)",
      "language": "python",
      "name": "u4-s2-nn"
    },
    "language_info": {
      "codemirror_mode": {
        "name": "ipython",
        "version": 3
      },
      "file_extension": ".py",
      "mimetype": "text/x-python",
      "name": "python",
      "nbconvert_exporter": "python",
      "pygments_lexer": "ipython3",
      "version": "3.7.0"
    },
    "nteract": {
      "version": "0.22.4"
    },
    "accelerator": "GPU"
  },
  "cells": [
    {
      "cell_type": "markdown",
      "metadata": {
        "id": "NGGrt9EYlCqY"
      },
      "source": [
        "\n",
        "\n",
        "\n",
        "# *Data Science Unit 4 Sprint 2 Assignment 4*\n",
        "\n",
        "Continue to use TensorFlow Keras & a sample of the [Quickdraw dataset](https://github.com/googlecreativelab/quickdraw-dataset) to build a sketch classification model. The dataset has been sampled to only 10 classes and 10000 observations per class. Apply regularization techniques to your model. \n",
        "\n",
        "**Don't forgot to switch to GPU on Colab!**\n",
        "\n",
        "\n",
        "## Objective \n",
        "\n",
        "In lecture, you were exposed to Lp space reguarlization, Max Norn weight constraints, and dropout. \n",
        "\n",
        "In this assignment, you will run several experiments in order to perform a deeper analysis on the effects that various regularization techniques have model performance and on the learned model weights. \n",
        "\n",
        "By the end of this assignment, these regularization techniques should no longer feel like black boxes to you (i.e. completely mysterious as to how they work.) \n"
      ]
    },
    {
      "cell_type": "markdown",
      "metadata": {
        "id": "ptJ2b3wk62Ud"
      },
      "source": [
        "#### Import libraries"
      ]
    },
    {
      "cell_type": "code",
      "metadata": {
        "id": "USXjs7Hk71Hy"
      },
      "source": [
        "# native libraries \n",
        "import os\n",
        "from time import time \n",
        "\n",
        "# data analysis libraries \n",
        "import numpy as np\n",
        "import pandas as pd\n",
        "import matplotlib.pyplot as plt\n",
        "import seaborn as sns\n",
        "\n",
        "# deep learning libraries \n",
        "from keras import Sequential\n",
        "from keras.callbacks import EarlyStopping, TensorBoard\n",
        "from keras.layers import Flatten, Dense, Dropout\n",
        "from keras.layers import ReLU\n",
        "from keras.initializers import GlorotUniform\n",
        "\n",
        "import tensorflow as tf\n",
        "from tensorflow.keras.datasets import fashion_mnist\n",
        "\n",
        "# regularizers \n",
        "from keras.regularizers import l2, l1\n",
        "from keras.constraints import MaxNorm\n",
        "\n",
        "# required for compatibility between sklearn and keras\n",
        "from tensorflow.keras.wrappers.scikit_learn import KerasClassifier\n",
        "\n",
        "from sklearn.model_selection import GridSearchCV\n",
        "\n",
        "# native python unit test library\n",
        "from unittest import TestCase\n",
        "\n",
        "%matplotlib inline"
      ],
      "execution_count": 1,
      "outputs": []
    },
    {
      "cell_type": "markdown",
      "metadata": {
        "id": "snKQDsM-Z8Gq"
      },
      "source": [
        "-----\n",
        "\n",
        "# $L_p$ Space Regularization \n",
        "\n",
        "## Bridging Theory and Practice \n",
        "\n",
        "Because the idea of infinitely many vector spaces, each with their very own distance metric for measuring distance differently can seem very abstract, we are going to take that distance metric general formula and look at a few special cases by writing custom regularization functions and taking note of their effect a the model's learning outcomes. \n",
        "\n",
        "Don't forget to review the theory of $L_p$ Space Regularization in the guided project. \n",
        "\n",
        "Also, watch this video if you haven't already. "
      ]
    },
    {
      "cell_type": "code",
      "metadata": {
        "colab": {
          "base_uri": "https://localhost:8080/",
          "height": 321
        },
        "id": "--pByU6vZ8Gr",
        "outputId": "0cf6288a-8dca-41fb-dd29-a2a6f6c273aa"
      },
      "source": [
        "# check out this video for an animated explaination of Lp Space and distance metrics \n",
        "from IPython.display import YouTubeVideo\n",
        "YouTubeVideo('FiSy6zWDfiA', width=800, height=300)"
      ],
      "execution_count": 2,
      "outputs": [
        {
          "output_type": "execute_result",
          "data": {
            "text/html": [
              "\n",
              "        <iframe\n",
              "            width=\"800\"\n",
              "            height=\"300\"\n",
              "            src=\"https://www.youtube.com/embed/FiSy6zWDfiA\"\n",
              "            frameborder=\"0\"\n",
              "            allowfullscreen\n",
              "        ></iframe>\n",
              "        "
            ],
            "text/plain": [
              "<IPython.lib.display.YouTubeVideo at 0x7fd2c51f27d0>"
            ],
            "image/jpeg": "[encoded data removed]"
          },
          "metadata": {
            "tags": []
          },
          "execution_count": 2
        }
      ]
    },
    {
      "cell_type": "markdown",
      "metadata": {
        "id": "6i35_A2wZ8Gu"
      },
      "source": [
        "### Distance Metric General Formula\n",
        "$${\\displaystyle \\left\\|x\\right\\|_{p}=\\left(|x_{1}|^{p}+|x_{2}|^{p}+\\dotsb +|x_{n}|^{p}\\right)^{1/p}.}$$\n",
        "\n",
        "Let's create a class for the distance metric general formula.\n",
        "\n",
        "\n",
        "There are 2 classes below: \n",
        "\n",
        "```python\n",
        "class Test_distance_metric_solution()\n",
        "```\n",
        "\n",
        "You don't need to change anything in this class. This class is here in order to make sure that you calculate each portion of the distance metric general formula correctly. \n",
        "\n",
        "\n",
        "```python\n",
        "class Lp_distance_metric_general_formula()\n",
        "```\n",
        "\n",
        "This is the class that you will complete. \n",
        "\n",
        "Each of the non `__call__` methods calculate one portion of the distance metric general formula. \n",
        "\n",
        "Breaking up each portion of the formula into a separate method is actually unnecessary. \n",
        "\n",
        "Including the entire calculation of the general formula into a single method is ideal, however it is more difficult to write granular unit tests that way. \n",
        "\n",
        "So, for instructional purposes, it was broken up into 3 methods. However, outside of an academic environment, we would only need the `__init__` and `__call__` methods. \n",
        "\n",
        "Having said that, it is good for you to see how a custom unit test class is used to test the calculations of another class. This is a portion of what software engineering looks like. Get used to it. You'll need good software engineering practices to make it in the world. You'll learn more about this in your CS unit. For now, consider it a bit of foreshadowing. "
      ]
    },
    {
      "cell_type": "code",
      "metadata": {
        "id": "NHJrLcpmZ8Gv"
      },
      "source": [
        "class Test_distance_metric_solution(TestCase):\n",
        "    \"\"\"\n",
        "    This is a unit test class desgined to make sure that the student calcualtes each component \n",
        "    of the Distance Metric General Formula correctly. Thereby getting real-time feedback and correction. \n",
        "    \"\"\"\n",
        "    \n",
        "    def test_squared_vector_comps(self, test_array):\n",
        "        \"\"\"\n",
        "        This test makes sure that student calculate the sum_of_squared_comp correctly. \n",
        "        \"\"\"\n",
        "        answer = np.array([1., 4.])\n",
        "        # error message in case if test case got failed\n",
        "        message = \"you did not calcualte sum_of_squared_comp correctly\"\n",
        "        # assert function() to check if values are almost equal\n",
        "        np.testing.assert_array_equal(answer, test_array,  err_msg=message)\n",
        "        \n",
        "        \n",
        "    def test_sum_of_squared_comp(self, test_sum):\n",
        "        \"\"\"\n",
        "        This test makes sure that student calculate the sum_of_squared_comp correctly. \n",
        "        \"\"\"\n",
        "        answer = 5\n",
        "        # error message in case if test case got failed\n",
        "        message = \"you did not calcualte sum_of_squared_comp correctly\"\n",
        "        # assert function() to check if values are almost equal\n",
        "        np.testing.assert_array_equal(answer, test_sum,  err_msg=message)\n",
        "        \n",
        "    def test_vector_norm(self, test_norm):\n",
        "        \"\"\"\n",
        "        This test makes sure that student calculate the vector_norm correctly. \n",
        "        \"\"\"\n",
        "        answer = 2.236\n",
        "        decimalPlace = 3\n",
        "        # error message in case if test case got failed\n",
        "        message = \"you did not calcualte sum_of_squared_comp correctly\"\n",
        "        # assert function() to check if values are almost equal\n",
        "        self.assertAlmostEqual(answer, test_norm,  decimalPlace, message)        "
      ],
      "execution_count": 3,
      "outputs": []
    },
    {
      "cell_type": "markdown",
      "metadata": {
        "id": "1WMQFLWgZ8Gy"
      },
      "source": [
        "### Fill in the missing code in the class below"
      ]
    },
    {
      "cell_type": "code",
      "metadata": {
        "deletable": false,
        "nbgrader": {
          "cell_type": "code",
          "checksum": "b8830110178a58a6fe1973906f649d36",
          "grade": false,
          "grade_id": "cell-0bd59a2d10fbf254",
          "locked": false,
          "schema_version": 3,
          "solution": true,
          "task": false
        },
        "id": "gpn2-8FbZ8Gz"
      },
      "source": [
        "class Lp_distance_metric_general_formula(object):\n",
        "    \"\"\"\n",
        "    This class takes the Lp distance metric general formual and sets p equal to a value provided by the user. \n",
        "    This has the effect of deriving a distance metric for a specific metric space and calcualting the distance \n",
        "    of a vector in that metric space.\n",
        "    \n",
        "    Example\n",
        "    -------\n",
        "    If the user sets p = 2, then the euclidean distance formula is derived.\n",
        "    If the user sets p = 1, then the taxicab distance formula is derived. \n",
        "    \n",
        "    Note\n",
        "    ----\n",
        "    It is possible to use p values less than 1 but those are special cases that we will ignore. \n",
        "    These special values are interesting for academic purposes but in practice you very likely won't need to know \n",
        "    about them.\n",
        "    \"\"\"\n",
        "\n",
        "    def __init__(self, p=2, reg_strength = 1.0):\n",
        "        \"\"\"\n",
        "        Parameters\n",
        "        ----------\n",
        "        \n",
        "        p: int or float\n",
        "            p value used for calculating the distance of a vector in a certain metric space\n",
        "            \n",
        "        reg_strength: int or float\n",
        "            usually set to a value less than 1.0 to decrease the strength of the distance metric when used as a model regularizer\n",
        "            keep this value at 1.0 when measureing vector norms (i.e. vector lengths)\n",
        "        \"\"\"\n",
        "        \n",
        "        assert p >=1 , \"p value must be greater than or equal to 1\"\n",
        "        \n",
        "        self.p = p\n",
        "        self.reg_strength = reg_strength\n",
        "                \n",
        "    def calc_squared_vector_comps(self):\n",
        "    \n",
        "        # raise each vector component in self.x to the power of p\n",
        "        # save result to self.squared_vector_comps\n",
        "       self.squared_vector_comps = self.x**(self.p)\n",
        "        \n",
        "    def calc_sum_of_squared_comp(self):\n",
        "        # take the sum of the squared components in self.squared_vector_comps\n",
        "        # save to self.sum_of_squared_comp\n",
        "        # hint: use tf.reduce_sum\n",
        "        self.sum_of_squared_comp = tf.reduce_sum(self.squared_vector_comps,0)\n",
        "        \n",
        "        \n",
        "    def calc_vector_norm(self):\n",
        "        \n",
        "        # take the 1/p root of the self.sum_of_squared_comp in order to calculate the norm, i.e. ||x||\n",
        "        # save result to self.vector_norm\n",
        "        self.vector_norm = (self.sum_of_squared_comp)**(1/self.p)\n",
        "        \n",
        "        \n",
        "    def __call__(self, x):\n",
        "        \"\"\"\n",
        "        This method calcualtes the distance (i.e. norm) for vector x in Lp space for a value p given by the use\n",
        "        \n",
        "        ‖𝑥‖𝑝 = (|𝑥_1|^𝑝 + |𝑥_2|^𝑝 + ⋯ +|𝑥_𝑛|^𝑝 )^1/𝑝\n",
        "        \n",
        "        Parameters\n",
        "        ----------\n",
        "        x: N-dimsional numpy array or tensorflow tensor of floats \n",
        "            x is our vector, could be a weight vector but any vector is valid \n",
        "            \n",
        "            \n",
        "        HINT\n",
        "        -----\n",
        "        You must use self.p when calculating squared_vector_comps and vector_norm\n",
        "        \"\"\"\n",
        "        \n",
        "        self.x = x\n",
        "        \n",
        "        # calculate these parts |𝑥_i|^𝑝\n",
        "        self.calc_squared_vector_comps()\n",
        "        \n",
        "        # calcualte this |𝑥_1|^𝑝 + |𝑥_2|^𝑝 + ⋯ +|𝑥_𝑛|^𝑝\n",
        "        self.calc_sum_of_squared_comp()\n",
        "        \n",
        "        # calculate this (|𝑥_1|^𝑝 + |𝑥_2|^𝑝 + ⋯ +|𝑥_𝑛|^𝑝 )^1/𝑝\n",
        "        self.calc_vector_norm()\n",
        "        \n",
        "        # return the vector norm scaled by a regularization penality\n",
        "        # we say penality because the value is usually less than 1.0 thereby scaling down the norm\n",
        "        return self.reg_strength * self.vector_norm"
      ],
      "execution_count": 4,
      "outputs": []
    },
    {
      "cell_type": "markdown",
      "metadata": {
        "id": "Pr2RloiqZ8G2"
      },
      "source": [
        "------\n",
        "### Unit Test your code\n",
        "\n",
        "You know you wrote your class correctly when all the unit tests pass. \n",
        "\n",
        "So the code in the following cell should run without throwing a single error. \n",
        "\n",
        "Protip: you can comment out 2nd and 3rd unit test in order to test your results for the first method and then uncomment as you go. Feel free to create a new cell and run your own testing there. "
      ]
    },
    {
      "cell_type": "code",
      "metadata": {
        "id": "pNYUq_2OZ8G2"
      },
      "source": [
        "# instantiate the unit test class that will check the calculates of Lp_distance_metric_general_formula's methods\n",
        "tests = Test_distance_metric_solution()\n",
        "\n",
        "# instantiate Lp_distance_metric_general_formula, set p = 2 in order to derive the euclidean distance metric\n",
        "lp = Lp_distance_metric_general_formula( p=2, reg_strength = 1.0)\n",
        "\n",
        "# don't change this test_vector\n",
        "# Test_distance_metric_solution assumes that you're using ths exact test_vector\n",
        "test_vector = np.array([1., 2.])\n",
        "lp(test_vector)\n",
        "\n",
        "# test the calculations that are perform in each of the following lp class methods \n",
        "tests.test_squared_vector_comps(lp.squared_vector_comps)\n",
        "tests.test_sum_of_squared_comp(lp.sum_of_squared_comp)\n",
        "tests.test_vector_norm(lp.vector_norm.numpy())"
      ],
      "execution_count": 5,
      "outputs": []
    },
    {
      "cell_type": "code",
      "metadata": {
        "colab": {
          "base_uri": "https://localhost:8080/"
        },
        "id": "z9PRZwIlZ8G3",
        "outputId": "ca91d42c-b763-4b19-bc0a-2b3be046ee45"
      },
      "source": [
        "# note: because we use tf.reduce_sum to calculate sum_of_squared_comp\n",
        "# the result is inside of a tensor and we need to use .numpy() to get the scalar out of the tensor \n",
        "print (lp.vector_norm)"
      ],
      "execution_count": 6,
      "outputs": [
        {
          "output_type": "stream",
          "text": [
            "tf.Tensor(2.2360679774997894, shape=(), dtype=float64)\n"
          ],
          "name": "stdout"
        }
      ]
    },
    {
      "cell_type": "code",
      "metadata": {
        "colab": {
          "base_uri": "https://localhost:8080/"
        },
        "id": "FBK6eafjZ8G4",
        "outputId": "77d0d6cc-bac7-450b-a47c-0c5939a89d0a"
      },
      "source": [
        "print (lp.vector_norm.numpy())"
      ],
      "execution_count": 7,
      "outputs": [
        {
          "output_type": "stream",
          "text": [
            "2.2360679774997894\n"
          ],
          "name": "stdout"
        }
      ]
    },
    {
      "cell_type": "markdown",
      "metadata": {
        "id": "DSDE6NJoZ8G4"
      },
      "source": [
        "----"
      ]
    },
    {
      "cell_type": "markdown",
      "metadata": {
        "id": "OgpsMEd2Z8G4"
      },
      "source": [
        "### Apply our $L_p$ Space Class\n",
        "\n",
        "Next we will use our distance metric class in order to calculate the euclidean and taxicab distance of our vector below. "
      ]
    },
    {
      "cell_type": "code",
      "metadata": {
        "colab": {
          "base_uri": "https://localhost:8080/",
          "height": 378
        },
        "id": "hdVvMxGCZ8G5",
        "outputId": "5af7f401-f01e-4983-aab0-d19200228701"
      },
      "source": [
        "# W is a 2D vector with an x and y component, i.e. (x, y) = (4,3)\n",
        "w = np.array([4., 3.])\n",
        "\n",
        "# origin point - we need to specify the starting point for plotting\n",
        "origin = np.array([0,0])\n",
        "\n",
        "plt.figure(figsize=(10, 6))\n",
        "ax = plt.axes()\n",
        "\n",
        "ax.arrow(origin[0], origin[1], w[0], w[1], head_width=0.5, head_length=0.7, fc='lightblue', ec='black')\n",
        "\n",
        "plt.grid()\n",
        "plt.yticks(np.arange(0,5))\n",
        "plt.xticks(np.arange(0,6));"
      ],
      "execution_count": 8,
      "outputs": [
        {
          "output_type": "display_data",
          "data": {
            "image/png": "[encoded data removed]",
            "text/plain": [
              "<Figure size 720x432 with 1 Axes>"
            ]
          },
          "metadata": {
            "tags": [],
            "needs_background": "light"
          }
        }
      ]
    },
    {
      "cell_type": "markdown",
      "metadata": {
        "id": "mzVrjSVXZ8G5"
      },
      "source": [
        "## Derive Euclidean Distance from the General Formula \n",
        "\n",
        "This is the general formula for distance metrics. Where we have an N-dimensional weight vector **w**. Notice that the general formula has a vector component for each of the N dimensions. Hence, it is the general formula.\n",
        "\n",
        "$${\\displaystyle \\left\\|\\textbf{w}\\right\\|_{p}=\\left(|w_{1}|^{p}+|w_{2}|^{p}+\\dotsb +|w_{n}|^{p}\\right)^{1/p}.}$$\n",
        " \n",
        "\n",
        "Let N = 2 such that our weight vector now exists in 2 dimensional space. \n",
        "\n",
        "Let p = 2 such that our weight vector's distance will be calculated in $L_{p=2}$ space \n",
        "\n",
        "In which case our general formula gets reduced from N-dimensions to 2-dimensions. So now we only need to consider a distance formula for a vector with 2 components, one for each dimension.\n",
        "\n",
        "$$||\\textbf{w}||_{p=2} = ((x_2 - x_1)^2 + (y_2 - y_1)^2)^{1/2}$$\n",
        "\n",
        "Now just re-express the square root and we arrive at the familiar Euclidean Distance from high school algebra. \n",
        "\n",
        "$$||\\textbf{w}||_{p=2} = \\sqrt{(x_2 - x_1)^2 + (y_2 - y_1)^2}$$\n",
        "\n",
        "\n",
        "You might be wondering about why the general case doesn't have differences for the components but the Euclidean Distance does explicitly show the component wise differences. It is common in mathematics to suppress certain information, especially if that information is \"obvious\" - however what is obvious is highly relative. \n",
        "\n",
        "The general formula assumes that the vector starts at the origin, in which case, there's no need to show the subtraction of zero from a vector component. \n",
        "\n",
        "Assuming that our vector starts at the origin (and it does) the formula can be reduced to \n",
        "\n",
        "$$||\\textbf{w}||_{p=2} = \\sqrt{(x_2 - 0)^2 + (y_2 - 0)^2}$$\n",
        "\n",
        "$$||\\textbf{w}||_{p=2} = \\sqrt{x_2^2 + y_2^2}$$"
      ]
    },
    {
      "cell_type": "markdown",
      "metadata": {
        "id": "fwtyt_m3Z8G7"
      },
      "source": [
        "### Euclidean distance of our Vector \n",
        "\n",
        "With **p=2** in our `Lp_distance_metric_general_formula` class, we can calculate the euclidean distance of our vector **w**. I encourage you to either solve the euclidean distance of our vector either in your head or on paper to prove to yourself that the above formula that we derived works and gives you `5` as an answer. "
      ]
    },
    {
      "cell_type": "code",
      "metadata": {
        "deletable": false,
        "nbgrader": {
          "cell_type": "code",
          "checksum": "bf0cdea85e37c69f73956bf851cba8d6",
          "grade": false,
          "grade_id": "cell-74dae14f4bbad1ab",
          "locked": false,
          "schema_version": 3,
          "solution": true,
          "task": false
        },
        "colab": {
          "base_uri": "https://localhost:8080/"
        },
        "id": "qsujYvlXZ8G7",
        "outputId": "55065674-601a-46a7-a98d-ea68fe352ed0"
      },
      "source": [
        "w_p2 = np.sqrt((3**2)+(4**2))\n",
        "w_p2\n",
        "\n"
      ],
      "execution_count": 9,
      "outputs": [
        {
          "output_type": "execute_result",
          "data": {
            "text/plain": [
              "5.0"
            ]
          },
          "metadata": {
            "tags": []
          },
          "execution_count": 9
        }
      ]
    },
    {
      "cell_type": "markdown",
      "metadata": {
        "id": "F2XZQQHGZ8G8"
      },
      "source": [
        "-----\n",
        "\n",
        "## Derive Taxicab Distance from the General Formula \n",
        "\n",
        "This is the general formula for distance metrics. Where we have an N-dimensional weight vector **w**. Notice that the general formula has a vector component for each of the N dimensions. Hence, it is the general formula.\n",
        "\n",
        "$${\\displaystyle \\left\\|\\textbf{w}\\right\\|_{p}=\\left(|w_{1}|^{p}+|w_{2}|^{p}+\\dotsb +|w_{n}|^{p}\\right)^{1/p}.}$$\n",
        " \n",
        "\n",
        "Let N = 2 such that our weight vector now exists in 2 dimensional space. \n",
        "\n",
        "Let p = 1 such that our weight vector's distance will be calculated in $L_{p=1}$ space \n",
        "\n",
        "\n",
        "In which case our general formula gets reduced from N-dimensions to 2-dimensions. So now we only need to consider a distance formula for a vector with 2 components, one for each dimension.\n",
        "\n",
        "$$||\\textbf{w}||_{p=1} = ((x_2 - x_1)^1 + (y_2 - y_1)^1)^{1/1}$$\n",
        "\n",
        "There's no need to express all those 1's\n",
        "\n",
        "$$||\\textbf{w}||_{p=1} = (x_2 - x_1) + (y_2 - y_1) $$\n",
        "\n",
        "Assuming that our vector starts at the origin (which it does)\n",
        "\n",
        "$$||\\textbf{w}||_{p=1} = (x_2 - 0) + (y_2 - 0) $$\n",
        "\n",
        "\n",
        "\n",
        "$$||\\textbf{w}||_{p=1} = x + y $$\n",
        "\n",
        "We have just derived the Taxicab distance metric from the general formula. The above equation tells us to add up all the steps in the x and y direction in order to calculate the Taxicab distance."
      ]
    },
    {
      "cell_type": "markdown",
      "metadata": {
        "id": "MxyCh6vVZ8G8"
      },
      "source": [
        "### Taxicab distance of our Vector \n",
        "\n",
        "With **p=1** in our `Lp_distance_metric_general_formula` class, we can calculate the taxicab distance of our vector **w**. This distance we can easily calculate in our head. Look at the plot of the vector and simply add up all the x and y components, i.e. count up all the steps you have to take in order to \"walk\" from the origin to the head of the vector. Do this to prove to yourself that the taxicab distance of our vector is `7`. "
      ]
    },
    {
      "cell_type": "code",
      "metadata": {
        "deletable": false,
        "nbgrader": {
          "cell_type": "code",
          "checksum": "9a527c635255f30979d1759e4ecc480d",
          "grade": false,
          "grade_id": "cell-9bf41d7142ad35e9",
          "locked": false,
          "schema_version": 3,
          "solution": true,
          "task": false
        },
        "colab": {
          "base_uri": "https://localhost:8080/"
        },
        "id": "9nQUCUizZ8G9",
        "outputId": "dc70d783-d3f3-4a97-dea9-d819d36e8217"
      },
      "source": [
        "# use Lp_distance_metric_general_formula class to calculate the taxicab distance of w\n",
        "\n",
        "# YOUR CODE HERE\n",
        "w_p1 = 4+3\n",
        "w_p1"
      ],
      "execution_count": 10,
      "outputs": [
        {
          "output_type": "execute_result",
          "data": {
            "text/plain": [
              "7"
            ]
          },
          "metadata": {
            "tags": []
          },
          "execution_count": 10
        }
      ]
    },
    {
      "cell_type": "markdown",
      "metadata": {
        "id": "aqdqOfobZ8G9"
      },
      "source": [
        "### Elastic Net Distance \n",
        "\n",
        "\n",
        "Elastic Net is a combination of L1 and L2. Compare the geometry below. \n",
        "\n",
        "![](https://ds100.org/sp17/assets/notebooks/linear_regression/norm_balls.png)\n",
        "\n",
        "The mathematical derivation of the distance metric for  $L_{p=3/2}$ space will be left to you as an optional exercise. "
      ]
    },
    {
      "cell_type": "code",
      "metadata": {
        "deletable": false,
        "nbgrader": {
          "cell_type": "code",
          "checksum": "0f19be155b2e5be75c855710eab34cdd",
          "grade": false,
          "grade_id": "cell-d657c845dbb1ab23",
          "locked": false,
          "schema_version": 3,
          "solution": true,
          "task": false
        },
        "colab": {
          "base_uri": "https://localhost:8080/"
        },
        "id": "WLbB_Y1pZ8G-",
        "outputId": "6de0796d-2e56-441b-a189-056f6d47b92c"
      },
      "source": [
        "# use Lp_distance_metric_general_formula class to calculate the Elastic Net distance of w\n",
        "\n",
        "# YOUR CODE HERE\n",
        "net_distance = w_p2 - w_p1\n",
        "net_distance"
      ],
      "execution_count": 11,
      "outputs": [
        {
          "output_type": "execute_result",
          "data": {
            "text/plain": [
              "-2.0"
            ]
          },
          "metadata": {
            "tags": []
          },
          "execution_count": 11
        }
      ]
    },
    {
      "cell_type": "markdown",
      "metadata": {
        "id": "mMaayMb4Z8G-"
      },
      "source": [
        "-----\n",
        "\n",
        "## Use Custom Lp Space class in modeling\n",
        "\n",
        "Let's create a function that returns complied keras models so that we can run an experiment in order to compare the modeling results from using a keras L2 and our custom L2 regularizer. "
      ]
    },
    {
      "cell_type": "markdown",
      "metadata": {
        "id": "THwlvQvXZ8G_"
      },
      "source": [
        "-----\n",
        "### Load Data"
      ]
    },
    {
      "cell_type": "code",
      "metadata": {
        "id": "QFJ952R5Z8G_"
      },
      "source": [
        "def load_data():\n",
        "    \"\"\"\n",
        "    Load in and normalize image data set\n",
        "    \"\"\"\n",
        "    \n",
        "    # load in our dataset \n",
        "    (X_train, y_train), (X_test, y_test) = fashion_mnist.load_data()\n",
        "\n",
        "    # normalize pixel values between 0 and 1 \n",
        "    max_pixel_value = X_train.max()\n",
        "    X_train, X_test = X_train /max_pixel_value , X_test / max_pixel_value\n",
        "    \n",
        "    return X_train, y_train, X_test, y_test"
      ],
      "execution_count": 12,
      "outputs": []
    },
    {
      "cell_type": "code",
      "metadata": {
        "colab": {
          "base_uri": "https://localhost:8080/"
        },
        "id": "Wl5tTJauZ8HA",
        "outputId": "db78dd21-90d2-4c90-b80f-d2384792f567"
      },
      "source": [
        "X_train, y_train, X_test, y_test = load_data()"
      ],
      "execution_count": 13,
      "outputs": [
        {
          "output_type": "stream",
          "text": [
            "Downloading data from https://storage.googleapis.com/tensorflow/tf-keras-datasets/train-labels-idx1-ubyte.gz\n",
            "32768/29515 [=================================] - 0s 0us/step\n",
            "Downloading data from https://storage.googleapis.com/tensorflow/tf-keras-datasets/train-images-idx3-ubyte.gz\n",
            "26427392/26421880 [==============================] - 0s 0us/step\n",
            "Downloading data from https://storage.googleapis.com/tensorflow/tf-keras-datasets/t10k-labels-idx1-ubyte.gz\n",
            "8192/5148 [===============================================] - 0s 0us/step\n",
            "Downloading data from https://storage.googleapis.com/tensorflow/tf-keras-datasets/t10k-images-idx3-ubyte.gz\n",
            "4423680/4422102 [==============================] - 0s 0us/step\n"
          ],
          "name": "stdout"
        }
      ]
    },
    {
      "cell_type": "code",
      "metadata": {
        "colab": {
          "base_uri": "https://localhost:8080/"
        },
        "id": "NlULItWZZ8HA",
        "outputId": "16243aec-d70a-465f-a992-61741d11502c"
      },
      "source": [
        "# this is equal to the number of nodes in the output layer\n",
        "N_labels = len(np.unique(y_train))\n",
        "N_labels"
      ],
      "execution_count": 14,
      "outputs": [
        {
          "output_type": "execute_result",
          "data": {
            "text/plain": [
              "10"
            ]
          },
          "metadata": {
            "tags": []
          },
          "execution_count": 14
        }
      ]
    },
    {
      "cell_type": "code",
      "metadata": {
        "id": "-HRdj7fgZ8HA"
      },
      "source": [
        "def create_model(reg=None):\n",
        "    # instantiate Sequential class\n",
        "    model = Sequential([\n",
        "\n",
        "    # flatten images \n",
        "        Flatten(input_shape=(28,28)), # images will be flattend out to 784 dims row vectors \n",
        "\n",
        "    # hidden layer 1\n",
        "        Dense(500, kernel_regularizer=reg),\n",
        "\n",
        "    # act func 1\n",
        "        ReLU(negative_slope=0.01),\n",
        "\n",
        "    # output layer \n",
        "        Dense(10, activation =\"softmax\")   \n",
        "    ])\n",
        "\n",
        "    # compile model \n",
        "    model.compile(loss=\"sparse_categorical_crossentropy\", \n",
        "                  optimizer= \"adam\", \n",
        "                  metrics=[\"accuracy\"])\n",
        "    \n",
        "    return model"
      ],
      "execution_count": 15,
      "outputs": []
    },
    {
      "cell_type": "markdown",
      "metadata": {
        "id": "BbuU26-5Z8HB"
      },
      "source": [
        "----\n",
        "\n",
        "## Experiment 1: Calculate vector lengths using Keras and Custom Regularizer"
      ]
    },
    {
      "cell_type": "markdown",
      "metadata": {
        "id": "zkAF1AYjZ8HC"
      },
      "source": [
        "\n",
        "\n",
        "If you read the [**Keras Documentation**](https://keras.io/api/layers/regularizers/) for their implementation of L2 regularization you'll see this:\n",
        "\n",
        "    The L2 regularization penalty is computed as: loss = l2 * reduce_sum(square(x))\n",
        "    \n",
        "Notice that Keras isn't taking the square root for L2 where as we are take the square root. \n",
        "\n",
        "Why isn't Keras taking the square root? I don't know but we will stay true to the math and take the square root for our implementation of L2 regularization. \n",
        "\n"
      ]
    },
    {
      "cell_type": "code",
      "metadata": {
        "colab": {
          "base_uri": "https://localhost:8080/"
        },
        "id": "0H-4LYbOZ8HC",
        "outputId": "de83f381-af0c-400b-a48a-b824ba5b7774"
      },
      "source": [
        "custom_l2 = Lp_distance_metric_general_formula(p=2, reg_strength = 1.0)\n",
        "# the length of the W vector from above as calcualted by the formula that we derived \n",
        "custom_l2(w).numpy()"
      ],
      "execution_count": 16,
      "outputs": [
        {
          "output_type": "execute_result",
          "data": {
            "text/plain": [
              "5.0"
            ]
          },
          "metadata": {
            "tags": []
          },
          "execution_count": 16
        }
      ]
    },
    {
      "cell_type": "code",
      "metadata": {
        "colab": {
          "base_uri": "https://localhost:8080/"
        },
        "id": "jiWuLGtAZ8HE",
        "outputId": "b127430c-b050-4ae5-d8a5-53a7a05bbc91"
      },
      "source": [
        "from keras.regularizers import L2\n",
        "keras_l2 = L2(l2=1.0)\n",
        "# again Keras doesn't take the square root\n",
        "keras_l2(w).numpy()"
      ],
      "execution_count": 17,
      "outputs": [
        {
          "output_type": "execute_result",
          "data": {
            "text/plain": [
              "25.0"
            ]
          },
          "metadata": {
            "tags": []
          },
          "execution_count": 17
        }
      ]
    },
    {
      "cell_type": "code",
      "metadata": {
        "colab": {
          "base_uri": "https://localhost:8080/"
        },
        "id": "sOx2IOJpZ8HF",
        "outputId": "dc5065e1-11a0-446e-d941-59061f124ade"
      },
      "source": [
        "# but if we take the square root, then we get the same answer that our custom regularizer class gives us \n",
        "np.sqrt(keras_l2(w).numpy())"
      ],
      "execution_count": 18,
      "outputs": [
        {
          "output_type": "execute_result",
          "data": {
            "text/plain": [
              "5.0"
            ]
          },
          "metadata": {
            "tags": []
          },
          "execution_count": 18
        }
      ]
    },
    {
      "cell_type": "markdown",
      "metadata": {
        "id": "7tgRflE0Z8HG"
      },
      "source": [
        "----\n",
        "## Experiment 2: Compare Keras L2 and Custom L2 regularization in a model\n",
        "\n",
        "\n",
        "### Use Keras Built-in L2 regularizer \n",
        "\n",
        "Make sure to use the same regularization strength in the Keras pre-built L2 regularizer and in our custom L2 regularizer."
      ]
    },
    {
      "cell_type": "code",
      "metadata": {
        "colab": {
          "base_uri": "https://localhost:8080/"
        },
        "id": "BiG96PVUZ8HG",
        "outputId": "d7d76ff8-5e94-4839-a69e-6a849e42a64a"
      },
      "source": [
        "model_keras_l2 = create_model(reg=L2(l2=0.01))\n",
        "keras_l2_results = model_keras_l2.fit(X_train, y_train,\n",
        "                                      epochs=1,\n",
        "                                      validation_data=(X_test, y_test), \n",
        "                                      workers=10) # check! You might not be able to use 10 processors on your machine "
      ],
      "execution_count": 19,
      "outputs": [
        {
          "output_type": "stream",
          "text": [
            "1875/1875 [==============================] - 18s 2ms/step - loss: 1.6633 - accuracy: 0.7550 - val_loss: 0.7345 - val_accuracy: 0.7910\n"
          ],
          "name": "stdout"
        }
      ]
    },
    {
      "cell_type": "markdown",
      "metadata": {
        "id": "9QXAzfJpZ8HI"
      },
      "source": [
        "### Use Custom Regularization Class \n",
        "\n",
        "Make sure to use the same regularization strength in the Keras pre-built L2 regularizer and in our custom L2 regularizer."
      ]
    },
    {
      "cell_type": "code",
      "metadata": {
        "id": "oBVVjJy8Z8HJ"
      },
      "source": [
        "# set p= 2 so that we are using the same L2 regularizer as above\n",
        "lp = Lp_distance_metric_general_formula(p=2, reg_strength = 0.01)"
      ],
      "execution_count": 20,
      "outputs": []
    },
    {
      "cell_type": "code",
      "metadata": {
        "id": "osGACoG7Z8HJ"
      },
      "source": [
        "model_custom_l2 = create_model(reg=lp)\n",
        "custom_l2_results = model_custom_l2.fit(X_train, y_train,\n",
        "                                      epochs=1,\n",
        "                                      validation_data=(X_test, y_test), \n",
        "                                      workers=10) # check! You might not be able to use 10 processors on your machine "
      ],
      "execution_count": null,
      "outputs": []
    },
    {
      "cell_type": "markdown",
      "metadata": {
        "id": "OMycBegRZ8HK"
      },
      "source": [
        "----\n",
        "### Compare Model Results\n",
        "\n",
        "Let's compare the modeling results between the two models. \n",
        "\n",
        "Whatever the specific test accuracies are, it should be the case that using our custom class leads to slightly better results than using the Keras version of $L_2$ regularization.\n",
        "\n",
        "There a small difference between test accuracies, possible due to the random sampling for the initial weight values. But also possibly from the observation that we made above - Keras isn't taking the square root. "
      ]
    },
    {
      "cell_type": "code",
      "metadata": {
        "colab": {
          "base_uri": "https://localhost:8080/"
        },
        "id": "GtaM5s7dZ8HK",
        "outputId": "bc8e3f48-3c2c-4584-c84f-1d4f739ab763"
      },
      "source": [
        "_, keras_acc = model_keras_l2.evaluate(X_test, y_test)"
      ],
      "execution_count": 22,
      "outputs": [
        {
          "output_type": "stream",
          "text": [
            "313/313 [==============================] - 1s 2ms/step - loss: 0.7345 - accuracy: 0.7910\n"
          ],
          "name": "stdout"
        }
      ]
    },
    {
      "cell_type": "code",
      "metadata": {
        "id": "ZgtSxNqtZ8HL"
      },
      "source": [
        "_, custom_acc = model_custom_l2.evaluate(X_test, y_test)"
      ],
      "execution_count": null,
      "outputs": []
    },
    {
      "cell_type": "markdown",
      "metadata": {
        "id": "uPaO6dR5Z8HL"
      },
      "source": [
        "\n",
        "### Conclusion \n",
        "\n",
        "In this experiment, we have bridged the gap between the theory of **$L_p$ Space Regularization** and the practice of using the general formula as a starting point to derive and build our very own regularizers. \n",
        "\n",
        "This experiment (and the Perceptron that we build from scratch in Sprint 2 Module 1) are examples of **mathematical algorithms** - an algorithm in mathematics is a procedure, a description of a set of steps that can be used to solve a mathematical computation.\n",
        "\n",
        "It's one thing to use open-source pre-built mathematical algorithms like Keras regularizers and Sklearn ML models but it's quite another thing to build them from scratch. \n",
        "\n",
        "In industry, you'll need to know when you should build something from scratch and when to use an open source solution. The rule of thumb is don't build it if someone else already has because maintaining the code and fixing bugs is something that other developers (ie. the open-source community) can spend their time on and you don't have to. But if an open source solution doesn't exist for a solution that you need, then you'll need to build it or try an alternative solution.\n",
        "\n",
        "It's a good thing you're taking the time to practice building some mathematical algorithms from scratch. It's a very valuable skill to have. "
      ]
    },
    {
      "cell_type": "markdown",
      "metadata": {
        "id": "6HrW6K75Z8HM"
      },
      "source": [
        "-----\n",
        "# GridSearch Experiments \n",
        "\n",
        "The next set of experiments will all involve gridsearching regularization parameter values. \n",
        "\n",
        "The rest of the notebook will actually require very little coding on your part. Instead, the focus is for you to run those gridsearches and answer the questions at the end of each experiment. Those questions are designed to help you capture the insights that there are to learn from each of the experiments. \n",
        "\n",
        "All of the following experiments are designed to help you better understand the relationship between the various regularization techniques and how they affect model performance. \n",
        "\n",
        "\n",
        "### Build Model\n",
        "\n",
        "Let's build out the model that we'll be using all throughout our experiments. \n",
        "\n",
        "Remember that **the whole point of regularization is to prevent overfitting.**\n",
        "\n",
        "\n",
        "![](https://hackernoon.com/hn-images/1*vuZxFMi5fODz2OEcpG-S1g.png)\n",
        "\n",
        "Overfitting happens when are model's are too complex, so in order to see a benefit from the use of regularization techniques we need to build a relatively complex model. \n",
        "\n",
        "Having said that, you might not have the computational resource to be able to train a complex model in a reasonable amount of time. So if this describes you, then you might want to consider using `build_simple_model`. Otherwise, I recommend that you use `build_complex_model`. \n",
        "\n",
        "This notebook will be using  `build_complex_model` to run our experiments. \n",
        "\n",
        "**NOTE:** Whichever function you end up using to build a model, take time to read through the code and make sure you understand what is happening. "
      ]
    },
    {
      "cell_type": "code",
      "metadata": {
        "id": "U5_4lph1Z8HM"
      },
      "source": [
        "def build_complex_model(Lp_reg=None, reg_penality=None, dropout_prob=0.0, maxnorm_wc=None):\n",
        "    \"\"\"\n",
        "    Build and return a regularized 3 hidden layer FCFF model \n",
        "    \n",
        "    Parameters\n",
        "    ----------\n",
        "    Lp_reg: None or object\n",
        "        If object, Lp_reg is either l1 or l2 regularization \n",
        "        If None, that means that l1 or l2 regularization will not be used.\n",
        "     \n",
        "    reg_penality: None or float\n",
        "        If float, reg_penality is a value typically between 1.0 and 0.0001\n",
        "        This is the regularization strength for l1 or l2 \n",
        "        \n",
        "        \n",
        "    dropout_prob: float\n",
        "        This is the probability that dropout regularization will exclude a node from a training iteration. \n",
        "        If this value is 0.0, that means that dropout will not be used. \n",
        "        \n",
        "    maxnorm_wc: None or float\n",
        "        If float, maxnorm_wc is the weight constraint that is used for Max Norm regularization\n",
        "        If None, that means that Max Norm regularization will not be used.\n",
        "        \n",
        "        \n",
        "    Return\n",
        "    ------\n",
        "    model: complied Keras model\n",
        "    \"\"\"\n",
        "    \n",
        "    # if reg_type is not None, then pass in the penality strength to whatever form of Lp space regularization this is \n",
        "    if Lp_reg is not None:\n",
        "        Lp_regularizer = Lp_reg(reg_penality)\n",
        "    else:\n",
        "        Lp_regularizer = None\n",
        "                \n",
        "    if maxnorm_wc is not None:\n",
        "        wc = MaxNorm(max_value=maxnorm_wc)\n",
        "    else:\n",
        "        wc = None\n",
        "\n",
        "\n",
        "    # instantiate Sequential class\n",
        "    model = Sequential([\n",
        "\n",
        "    # flatten images \n",
        "    Flatten(input_shape=(28,28)),\n",
        "\n",
        "    # hidden layer 1\n",
        "    Dense(500, kernel_regularizer=Lp_regularizer , kernel_constraint=wc), # remember that Keras refers to weight matrix as a kernel, i.e. weights = kernel\n",
        "    # act func 1\n",
        "    ReLU(negative_slope=0.01),\n",
        "    Dropout(dropout_prob),\n",
        "\n",
        "    # hidden layer 2\n",
        "    Dense(250, kernel_regularizer=Lp_regularizer, kernel_constraint=wc),\n",
        "    # act func 2\n",
        "    ReLU(negative_slope=0.01),\n",
        "    Dropout(dropout_prob),\n",
        "\n",
        "    # hidden layer 3\n",
        "    Dense(100, kernel_regularizer=Lp_regularizer, kernel_constraint=wc),\n",
        "    # act func 2\n",
        "    ReLU(negative_slope=0.01),\n",
        "    Dropout(dropout_prob),\n",
        "\n",
        "    # output layer   \n",
        "    Dense(N_labels, activation=\"softmax\")  \n",
        "\n",
        "    ])\n",
        "    # complie model \n",
        "    model.compile(loss=\"sparse_categorical_crossentropy\", \n",
        "                 optimizer=\"adam\", \n",
        "                 metrics=[\"accuracy\"])\n",
        "    \n",
        "    return model"
      ],
      "execution_count": 24,
      "outputs": []
    },
    {
      "cell_type": "markdown",
      "metadata": {
        "id": "ojDPWAT6Z8HN"
      },
      "source": [
        "Again, only use `build_simple_model` instead of `build_complex_model` if you're working on a machine with very limited computational resource. "
      ]
    },
    {
      "cell_type": "code",
      "metadata": {
        "id": "FVrIMOrlZ8HN"
      },
      "source": [
        "# def build_simple_model(Lp_reg=None, reg_penality=None, dropout_prob=0, maxnorm_wc=None):\n",
        "#     \"\"\"\n",
        "#     Build and return a regularized 1 hidden layer FCFF model \n",
        "    \n",
        "#     Parameters\n",
        "#     ----------\n",
        "#     Lp_reg: None or object\n",
        "#         If object, Lp_reg is either l1 or l2 regularization \n",
        "#         If None, that means that l1 or l2 regularization will not be used.\n",
        "     \n",
        "#     reg_penality: None or float\n",
        "#         If float, reg_penality is a value typically between 1.0 and 0.0001\n",
        "#         This is the regularization strength for l1 or l2 \n",
        "        \n",
        "        \n",
        "#     dropout_prob: float\n",
        "#         This is the probability that dropout regularization will exclude a node from a training iteration. \n",
        "#         If this value is 0.0, that means that dropout will not be used. \n",
        "        \n",
        "#     maxnorm_wc: None or float\n",
        "#         If float, maxnorm_wc is the weight constraint that is used for Max Norm regularization\n",
        "#         If None, that means that Max Norm regularization will not be used.\n",
        "        \n",
        "        \n",
        "#     Return\n",
        "#     ------\n",
        "#     model: complied Keras model\n",
        "#     \"\"\"\n",
        "    \n",
        "#     if Lp_reg is not None:\n",
        "#         Lp_regularizer = Lp_reg(reg_penality)\n",
        "#     else:\n",
        "#         Lp_regularizer = None\n",
        "\n",
        "#     # instantiate Sequential class\n",
        "#     model = Sequential([\n",
        "\n",
        "#     # flatten images \n",
        "#     Flatten(input_shape=(28,28)),\n",
        "\n",
        "#     # hidden layer 1\n",
        "#     Dense(128,  kernel_regularizer=Lp_regularizer, kernel_constraint=maxnorm_wc), # remember that Keras refers to weight matrix as a kernel, i.e. weights = kernel\n",
        "#     # act func 1\n",
        "#     ReLU(negative_slope=0.01),\n",
        "#     Dropout(p_dropout),\n",
        "\n",
        "#     # output layer   \n",
        "#     Dense(N_labels, activation=\"softmax\")  \n",
        "\n",
        "#     ])\n",
        "#     # complie model \n",
        "#     model.compile(loss=\"sparse_categorical_crossentropy\", \n",
        "#                  optimizer=\"adam\", \n",
        "#                  metrics=[\"accuracy\"])\n",
        "    \n",
        "#     return model"
      ],
      "execution_count": null,
      "outputs": []
    },
    {
      "cell_type": "markdown",
      "metadata": {
        "id": "QlIleo3cZ8HO"
      },
      "source": [
        "Since we'll be using Sklearn's GridserchCV class, we need to wrap our Keras models in `KerasClassifier`"
      ]
    },
    {
      "cell_type": "code",
      "metadata": {
        "id": "kTiCCp_iZ8HO"
      },
      "source": [
        "# remember to wrap KerasClassifier around build_model for sklearn's GridsearchCV compatibility \n",
        "model = KerasClassifier(build_fn = build_complex_model)"
      ],
      "execution_count": 25,
      "outputs": []
    },
    {
      "cell_type": "markdown",
      "metadata": {
        "id": "H7cUVOvNZ8HO"
      },
      "source": [
        "-------\n",
        "\n",
        "# Experiment 1: Identify the relationship between model performance and L2 penalty strength\n",
        "\n",
        "![](https://www.researchgate.net/publication/334159821/figure/fig1/AS:776025558495234@1562030319993/Ridge-regression-variable-selection.png)\n",
        "\n",
        "We are going to run a gridsearch soley on the l2 regularization penalty value and see the effect this has on model performance. \n",
        "\n",
        "By running a gridseach on only a single hyperparameter (while using the same data and model) we can isolate the effect of that hyperparameter. "
      ]
    },
    {
      "cell_type": "code",
      "metadata": {
        "id": "uFS82DOwZ8HP"
      },
      "source": [
        "# build out our hyperparameter dictionary \n",
        "hyper_parameters = {\n",
        "    # take note that Lp_reg penalty/strength values are in powers of 10 \n",
        "    \"reg_penality\": [1.0, 0.1, 0.01, 0.001, 0.0001, 0.00001], \n",
        "    # Since we only want to test l2, provide l2 as the sole option \n",
        "    \"Lp_reg\": [l2],\n",
        "    # default is 1, in order to change it we must provide value here because we can't provide a parameter value for model.fit() directly when using gridsearch\n",
        "    # protip: consider chanign epochs to 1 if the gridsearche run-time are too long for you\n",
        "    \"epochs\": [1] \n",
        "}"
      ],
      "execution_count": 26,
      "outputs": []
    },
    {
      "cell_type": "code",
      "metadata": {
        "colab": {
          "base_uri": "https://localhost:8080/"
        },
        "id": "1bbbzI5hZ8HP",
        "outputId": "ebcef39d-781f-46e2-b5cc-cbd3b674fa74"
      },
      "source": [
        "start=time()\n",
        "# Create and run Grid Search\n",
        "grid = GridSearchCV(estimator=model, \n",
        "                    param_grid=hyper_parameters, \n",
        "                    n_jobs=-3, \n",
        "                    verbose=1, \n",
        "                    cv=2)\n",
        "\n",
        "grid_result = grid.fit(X_train, y_train)\n",
        "end=time()"
      ],
      "execution_count": 27,
      "outputs": [
        {
          "output_type": "stream",
          "text": [
            "Fitting 2 folds for each of 6 candidates, totalling 12 fits\n"
          ],
          "name": "stdout"
        },
        {
          "output_type": "stream",
          "text": [
            "[Parallel(n_jobs=-3)]: Using backend SequentialBackend with 1 concurrent workers.\n"
          ],
          "name": "stderr"
        },
        {
          "output_type": "stream",
          "text": [
            "938/938 [==============================] - 3s 2ms/step - loss: 119.4045 - accuracy: 0.1630\n",
            "938/938 [==============================] - 2s 2ms/step - loss: 2.3029 - accuracy: 0.0982\n",
            "938/938 [==============================] - 3s 2ms/step - loss: 119.0395 - accuracy: 0.1594\n",
            "938/938 [==============================] - 2s 2ms/step - loss: 2.3032 - accuracy: 0.0995\n",
            "938/938 [==============================] - 3s 2ms/step - loss: 13.8272 - accuracy: 0.5489\n",
            "938/938 [==============================] - 2s 2ms/step - loss: 1.4358 - accuracy: 0.6527\n",
            "938/938 [==============================] - 3s 2ms/step - loss: 13.8307 - accuracy: 0.5316\n",
            "938/938 [==============================] - 2s 2ms/step - loss: 1.4882 - accuracy: 0.6267\n",
            "938/938 [==============================] - 3s 2ms/step - loss: 3.2415 - accuracy: 0.7213\n",
            "938/938 [==============================] - 2s 2ms/step - loss: 0.9132 - accuracy: 0.7807\n",
            "938/938 [==============================] - 3s 2ms/step - loss: 3.3331 - accuracy: 0.7179\n",
            "938/938 [==============================] - 2s 2ms/step - loss: 0.8587 - accuracy: 0.8085\n",
            "938/938 [==============================] - 3s 2ms/step - loss: 1.3442 - accuracy: 0.7482\n",
            "938/938 [==============================] - 2s 2ms/step - loss: 0.7275 - accuracy: 0.8336\n",
            "938/938 [==============================] - 3s 2ms/step - loss: 1.3325 - accuracy: 0.7476\n",
            "938/938 [==============================] - 2s 2ms/step - loss: 0.7087 - accuracy: 0.8438\n",
            "938/938 [==============================] - 3s 2ms/step - loss: 0.7993 - accuracy: 0.7488\n",
            "938/938 [==============================] - 2s 2ms/step - loss: 0.5186 - accuracy: 0.8405\n",
            "938/938 [==============================] - 3s 2ms/step - loss: 0.7989 - accuracy: 0.7464\n",
            "938/938 [==============================] - 2s 2ms/step - loss: 0.5062 - accuracy: 0.8470\n",
            "938/938 [==============================] - 3s 2ms/step - loss: 0.7162 - accuracy: 0.7468\n",
            "938/938 [==============================] - 2s 2ms/step - loss: 0.4422 - accuracy: 0.8439\n",
            "938/938 [==============================] - 3s 2ms/step - loss: 0.6860 - accuracy: 0.7547\n",
            "938/938 [==============================] - 2s 2ms/step - loss: 0.4292 - accuracy: 0.8496\n"
          ],
          "name": "stdout"
        },
        {
          "output_type": "stream",
          "text": [
            "[Parallel(n_jobs=-3)]: Done  12 out of  12 | elapsed:  1.2min finished\n"
          ],
          "name": "stderr"
        },
        {
          "output_type": "stream",
          "text": [
            "1875/1875 [==============================] - 5s 2ms/step - loss: 0.6066 - accuracy: 0.7873\n"
          ],
          "name": "stdout"
        }
      ]
    },
    {
      "cell_type": "code",
      "metadata": {
        "colab": {
          "base_uri": "https://localhost:8080/"
        },
        "id": "dw4HSKNNZ8HQ",
        "outputId": "a85f53ae-50d8-47e8-ef4c-98f5bde8e02d"
      },
      "source": [
        "print(\"Gridsearch runtime {0:.3} mins\".format( (end-start)/60 ))"
      ],
      "execution_count": 28,
      "outputs": [
        {
          "output_type": "stream",
          "text": [
            "Gridsearch runtime 1.27 mins\n"
          ],
          "name": "stdout"
        }
      ]
    },
    {
      "cell_type": "code",
      "metadata": {
        "colab": {
          "base_uri": "https://localhost:8080/",
          "height": 343
        },
        "id": "2tpErNW9Z8HQ",
        "outputId": "28016851-f251-43b2-f65a-1fa0e862c59d"
      },
      "source": [
        "# use the mean accuracy from the CV splits for determining best model score \n",
        "means = grid_result.cv_results_['mean_test_score']\n",
        "stds = grid_result.cv_results_['std_test_score']\n",
        "params = grid_result.cv_results_['params']\n",
        "\n",
        "# move l2 penalty values outside of dictionary and into a list\n",
        "param_values = [dic[\"reg_penality\"] for dic in params]\n",
        "\n",
        "# plot accuracy vs l2_reg_penalty\n",
        "plt.figure(figsize=(20,6))\n",
        "plt.grid()\n",
        "\n",
        "# this plot is using the std of the CV splits to plot error bars however those values are so small that they aren't visable\n",
        "plt.errorbar(param_values, means, yerr=stds, ecolor=\"orange\")\n",
        "plt.xscale(\"log\") # use a log scale for ease of reading, recall that l2_reg_penalty were in powers of 10 \n",
        "plt.title(\"L2 Regularization: Model Accuracy vs L2 Penalty Strength\")\n",
        "plt.ylabel(\"Validation Accuracy\", )\n",
        "plt.xlabel(\"L2 Penalty Strength usng a Log Scale\");"
      ],
      "execution_count": 29,
      "outputs": [
        {
          "output_type": "display_data",
          "data": {
            "image/png": "[encoded data removed]",
            "text/plain": [
              "<Figure size 1440x432 with 1 Axes>"
            ]
          },
          "metadata": {
            "tags": [],
            "needs_background": "light"
          }
        }
      ]
    },
    {
      "cell_type": "markdown",
      "metadata": {
        "id": "mcxag84HZ8HQ"
      },
      "source": [
        "### Observations\n",
        "\n",
        "Write down some observations. What do you notice from the plot?"
      ]
    },
    {
      "cell_type": "markdown",
      "metadata": {
        "deletable": false,
        "nbgrader": {
          "cell_type": "markdown",
          "checksum": "089b55b5a84d9c96c51fd341d9e6c74f",
          "grade": true,
          "grade_id": "cell-010212fc0915b976",
          "locked": false,
          "points": 0,
          "schema_version": 3,
          "solution": true,
          "task": false
        },
        "id": "rD1_3-xJZ8HR"
      },
      "source": [
        "YOUR ANSWER HERE **As the penality strangth increases the validation accuracy decreases and arrives closer to 0**"
      ]
    },
    {
      "cell_type": "markdown",
      "metadata": {
        "id": "zugCSQWeZ8HR"
      },
      "source": [
        "\n",
        "## Compare Weights between Best and Worse Model \n",
        "\n",
        "Next, we are going to compare the hidden layer weights between the best and worse performing model while taking note of the respective l2 penalty strengths."
      ]
    },
    {
      "cell_type": "code",
      "metadata": {
        "id": "FwzRuJUSZ8HR"
      },
      "source": [
        "# get the best l2 penalty term \n",
        "best_lr_penalty = grid_result.best_params_[\"reg_penality\"]\n",
        "\n",
        "# get the best trained model \n",
        "best_model = grid_result.best_estimator_.build_fn(Lp_reg=l2, reg_penality=best_lr_penalty)\n",
        "\n",
        "# get the weights from the best trained model \n",
        "best_weights = best_model.get_weights()"
      ],
      "execution_count": 30,
      "outputs": []
    },
    {
      "cell_type": "code",
      "metadata": {
        "colab": {
          "base_uri": "https://localhost:8080/"
        },
        "id": "s_Sau4tgZ8HS",
        "outputId": "6f5fcb8c-040e-47f5-c925-afee4abbaaf2"
      },
      "source": [
        "# train a model using the l2_reg_penalty value at scored the lowest \n",
        "worse_l2_reg_penalty = 1.0\n",
        "\n",
        "worse_model = build_complex_model(Lp_reg=l2, reg_penality=worse_l2_reg_penalty)\n",
        "\n",
        "# fit model \n",
        "worse_model.fit(X_train, y_train, epochs=1)\n",
        "\n",
        "# get weights from worse performing model \n",
        "worse_weights = worse_model.get_weights()"
      ],
      "execution_count": 31,
      "outputs": [
        {
          "output_type": "stream",
          "text": [
            "1875/1875 [==============================] - 5s 2ms/step - loss: 70.0269 - accuracy: 0.1403\n"
          ],
          "name": "stdout"
        }
      ]
    },
    {
      "cell_type": "markdown",
      "metadata": {
        "id": "nG-usG6hZ8HS"
      },
      "source": [
        "-----\n",
        "## Understanding how Weights and Biases are stored"
      ]
    },
    {
      "cell_type": "markdown",
      "metadata": {
        "id": "XHZoWtg1Z8HS"
      },
      "source": [
        "Let's take a minute to understand that`.get_weights()` returns a list with 8 elements (if you're using `build_complex_model`)."
      ]
    },
    {
      "cell_type": "code",
      "metadata": {
        "colab": {
          "base_uri": "https://localhost:8080/"
        },
        "id": "nh2K7bYpZ8HS",
        "outputId": "b96f76fe-2dc6-4a65-8ad1-ccf103967521"
      },
      "source": [
        "len(best_weights)"
      ],
      "execution_count": 32,
      "outputs": [
        {
          "output_type": "execute_result",
          "data": {
            "text/plain": [
              "8"
            ]
          },
          "metadata": {
            "tags": []
          },
          "execution_count": 32
        }
      ]
    },
    {
      "cell_type": "code",
      "metadata": {
        "colab": {
          "base_uri": "https://localhost:8080/"
        },
        "id": "AQZD6jy4Z8HT",
        "outputId": "084cc863-8b35-4c8c-f1aa-2dcb4c438e39"
      },
      "source": [
        "len(worse_weights)"
      ],
      "execution_count": 33,
      "outputs": [
        {
          "output_type": "execute_result",
          "data": {
            "text/plain": [
              "8"
            ]
          },
          "metadata": {
            "tags": []
          },
          "execution_count": 33
        }
      ]
    },
    {
      "cell_type": "markdown",
      "metadata": {
        "id": "DopH5EW9Z8HT"
      },
      "source": [
        "There are **weights matrices and bias vectors between each layer** and we have 5 layers. \n",
        "\n",
        "- Input\n",
        "- Hidden 1\n",
        "- Hidden 2\n",
        "- Hidden 3\n",
        "- Output \n",
        "\n",
        "So that means we should have 4 weight matrices, but we see 8. **There are also 4 weight vectors for the biases between each layer.** So that accounts for the 8. \n",
        "\n",
        "\n",
        "#### Index for Weight Matrices \n",
        "If you index for a weight matrix, you can see its shape and that they are indeed matrices. \n",
        "\n",
        "Notice how you can see the dims of the layers that the matrices are sandwiched between?\n",
        "\n",
        "Input layer has 784 dims and hidden layer 1 has 500 dims. Given this understanding, the numbers you see in the shapes should make sense. "
      ]
    },
    {
      "cell_type": "code",
      "metadata": {
        "colab": {
          "base_uri": "https://localhost:8080/"
        },
        "id": "7o9UF2WbZ8HU",
        "outputId": "556e9875-615e-492b-9acd-26f099d4593e"
      },
      "source": [
        "# bewteen input and 1st hidden layer\n",
        "best_weights[0].shape"
      ],
      "execution_count": 34,
      "outputs": [
        {
          "output_type": "execute_result",
          "data": {
            "text/plain": [
              "(784, 500)"
            ]
          },
          "metadata": {
            "tags": []
          },
          "execution_count": 34
        }
      ]
    },
    {
      "cell_type": "code",
      "metadata": {
        "colab": {
          "base_uri": "https://localhost:8080/"
        },
        "id": "Od6MtWW2Z8HU",
        "outputId": "cf10137b-c25a-4d07-88ec-ae555f406696"
      },
      "source": [
        "# bewteen 1st and 2nd hidden layer\n",
        "best_weights[2].shape"
      ],
      "execution_count": 35,
      "outputs": [
        {
          "output_type": "execute_result",
          "data": {
            "text/plain": [
              "(500, 250)"
            ]
          },
          "metadata": {
            "tags": []
          },
          "execution_count": 35
        }
      ]
    },
    {
      "cell_type": "code",
      "metadata": {
        "colab": {
          "base_uri": "https://localhost:8080/"
        },
        "id": "DLK9j4xQZ8HU",
        "outputId": "908f1083-2ffb-4a33-a526-0463e614ce8d"
      },
      "source": [
        "# bewteen 2st and 3nd hidden layer\n",
        "best_weights[4].shape"
      ],
      "execution_count": 36,
      "outputs": [
        {
          "output_type": "execute_result",
          "data": {
            "text/plain": [
              "(250, 100)"
            ]
          },
          "metadata": {
            "tags": []
          },
          "execution_count": 36
        }
      ]
    },
    {
      "cell_type": "code",
      "metadata": {
        "colab": {
          "base_uri": "https://localhost:8080/"
        },
        "id": "2613uRcZZ8HV",
        "outputId": "cfec36d4-9b0d-450f-b546-0a3c043ac096"
      },
      "source": [
        "# bewteen 3rd hidden layer and output layer\n",
        "best_weights[6].shape"
      ],
      "execution_count": 37,
      "outputs": [
        {
          "output_type": "execute_result",
          "data": {
            "text/plain": [
              "(100, 10)"
            ]
          },
          "metadata": {
            "tags": []
          },
          "execution_count": 37
        }
      ]
    },
    {
      "cell_type": "markdown",
      "metadata": {
        "id": "eRIeQoqYZ8HV"
      },
      "source": [
        "#### Index for the bias vectors\n",
        "\n",
        "The shapes of the bias vectors should exactly match up the dims/nodes of each layer (excluding the input layer). "
      ]
    },
    {
      "cell_type": "code",
      "metadata": {
        "colab": {
          "base_uri": "https://localhost:8080/"
        },
        "id": "M6gwHrzPZ8HV",
        "outputId": "bf1ef395-3138-47c4-dd94-abc6d57c87f1"
      },
      "source": [
        "# for hidden layer 1 \n",
        "best_weights[1].shape"
      ],
      "execution_count": 38,
      "outputs": [
        {
          "output_type": "execute_result",
          "data": {
            "text/plain": [
              "(500,)"
            ]
          },
          "metadata": {
            "tags": []
          },
          "execution_count": 38
        }
      ]
    },
    {
      "cell_type": "code",
      "metadata": {
        "colab": {
          "base_uri": "https://localhost:8080/"
        },
        "id": "7n5JbQypZ8HW",
        "outputId": "14f0b99c-c975-436e-a83f-abd717d168e8"
      },
      "source": [
        "# for hidden layer 2 \n",
        "best_weights[3].shape"
      ],
      "execution_count": 39,
      "outputs": [
        {
          "output_type": "execute_result",
          "data": {
            "text/plain": [
              "(250,)"
            ]
          },
          "metadata": {
            "tags": []
          },
          "execution_count": 39
        }
      ]
    },
    {
      "cell_type": "code",
      "metadata": {
        "colab": {
          "base_uri": "https://localhost:8080/"
        },
        "id": "w2yFhO2CZ8HW",
        "outputId": "a733f598-904c-4365-f809-fa41617a3dde"
      },
      "source": [
        "# for hidden layer 3\n",
        "best_weights[5].shape"
      ],
      "execution_count": 40,
      "outputs": [
        {
          "output_type": "execute_result",
          "data": {
            "text/plain": [
              "(100,)"
            ]
          },
          "metadata": {
            "tags": []
          },
          "execution_count": 40
        }
      ]
    },
    {
      "cell_type": "code",
      "metadata": {
        "colab": {
          "base_uri": "https://localhost:8080/"
        },
        "id": "8ULQzJtnZ8HX",
        "outputId": "85fc67cc-2a53-46d4-88bb-4b871c232b75"
      },
      "source": [
        "# for output layer\n",
        "best_weights[7].shape"
      ],
      "execution_count": 41,
      "outputs": [
        {
          "output_type": "execute_result",
          "data": {
            "text/plain": [
              "(10,)"
            ]
          },
          "metadata": {
            "tags": []
          },
          "execution_count": 41
        }
      ]
    },
    {
      "cell_type": "markdown",
      "metadata": {
        "id": "zY10J_JKZ8HX"
      },
      "source": [
        "-----\n",
        "\n",
        "### Back to our Analysis of L2 space regularization (also known as Ridge)\n",
        "\n",
        "Let's do a comparison of the first weight matrix (between the input and 1st hidden layer) for the best and worse performing model as well as with the initial weight values that are randomly sampled from the GlorotUniform distribution.\n",
        "\n",
        "[**Check out the Keras docs for the Dense layer**](https://keras.io/api/layers/core_layers/dense/), you'll see that GlorotUniform is the default weight initializer. "
      ]
    },
    {
      "cell_type": "markdown",
      "metadata": {
        "id": "snP9AzPGZ8HY"
      },
      "source": [
        "Before we compare weights, let's take note of the following. \n",
        "\n",
        "Both `best_weights[0]` or `worse_weights[0]` are matrices with shape `(784, 500)`. \n",
        "\n",
        "If we flatten them, then we get `784 * 500 = 392000` weights. What does this mean exactly?\n",
        "\n",
        "Remember that we are working with the Fully Connected Forward Feeding model which looks something like this. \n",
        "\n",
        "![](https://pyimagesearch.com/wp-content/uploads/2016/08/simple_neural_network_header.jpg)\n",
        "\n",
        "The important thing to notice is that in `Fully Connected` models, each component in the input vectors gets passed to all the nodes in next layer. This means for our input vector with 784 dims, there are 784 **$w_1$** weights, each with a slightly different value, one for each of the 784 components in the input vector. \n",
        "\n",
        "So to keep our analysis simple, we are going to just analyze one column of the weight matrix. You could index for whatever column you want, but this notebook will assume that you have indexed for the weights in column one. This means that we will compare the affect that regularization had on all of the 784 **$w_1$** weights that exist in 500 dimensional space of hidden layer 1. \n",
        "\n",
        "In other words, by looking at just one column, we are narrowing our analysis to the distribution of values for w_1 oppose to mixing together the distributions of all the weights w_1, w_2, ..., w_500. This is done for simplicity of analysis, the goal being to empirically observe the affect of regularization on the weights. "
      ]
    },
    {
      "cell_type": "code",
      "metadata": {
        "deletable": false,
        "nbgrader": {
          "cell_type": "code",
          "checksum": "a3f75126a80a74dd71fb0a9ab2b8b89f",
          "grade": false,
          "grade_id": "cell-7882876b8973bc7b",
          "locked": false,
          "schema_version": 3,
          "solution": true,
          "task": false
        },
        "id": "a1HJt6k9Z8HZ"
      },
      "source": [
        "# index for the 1st column in the 1st hidden layer weights in best_weights and save to best_hidden_weights\n",
        "\n",
        "# index for the 1st column in the 1st hidden layer weights in worse_weights and save to worse_hidden_weights\n",
        "\n",
        "# Keras models randomly samples from the GlorotUniform distribution for the initial values of model weights \n",
        "# instantiate GlorotUniform and sample 500 weights and save to initial_weight_values\n",
        "# hint: use shape=(500,1)\n",
        "\n",
        "# lastly, flatten all of the above 3 variables so that you go from a matrix to a vector \n",
        "# otherwise, pandas will not like you and throw a fit \n",
        "\n",
        "# YOUR CODE HERE\n",
        "best_hidden_weights = best_weights[0][0].flatten()\n",
        "worse_hidden_weights = worse_weights[0][0].flatten()\n",
        "initializer = GlorotUniform(seed=1234)\n",
        "initial_weight_values = initializer(shape=(500,1)).numpy().flatten()"
      ],
      "execution_count": 42,
      "outputs": []
    },
    {
      "cell_type": "code",
      "metadata": {
        "id": "sNHdFf08Z8HZ"
      },
      "source": [
        "# move all weights to a dataframe for ease of analysis \n",
        "cols = [\"best_hidden_weights\", \"worse_hidden_weights\", \"initial_weight_values\"]\n",
        "data = [best_hidden_weights, worse_hidden_weights, initial_weight_values]\n",
        "df = pd.DataFrame(data=data).T\n",
        "df.columns = cols"
      ],
      "execution_count": 43,
      "outputs": []
    },
    {
      "cell_type": "code",
      "metadata": {
        "colab": {
          "base_uri": "https://localhost:8080/",
          "height": 294
        },
        "id": "QDZ4E10fZ8HZ",
        "outputId": "999b5dc4-7601-4758-9643-ab12272d43e0"
      },
      "source": [
        "# check out the statistics for each weight column \n",
        "df.describe()"
      ],
      "execution_count": 44,
      "outputs": [
        {
          "output_type": "execute_result",
          "data": {
            "text/html": [
              "<div>\n",
              "<style scoped>\n",
              "    .dataframe tbody tr th:only-of-type {\n",
              "        vertical-align: middle;\n",
              "    }\n",
              "\n",
              "    .dataframe tbody tr th {\n",
              "        vertical-align: top;\n",
              "    }\n",
              "\n",
              "    .dataframe thead th {\n",
              "        text-align: right;\n",
              "    }\n",
              "</style>\n",
              "<table border=\"1\" class=\"dataframe\">\n",
              "  <thead>\n",
              "    <tr style=\"text-align: right;\">\n",
              "      <th></th>\n",
              "      <th>best_hidden_weights</th>\n",
              "      <th>worse_hidden_weights</th>\n",
              "      <th>initial_weight_values</th>\n",
              "    </tr>\n",
              "  </thead>\n",
              "  <tbody>\n",
              "    <tr>\n",
              "      <th>count</th>\n",
              "      <td>500.000000</td>\n",
              "      <td>5.000000e+02</td>\n",
              "      <td>500.000000</td>\n",
              "    </tr>\n",
              "    <tr>\n",
              "      <th>mean</th>\n",
              "      <td>-0.001782</td>\n",
              "      <td>-5.544224e-09</td>\n",
              "      <td>0.002079</td>\n",
              "    </tr>\n",
              "    <tr>\n",
              "      <th>std</th>\n",
              "      <td>0.039267</td>\n",
              "      <td>1.075617e-07</td>\n",
              "      <td>0.061731</td>\n",
              "    </tr>\n",
              "    <tr>\n",
              "      <th>min</th>\n",
              "      <td>-0.068015</td>\n",
              "      <td>-1.709256e-06</td>\n",
              "      <td>-0.109263</td>\n",
              "    </tr>\n",
              "    <tr>\n",
              "      <th>25%</th>\n",
              "      <td>-0.036411</td>\n",
              "      <td>-3.382737e-18</td>\n",
              "      <td>-0.047005</td>\n",
              "    </tr>\n",
              "    <tr>\n",
              "      <th>50%</th>\n",
              "      <td>0.000693</td>\n",
              "      <td>2.014674e-22</td>\n",
              "      <td>0.001182</td>\n",
              "    </tr>\n",
              "    <tr>\n",
              "      <th>75%</th>\n",
              "      <td>0.030632</td>\n",
              "      <td>4.005930e-18</td>\n",
              "      <td>0.055509</td>\n",
              "    </tr>\n",
              "    <tr>\n",
              "      <th>max</th>\n",
              "      <td>0.068347</td>\n",
              "      <td>3.492583e-07</td>\n",
              "      <td>0.109095</td>\n",
              "    </tr>\n",
              "  </tbody>\n",
              "</table>\n",
              "</div>"
            ],
            "text/plain": [
              "       best_hidden_weights  worse_hidden_weights  initial_weight_values\n",
              "count           500.000000          5.000000e+02             500.000000\n",
              "mean             -0.001782         -5.544224e-09               0.002079\n",
              "std               0.039267          1.075617e-07               0.061731\n",
              "min              -0.068015         -1.709256e-06              -0.109263\n",
              "25%              -0.036411         -3.382737e-18              -0.047005\n",
              "50%               0.000693          2.014674e-22               0.001182\n",
              "75%               0.030632          4.005930e-18               0.055509\n",
              "max               0.068347          3.492583e-07               0.109095"
            ]
          },
          "metadata": {
            "tags": []
          },
          "execution_count": 44
        }
      ]
    },
    {
      "cell_type": "code",
      "metadata": {
        "colab": {
          "base_uri": "https://localhost:8080/",
          "height": 609
        },
        "id": "ARdRvC3AZ8Ha",
        "outputId": "dfd54562-f32e-43a0-f1f9-cd2f3f169762"
      },
      "source": [
        "# plot the distributions for each weight column \n",
        "df.hist(figsize=(20,12));"
      ],
      "execution_count": 45,
      "outputs": [
        {
          "output_type": "display_data",
          "data": {
            "image/png": "[encoded data removed]",
            "text/plain": [
              "<Figure size 1440x864 with 4 Axes>"
            ]
          },
          "metadata": {
            "tags": [],
            "needs_background": "light"
          }
        }
      ]
    },
    {
      "cell_type": "markdown",
      "metadata": {
        "id": "HrT4vDqcZ8Ha"
      },
      "source": [
        "## Observations \n",
        "\n",
        "Take a look at the statistical table and the plots. Then answer the following questions. \n",
        "\n",
        "**How do the hidden layer weights from the best performing model compare to the initial weight values?**"
      ]
    },
    {
      "cell_type": "markdown",
      "metadata": {
        "deletable": false,
        "nbgrader": {
          "cell_type": "markdown",
          "checksum": "5eacb66f89b216ae3b4bb3c4b7bd6d38",
          "grade": true,
          "grade_id": "cell-6add7cc400c4c716",
          "locked": false,
          "points": 0,
          "schema_version": 3,
          "solution": true,
          "task": false
        },
        "id": "raym8ZXBZ8Hb"
      },
      "source": [
        "YOUR ANSWER HERE Hidden layer weights are slightly higher"
      ]
    },
    {
      "cell_type": "markdown",
      "metadata": {
        "id": "iKrSISjSZ8Hb"
      },
      "source": [
        "**What was the effect of using a small l2 penalty value?**"
      ]
    },
    {
      "cell_type": "markdown",
      "metadata": {
        "deletable": false,
        "nbgrader": {
          "cell_type": "markdown",
          "checksum": "92ac1689b72d727ab7f4d261c5e76daa",
          "grade": true,
          "grade_id": "cell-5b4f11bba2d49639",
          "locked": false,
          "points": 0,
          "schema_version": 3,
          "solution": true,
          "task": false
        },
        "id": "It4tmEZ3Z8Hb"
      },
      "source": [
        "YOUR ANSWER HERE **if penality is small the the weight is too less and may not still overcome the overfit**"
      ]
    },
    {
      "cell_type": "markdown",
      "metadata": {
        "id": "-MTrMXxyZ8Hc"
      },
      "source": [
        "**What was the effect of using a large l2 penalty value?**"
      ]
    },
    {
      "cell_type": "markdown",
      "metadata": {
        "deletable": false,
        "nbgrader": {
          "cell_type": "markdown",
          "checksum": "3048a6d2805f61d6fb58372c42c3ac54",
          "grade": true,
          "grade_id": "cell-0a30b62e5e119555",
          "locked": false,
          "points": 0,
          "schema_version": 3,
          "solution": true,
          "task": false
        },
        "id": "s-zzthRsZ8Hc"
      },
      "source": [
        "YOUR ANSWER HERE **If the penality is very large it will add too much weight and thus may result in underfitting**"
      ]
    },
    {
      "cell_type": "markdown",
      "metadata": {
        "id": "Ty-1QO27Z8Hc"
      },
      "source": [
        "**Given what you know about L2 regularization, are you surprised by these results?**"
      ]
    },
    {
      "cell_type": "markdown",
      "metadata": {
        "deletable": false,
        "nbgrader": {
          "cell_type": "markdown",
          "checksum": "d8a2034f67badfe53f601873f7026dc0",
          "grade": true,
          "grade_id": "cell-c04d067161064011",
          "locked": false,
          "points": 0,
          "schema_version": 3,
          "solution": true,
          "task": false
        },
        "id": "bEOD3YXAZ8Hd"
      },
      "source": [
        "YOUR ANSWER HERE"
      ]
    },
    {
      "cell_type": "markdown",
      "metadata": {
        "id": "XxyX5EBdZ8Hd"
      },
      "source": [
        "----\n",
        "\n",
        "# Experiment 2: Identify the relationship between model performance and Max Norm Weight Constraint\n",
        "\n",
        "![](https://qph.fs.quoracdn.net/main-qimg-9d0dbf8074761b541ba80543ddfc9f73.webp)\n",
        "\n",
        "Recall from lecture that the **Norm** of a vector is just another word for the **length** of a vector.\n",
        "\n",
        "MaxNorm weight constraint puts a limit on the length of a weight vector.\n",
        "\n",
        "$$ \\text{Max_value_of_norm} >= {\\displaystyle \\left\\|x\\right\\|_{p}=\\left(|x_{1}|^{p}+|x_{2}|^{p}+\\dotsb +|x_{n}|^{p}\\right)^{1/p}.}$$  \n",
        "\n",
        "The effect that Lp regularization and Max Norm Weight Constraint have on the weights should be the same, but they go about it in different ways. \n",
        "\n",
        "Lp regularization (l1/Lasso and l2/Ridge) shrink the value of the weights. Where as Max Norm Weight Constraint puts a limit on how big the weight vector can be which, in effect, keeps the individual weight values small enough to keep the norm below that limit. \n",
        "\n",
        "In this experiment, we are going to run another gridseach but instead of using Lp space regularization as we did in the previous experiment, we are going to use MaxNorm and see what kind of effect that this type of regularization has on model performance and the learned weights. "
      ]
    },
    {
      "cell_type": "markdown",
      "metadata": {
        "id": "ma84nHliZ8Hd"
      },
      "source": [
        "Since we already built our model, we just need to update the `hyper_parameters` dictionary. "
      ]
    },
    {
      "cell_type": "code",
      "metadata": {
        "colab": {
          "base_uri": "https://localhost:8080/"
        },
        "id": "6xopkFqbZ8He",
        "outputId": "2053f698-c037-471b-8dc5-87763c831ac7"
      },
      "source": [
        "# build out our hyperparameter dictionary \n",
        "hyper_parameters = {\n",
        "    \n",
        "    \"maxnorm_wc\":[ 0.5,  1. ,  1.5,  2. ,  2.5,  3. ,  3.5,  4. ,  4.5,  5. ,  5.5,\n",
        "         6. ,  6.5,  7. ,  7.5,  8. ,  8.5,  9. ,  9.5, 10. ] , \n",
        "    # default is 1, in order to change it we must provide value here because we can't provide a parameter value for model.fit() directly when using gridsearch\n",
        "    # protip: consider changing epochs to 1 if the gridsearche run-time are too long for you    \n",
        "    \"epochs\": [1] \n",
        "}\n",
        "\n",
        "hyper_parameters"
      ],
      "execution_count": 46,
      "outputs": [
        {
          "output_type": "execute_result",
          "data": {
            "text/plain": [
              "{'epochs': [1],\n",
              " 'maxnorm_wc': [0.5,\n",
              "  1.0,\n",
              "  1.5,\n",
              "  2.0,\n",
              "  2.5,\n",
              "  3.0,\n",
              "  3.5,\n",
              "  4.0,\n",
              "  4.5,\n",
              "  5.0,\n",
              "  5.5,\n",
              "  6.0,\n",
              "  6.5,\n",
              "  7.0,\n",
              "  7.5,\n",
              "  8.0,\n",
              "  8.5,\n",
              "  9.0,\n",
              "  9.5,\n",
              "  10.0]}"
            ]
          },
          "metadata": {
            "tags": []
          },
          "execution_count": 46
        }
      ]
    },
    {
      "cell_type": "code",
      "metadata": {
        "colab": {
          "base_uri": "https://localhost:8080/"
        },
        "id": "6iLx3DksZ8He",
        "outputId": "acea7964-670a-4359-a8f0-76d801b8c4df"
      },
      "source": [
        "np.linspace(0.5, 10.0, num=20)"
      ],
      "execution_count": 47,
      "outputs": [
        {
          "output_type": "execute_result",
          "data": {
            "text/plain": [
              "array([ 0.5,  1. ,  1.5,  2. ,  2.5,  3. ,  3.5,  4. ,  4.5,  5. ,  5.5,\n",
              "        6. ,  6.5,  7. ,  7.5,  8. ,  8.5,  9. ,  9.5, 10. ])"
            ]
          },
          "metadata": {
            "tags": []
          },
          "execution_count": 47
        }
      ]
    },
    {
      "cell_type": "code",
      "metadata": {
        "colab": {
          "base_uri": "https://localhost:8080/"
        },
        "id": "jmFPYtMAZ8Hf",
        "outputId": "9942f424-6b4b-496a-bc94-422781b89724"
      },
      "source": [
        "start=time()\n",
        "# Create and run Grid Search\n",
        "grid = GridSearchCV(estimator=model, \n",
        "                    param_grid=hyper_parameters, \n",
        "                    n_jobs=-2, \n",
        "                    verbose=1, \n",
        "                    cv=2)\n",
        "\n",
        "grid_result = grid.fit(X_train, y_train)\n",
        "end=time()"
      ],
      "execution_count": 48,
      "outputs": [
        {
          "output_type": "stream",
          "text": [
            "Fitting 2 folds for each of 20 candidates, totalling 40 fits\n"
          ],
          "name": "stdout"
        },
        {
          "output_type": "stream",
          "text": [
            "[Parallel(n_jobs=-2)]: Using backend SequentialBackend with 1 concurrent workers.\n"
          ],
          "name": "stderr"
        },
        {
          "output_type": "stream",
          "text": [
            "938/938 [==============================] - 3s 2ms/step - loss: 0.7779 - accuracy: 0.7233\n",
            "938/938 [==============================] - 2s 2ms/step - loss: 0.5161 - accuracy: 0.8154\n",
            "938/938 [==============================] - 3s 2ms/step - loss: 0.8013 - accuracy: 0.7110\n",
            "938/938 [==============================] - 2s 2ms/step - loss: 0.5624 - accuracy: 0.7932\n",
            "938/938 [==============================] - 3s 3ms/step - loss: 0.7068 - accuracy: 0.7460\n",
            "938/938 [==============================] - 2s 2ms/step - loss: 0.5160 - accuracy: 0.8016\n",
            "938/938 [==============================] - 3s 2ms/step - loss: 0.7133 - accuracy: 0.7387\n",
            "938/938 [==============================] - 2s 2ms/step - loss: 0.4426 - accuracy: 0.8406\n",
            "938/938 [==============================] - 3s 2ms/step - loss: 0.6882 - accuracy: 0.7536\n",
            "938/938 [==============================] - 2s 2ms/step - loss: 0.4317 - accuracy: 0.8418\n",
            "938/938 [==============================] - 3s 2ms/step - loss: 0.7124 - accuracy: 0.7437\n",
            "938/938 [==============================] - 2s 2ms/step - loss: 0.4327 - accuracy: 0.8438\n",
            "938/938 [==============================] - 3s 2ms/step - loss: 0.6903 - accuracy: 0.7547\n",
            "938/938 [==============================] - 2s 2ms/step - loss: 0.4397 - accuracy: 0.8355\n",
            "938/938 [==============================] - 3s 2ms/step - loss: 0.7104 - accuracy: 0.7464\n",
            "938/938 [==============================] - 2s 2ms/step - loss: 0.4913 - accuracy: 0.8173\n",
            "938/938 [==============================] - 3s 2ms/step - loss: 0.6996 - accuracy: 0.7539\n",
            "938/938 [==============================] - 2s 2ms/step - loss: 0.4334 - accuracy: 0.8459\n",
            "938/938 [==============================] - 3s 2ms/step - loss: 0.7100 - accuracy: 0.7405\n",
            "938/938 [==============================] - 2s 2ms/step - loss: 0.5184 - accuracy: 0.8123\n",
            "938/938 [==============================] - 3s 2ms/step - loss: 0.6827 - accuracy: 0.7603\n",
            "938/938 [==============================] - 2s 2ms/step - loss: 0.4334 - accuracy: 0.8417\n",
            "938/938 [==============================] - 3s 3ms/step - loss: 0.6941 - accuracy: 0.7507\n",
            "938/938 [==============================] - 2s 2ms/step - loss: 0.4169 - accuracy: 0.8500\n",
            "938/938 [==============================] - 3s 2ms/step - loss: 0.7017 - accuracy: 0.7548\n",
            "938/938 [==============================] - 2s 2ms/step - loss: 0.4126 - accuracy: 0.8456\n",
            "938/938 [==============================] - 3s 2ms/step - loss: 0.6845 - accuracy: 0.7551\n",
            "938/938 [==============================] - 2s 2ms/step - loss: 0.4830 - accuracy: 0.8166\n",
            "938/938 [==============================] - 3s 2ms/step - loss: 0.6722 - accuracy: 0.7634\n",
            "938/938 [==============================] - 2s 2ms/step - loss: 0.4774 - accuracy: 0.8148\n",
            "938/938 [==============================] - 3s 2ms/step - loss: 0.6798 - accuracy: 0.7574\n",
            "938/938 [==============================] - 2s 2ms/step - loss: 0.4404 - accuracy: 0.8398\n",
            "938/938 [==============================] - 3s 2ms/step - loss: 0.6901 - accuracy: 0.7511\n",
            "938/938 [==============================] - 2s 2ms/step - loss: 0.4101 - accuracy: 0.8501\n",
            "938/938 [==============================] - 3s 2ms/step - loss: 0.6898 - accuracy: 0.7520\n",
            "938/938 [==============================] - 2s 2ms/step - loss: 0.4049 - accuracy: 0.8568\n",
            "938/938 [==============================] - 3s 2ms/step - loss: 0.6905 - accuracy: 0.7522\n",
            "938/938 [==============================] - 2s 2ms/step - loss: 0.4318 - accuracy: 0.8414\n",
            "938/938 [==============================] - 3s 2ms/step - loss: 0.6981 - accuracy: 0.7468\n",
            "938/938 [==============================] - 2s 2ms/step - loss: 0.4504 - accuracy: 0.8392\n",
            "938/938 [==============================] - 3s 2ms/step - loss: 0.6788 - accuracy: 0.7630\n",
            "938/938 [==============================] - 2s 2ms/step - loss: 0.4393 - accuracy: 0.8407\n",
            "938/938 [==============================] - 3s 2ms/step - loss: 0.6909 - accuracy: 0.7513\n",
            "938/938 [==============================] - 2s 2ms/step - loss: 0.4346 - accuracy: 0.8449\n",
            "938/938 [==============================] - 3s 2ms/step - loss: 0.6827 - accuracy: 0.7527\n",
            "938/938 [==============================] - 2s 2ms/step - loss: 0.4738 - accuracy: 0.8248\n",
            "938/938 [==============================] - 3s 2ms/step - loss: 0.6984 - accuracy: 0.7437\n",
            "938/938 [==============================] - 2s 2ms/step - loss: 0.4291 - accuracy: 0.8424\n",
            "938/938 [==============================] - 3s 2ms/step - loss: 0.6888 - accuracy: 0.7468\n",
            "938/938 [==============================] - 2s 2ms/step - loss: 0.4349 - accuracy: 0.8423\n",
            "938/938 [==============================] - 3s 2ms/step - loss: 0.6916 - accuracy: 0.7550\n",
            "938/938 [==============================] - 2s 2ms/step - loss: 0.4394 - accuracy: 0.8397\n",
            "938/938 [==============================] - 3s 2ms/step - loss: 0.7072 - accuracy: 0.7469\n",
            "938/938 [==============================] - 2s 2ms/step - loss: 0.4402 - accuracy: 0.8417\n",
            "938/938 [==============================] - 3s 2ms/step - loss: 0.6897 - accuracy: 0.7524\n",
            "938/938 [==============================] - 2s 2ms/step - loss: 0.4128 - accuracy: 0.8511\n",
            "938/938 [==============================] - 3s 2ms/step - loss: 0.6769 - accuracy: 0.7571\n",
            "938/938 [==============================] - 2s 2ms/step - loss: 0.4452 - accuracy: 0.8462\n",
            "938/938 [==============================] - 3s 2ms/step - loss: 0.6793 - accuracy: 0.7572\n",
            "938/938 [==============================] - 2s 2ms/step - loss: 0.4241 - accuracy: 0.8492\n",
            "938/938 [==============================] - 3s 2ms/step - loss: 0.7072 - accuracy: 0.7521\n",
            "938/938 [==============================] - 2s 2ms/step - loss: 0.4331 - accuracy: 0.8430\n",
            "938/938 [==============================] - 3s 2ms/step - loss: 0.6799 - accuracy: 0.7588\n",
            "938/938 [==============================] - 2s 2ms/step - loss: 0.4646 - accuracy: 0.8345\n",
            "938/938 [==============================] - 3s 2ms/step - loss: 0.6898 - accuracy: 0.7564\n",
            "938/938 [==============================] - 2s 2ms/step - loss: 0.4482 - accuracy: 0.8238\n",
            "938/938 [==============================] - 3s 2ms/step - loss: 0.6946 - accuracy: 0.7445\n",
            "938/938 [==============================] - 2s 2ms/step - loss: 0.4585 - accuracy: 0.8332\n",
            "938/938 [==============================] - 3s 2ms/step - loss: 0.6746 - accuracy: 0.7599\n",
            "938/938 [==============================] - 2s 2ms/step - loss: 0.4194 - accuracy: 0.8417\n",
            "938/938 [==============================] - 3s 3ms/step - loss: 0.6929 - accuracy: 0.7519\n",
            "938/938 [==============================] - 2s 2ms/step - loss: 0.4156 - accuracy: 0.8527\n",
            "938/938 [==============================] - 3s 2ms/step - loss: 0.7062 - accuracy: 0.7468\n",
            "938/938 [==============================] - 2s 2ms/step - loss: 0.4037 - accuracy: 0.8562\n",
            "938/938 [==============================] - 3s 2ms/step - loss: 0.6770 - accuracy: 0.7545\n",
            "938/938 [==============================] - 2s 2ms/step - loss: 0.5051 - accuracy: 0.8147\n",
            "938/938 [==============================] - 3s 2ms/step - loss: 0.6809 - accuracy: 0.7576\n",
            "938/938 [==============================] - 2s 2ms/step - loss: 0.4807 - accuracy: 0.8250\n",
            "938/938 [==============================] - 3s 2ms/step - loss: 0.6948 - accuracy: 0.7475\n",
            "938/938 [==============================] - 2s 2ms/step - loss: 0.4539 - accuracy: 0.8326\n"
          ],
          "name": "stdout"
        },
        {
          "output_type": "stream",
          "text": [
            "[Parallel(n_jobs=-2)]: Done  40 out of  40 | elapsed:  4.0min finished\n"
          ],
          "name": "stderr"
        },
        {
          "output_type": "stream",
          "text": [
            "1875/1875 [==============================] - 5s 2ms/step - loss: 0.5948 - accuracy: 0.7848\n"
          ],
          "name": "stdout"
        }
      ]
    },
    {
      "cell_type": "code",
      "metadata": {
        "colab": {
          "base_uri": "https://localhost:8080/"
        },
        "id": "SAFCnZUOZ8Hg",
        "outputId": "b016ed61-eb00-4eae-84a2-cd7227bd1fec"
      },
      "source": [
        "print(\"Gridsearch runtime {0:.3} mins\".format( (end-start)/60 ))"
      ],
      "execution_count": 49,
      "outputs": [
        {
          "output_type": "stream",
          "text": [
            "Gridsearch runtime 4.06 mins\n"
          ],
          "name": "stdout"
        }
      ]
    },
    {
      "cell_type": "code",
      "metadata": {
        "colab": {
          "base_uri": "https://localhost:8080/",
          "height": 339
        },
        "id": "cfAWZUcxZ8Hh",
        "outputId": "bffc7949-a8d9-4b68-cc12-9b42b54fb3e4"
      },
      "source": [
        "# use the mean accuracy from the CV splits for determining best model score \n",
        "means = grid.cv_results_['mean_test_score']\n",
        "stds = grid.cv_results_['std_test_score']\n",
        "params = grid.cv_results_['params']\n",
        "\n",
        "# move l2 penalty values outside of dictionary and into a list\n",
        "param_values = [dic[\"maxnorm_wc\"] for dic in params]\n",
        "\n",
        "# plot accuracy vs l2_reg_penalty\n",
        "plt.figure(figsize=(20,6))\n",
        "plt.grid()\n",
        "plt.errorbar(param_values, means, yerr=stds, ecolor=\"orange\")\n",
        "plt.title(\"L1 Regularization: Model Accuracy vs L1 Penalty Strength\")\n",
        "plt.ylabel(\"Validation Accuracy\", )\n",
        "plt.xlabel(\"Max Norm for Weight Vector \");"
      ],
      "execution_count": 50,
      "outputs": [
        {
          "output_type": "display_data",
          "data": {
            "image/png": "[encoded data removed]",
            "text/plain": [
              "<Figure size 1440x432 with 1 Axes>"
            ]
          },
          "metadata": {
            "tags": [],
            "needs_background": "light"
          }
        }
      ]
    },
    {
      "cell_type": "code",
      "metadata": {
        "deletable": false,
        "nbgrader": {
          "cell_type": "code",
          "checksum": "cfe7bd54a7a14ba7ee63c88d6d1828b4",
          "grade": false,
          "grade_id": "cell-f67372e0b9b30614",
          "locked": false,
          "schema_version": 3,
          "solution": true,
          "task": false
        },
        "tags": [],
        "id": "14LI25ZmZ8Hi"
      },
      "source": [
        "# get the best l2 penalty term from grid and save to best_max_norm_val\n",
        "\n",
        "# get the best trained model from grid and save to best_model\n",
        "\n",
        "# get the weights from the best trained model and save to best_weights\n",
        "\n",
        "# YOUR CODE HERE\n",
        "best_max_norm_val = best_lr_penalty\n",
        "best_model = best_model\n",
        "best_weights = best_weights"
      ],
      "execution_count": 51,
      "outputs": []
    },
    {
      "cell_type": "code",
      "metadata": {
        "colab": {
          "base_uri": "https://localhost:8080/"
        },
        "id": "Du7-8DbsZ8Hi",
        "outputId": "693f1597-40f2-4964-c59c-e0235ab0536c"
      },
      "source": [
        "best_max_norm_val"
      ],
      "execution_count": 52,
      "outputs": [
        {
          "output_type": "execute_result",
          "data": {
            "text/plain": [
              "1e-05"
            ]
          },
          "metadata": {
            "tags": []
          },
          "execution_count": 52
        }
      ]
    },
    {
      "cell_type": "code",
      "metadata": {
        "colab": {
          "base_uri": "https://localhost:8080/"
        },
        "id": "7j2UQ-rAZ8Hj",
        "outputId": "052aa430-cd4e-45cc-ecf1-4ccb685ecefb"
      },
      "source": [
        "# we see that the norm of our weights are indeed below the maximum allowed value \n",
        "np.linalg.norm(best_weights[0][0])"
      ],
      "execution_count": 53,
      "outputs": [
        {
          "output_type": "execute_result",
          "data": {
            "text/plain": [
              "0.8780622"
            ]
          },
          "metadata": {
            "tags": []
          },
          "execution_count": 53
        }
      ]
    },
    {
      "cell_type": "code",
      "metadata": {
        "deletable": false,
        "nbgrader": {
          "cell_type": "code",
          "checksum": "67f65bd636e3b3b3bc7d20c02ba6b666",
          "grade": false,
          "grade_id": "cell-e752c1a8c853985d",
          "locked": false,
          "schema_version": 3,
          "solution": true,
          "task": false
        },
        "colab": {
          "base_uri": "https://localhost:8080/",
          "height": 201
        },
        "id": "Q7XSN0VtZ8Hk",
        "outputId": "ce667d2d-bf0b-47d0-e6b6-58ce065bd073"
      },
      "source": [
        "# train a model using the max_norm_val value that scored the lowest \n",
        "\n",
        "# build a model using build_complex_model and worse_max_norm_val and save it to worse_model\n",
        "\n",
        "# fit model \n",
        "\n",
        "# get weights from worse performing model \n",
        "\n",
        "\n",
        "# YOUR CODE HERE\n",
        "raise NotImplementedError()"
      ],
      "execution_count": 54,
      "outputs": [
        {
          "output_type": "error",
          "ename": "NotImplementedError",
          "evalue": "ignored",
          "traceback": [
            "\u001b[0;31m---------------------------------------------------------------------------\u001b[0m",
            "\u001b[0;31mNotImplementedError\u001b[0m                       Traceback (most recent call last)",
            "\u001b[0;32m<ipython-input-54-735e55c4b398>\u001b[0m in \u001b[0;36m<module>\u001b[0;34m()\u001b[0m\n\u001b[1;32m      9\u001b[0m \u001b[0;34m\u001b[0m\u001b[0m\n\u001b[1;32m     10\u001b[0m \u001b[0;31m# YOUR CODE HERE\u001b[0m\u001b[0;34m\u001b[0m\u001b[0;34m\u001b[0m\u001b[0;34m\u001b[0m\u001b[0m\n\u001b[0;32m---> 11\u001b[0;31m \u001b[0;32mraise\u001b[0m \u001b[0mNotImplementedError\u001b[0m\u001b[0;34m(\u001b[0m\u001b[0;34m)\u001b[0m\u001b[0;34m\u001b[0m\u001b[0;34m\u001b[0m\u001b[0m\n\u001b[0m",
            "\u001b[0;31mNotImplementedError\u001b[0m: "
          ]
        }
      ]
    },
    {
      "cell_type": "code",
      "metadata": {
        "deletable": false,
        "nbgrader": {
          "cell_type": "code",
          "checksum": "a38d5d4db707124b31a662fb4743b049",
          "grade": false,
          "grade_id": "cell-5c1aa4543e68487d",
          "locked": false,
          "schema_version": 3,
          "solution": true,
          "task": false
        },
        "id": "cDgWmrysZ8Hl"
      },
      "source": [
        "# YOUR CODE HERE\n",
        "raise NotImplementedError()"
      ],
      "execution_count": null,
      "outputs": []
    },
    {
      "cell_type": "code",
      "metadata": {
        "id": "hfAHA6wfZ8Hm"
      },
      "source": [
        "# move all weights to a dataframe for ease of analysis \n",
        "cols = [\"best_hidden_weights\", \"worse_hidden_weights\", \"initial_weight_values\"]\n",
        "data = [best_hidden_weights, worse_hidden_weights, initial_weight_values]\n",
        "df_maxnorm= pd.DataFrame(data=data).T\n",
        "df_maxnorm.columns = cols"
      ],
      "execution_count": 56,
      "outputs": []
    },
    {
      "cell_type": "code",
      "metadata": {
        "colab": {
          "base_uri": "https://localhost:8080/",
          "height": 294
        },
        "id": "1oIeuhTQZ8Hn",
        "outputId": "4bdbf113-3266-43eb-b03b-5d0662c1beec"
      },
      "source": [
        "df_maxnorm.describe()"
      ],
      "execution_count": 57,
      "outputs": [
        {
          "output_type": "execute_result",
          "data": {
            "text/html": [
              "<div>\n",
              "<style scoped>\n",
              "    .dataframe tbody tr th:only-of-type {\n",
              "        vertical-align: middle;\n",
              "    }\n",
              "\n",
              "    .dataframe tbody tr th {\n",
              "        vertical-align: top;\n",
              "    }\n",
              "\n",
              "    .dataframe thead th {\n",
              "        text-align: right;\n",
              "    }\n",
              "</style>\n",
              "<table border=\"1\" class=\"dataframe\">\n",
              "  <thead>\n",
              "    <tr style=\"text-align: right;\">\n",
              "      <th></th>\n",
              "      <th>best_hidden_weights</th>\n",
              "      <th>worse_hidden_weights</th>\n",
              "      <th>initial_weight_values</th>\n",
              "    </tr>\n",
              "  </thead>\n",
              "  <tbody>\n",
              "    <tr>\n",
              "      <th>count</th>\n",
              "      <td>500.000000</td>\n",
              "      <td>5.000000e+02</td>\n",
              "      <td>500.000000</td>\n",
              "    </tr>\n",
              "    <tr>\n",
              "      <th>mean</th>\n",
              "      <td>-0.001782</td>\n",
              "      <td>-5.544224e-09</td>\n",
              "      <td>0.002079</td>\n",
              "    </tr>\n",
              "    <tr>\n",
              "      <th>std</th>\n",
              "      <td>0.039267</td>\n",
              "      <td>1.075617e-07</td>\n",
              "      <td>0.061731</td>\n",
              "    </tr>\n",
              "    <tr>\n",
              "      <th>min</th>\n",
              "      <td>-0.068015</td>\n",
              "      <td>-1.709256e-06</td>\n",
              "      <td>-0.109263</td>\n",
              "    </tr>\n",
              "    <tr>\n",
              "      <th>25%</th>\n",
              "      <td>-0.036411</td>\n",
              "      <td>-3.382737e-18</td>\n",
              "      <td>-0.047005</td>\n",
              "    </tr>\n",
              "    <tr>\n",
              "      <th>50%</th>\n",
              "      <td>0.000693</td>\n",
              "      <td>2.014674e-22</td>\n",
              "      <td>0.001182</td>\n",
              "    </tr>\n",
              "    <tr>\n",
              "      <th>75%</th>\n",
              "      <td>0.030632</td>\n",
              "      <td>4.005930e-18</td>\n",
              "      <td>0.055509</td>\n",
              "    </tr>\n",
              "    <tr>\n",
              "      <th>max</th>\n",
              "      <td>0.068347</td>\n",
              "      <td>3.492583e-07</td>\n",
              "      <td>0.109095</td>\n",
              "    </tr>\n",
              "  </tbody>\n",
              "</table>\n",
              "</div>"
            ],
            "text/plain": [
              "       best_hidden_weights  worse_hidden_weights  initial_weight_values\n",
              "count           500.000000          5.000000e+02             500.000000\n",
              "mean             -0.001782         -5.544224e-09               0.002079\n",
              "std               0.039267          1.075617e-07               0.061731\n",
              "min              -0.068015         -1.709256e-06              -0.109263\n",
              "25%              -0.036411         -3.382737e-18              -0.047005\n",
              "50%               0.000693          2.014674e-22               0.001182\n",
              "75%               0.030632          4.005930e-18               0.055509\n",
              "max               0.068347          3.492583e-07               0.109095"
            ]
          },
          "metadata": {
            "tags": []
          },
          "execution_count": 57
        }
      ]
    },
    {
      "cell_type": "code",
      "metadata": {
        "colab": {
          "base_uri": "https://localhost:8080/",
          "height": 609
        },
        "id": "wrEfGPHxZ8Hn",
        "outputId": "c450b83e-9f42-42f6-e39d-05756f3abc3c"
      },
      "source": [
        "# plot the distributions for each weight column \n",
        "df_maxnorm.hist(figsize=(20,12));"
      ],
      "execution_count": 58,
      "outputs": [
        {
          "output_type": "display_data",
          "data": {
            "image/png": "[encoded data removed]",
            "text/plain": [
              "<Figure size 1440x864 with 4 Axes>"
            ]
          },
          "metadata": {
            "tags": [],
            "needs_background": "light"
          }
        }
      ]
    },
    {
      "cell_type": "markdown",
      "metadata": {
        "id": "xIukGKiPZ8Ho"
      },
      "source": [
        "## Observations \n",
        "\n",
        "Take a look at the statistical table and the plots. Then answer the following questions. \n",
        "\n",
        "**How do the hidden layer weights from the best performing model compare to the initial weight values?**"
      ]
    },
    {
      "cell_type": "markdown",
      "metadata": {
        "deletable": false,
        "nbgrader": {
          "cell_type": "markdown",
          "checksum": "f43fe1110cdcea8d1e4b432fe78d4e49",
          "grade": true,
          "grade_id": "cell-40a44d19694941b8",
          "locked": false,
          "points": 0,
          "schema_version": 3,
          "solution": true,
          "task": false
        },
        "id": "Jhdov9CmZ8Ho"
      },
      "source": [
        "YOUR ANSWER HERE"
      ]
    },
    {
      "cell_type": "markdown",
      "metadata": {
        "id": "h6QOF0x8Z8Hp"
      },
      "source": [
        "**What was the effect of using the weight constraint value in MaxNorm in the best performing model?**"
      ]
    },
    {
      "cell_type": "markdown",
      "metadata": {
        "deletable": false,
        "nbgrader": {
          "cell_type": "markdown",
          "checksum": "b1c59c58a5abdbc0b509983821198dba",
          "grade": true,
          "grade_id": "cell-4f9e1e134124e512",
          "locked": false,
          "points": 0,
          "schema_version": 3,
          "solution": true,
          "task": false
        },
        "id": "_meOyD-eZ8Hp"
      },
      "source": [
        "YOUR ANSWER HERE"
      ]
    },
    {
      "cell_type": "markdown",
      "metadata": {
        "id": "uPBuABiEZ8Hr"
      },
      "source": [
        "**What was the effect of using the weight constraint value in MaxNorm in the worse performing model?**"
      ]
    },
    {
      "cell_type": "markdown",
      "metadata": {
        "deletable": false,
        "nbgrader": {
          "cell_type": "markdown",
          "checksum": "0062b4ddfad487c39633c37f4710b752",
          "grade": true,
          "grade_id": "cell-4c289ce70c34048a",
          "locked": false,
          "points": 0,
          "schema_version": 3,
          "solution": true,
          "task": false
        },
        "id": "EnuFIP5MZ8Hr"
      },
      "source": [
        "YOUR ANSWER HERE"
      ]
    },
    {
      "cell_type": "markdown",
      "metadata": {
        "id": "zFK1JnBSZ8Hr"
      },
      "source": [
        "**Given what you know about MaxNorm regularization, are you surprised by these results?**"
      ]
    },
    {
      "cell_type": "markdown",
      "metadata": {
        "deletable": false,
        "nbgrader": {
          "cell_type": "markdown",
          "checksum": "3c36931d3532a8cbcb4ea0c956378728",
          "grade": true,
          "grade_id": "cell-77366a912217da5d",
          "locked": false,
          "points": 0,
          "schema_version": 3,
          "solution": true,
          "task": false
        },
        "id": "EdIv9Nu8Z8Hs"
      },
      "source": [
        "YOUR ANSWER HERE"
      ]
    },
    {
      "cell_type": "markdown",
      "metadata": {
        "id": "JQ57J91RZ8Hs"
      },
      "source": [
        "-----\n",
        "# Experiment 3: Identify the relationship between model performance and Dropout\n",
        "\n",
        "\n",
        "![](https://miro.medium.com/max/981/1*EinUlWw1n8vbcLyT0zx4gw.png)\n",
        "\n",
        "In the 3rd and final experiment, we will use gridsearch to see how model performance is affect by varying the value of the the dropout probability. \n",
        "\n",
        "Recall from lecture that dropout tends to perform best when used with weight constraint. Since this is the case, we will gridsearch both dropout probability and the weight constraint for MaxNorm. \n",
        "\n",
        "If interested, feel free to read through the original publication on [**Drop Out**](https://jmlr.org/papers/volume15/srivastava14a.old/srivastava14a.pdf). \n",
        "\n",
        "**Key Take aways:** \n",
        "\n",
        "1. During training, dropout will probabilistically \"turn off\" some neurons in the layer that dropout is implemented in. \n",
        "2. During inference (ie. making predictions on the test set) all neurons are used (i.e. no dropout is applied).\n",
        "3. Dropout works best when used with MaxNorm\n"
      ]
    },
    {
      "cell_type": "code",
      "metadata": {
        "colab": {
          "base_uri": "https://localhost:8080/"
        },
        "id": "l_8Z5qwLZ8Hs",
        "outputId": "46545966-2727-4010-854e-0ebd9ceca018"
      },
      "source": [
        "# build out our hyperparameter dictionary \n",
        "hyper_parameters = {\n",
        "    # for the sake of runtime, let's vary maxnorm_wc between 0.5 and 5.0\n",
        "    \"maxnorm_wc\": np.linspace(0.5, 5, num=10),\n",
        "    # take note that l1_reg_penalty values are in powers of 10 \n",
        "    \"dropout_prob\": np.linspace(0.0, 0.6, num=7), \n",
        "    \"epochs\": [1] # default is 1, in order to change it we must provide value here because we can provide a parameter value for model.fit() directly when using gridsearch\n",
        "}\n",
        "\n",
        "hyper_parameters"
      ],
      "execution_count": 59,
      "outputs": [
        {
          "output_type": "execute_result",
          "data": {
            "text/plain": [
              "{'dropout_prob': array([0. , 0.1, 0.2, 0.3, 0.4, 0.5, 0.6]),\n",
              " 'epochs': [1],\n",
              " 'maxnorm_wc': array([0.5, 1. , 1.5, 2. , 2.5, 3. , 3.5, 4. , 4.5, 5. ])}"
            ]
          },
          "metadata": {
            "tags": []
          },
          "execution_count": 59
        }
      ]
    },
    {
      "cell_type": "code",
      "metadata": {
        "colab": {
          "base_uri": "https://localhost:8080/"
        },
        "id": "QLNBJl4gZ8Hs",
        "outputId": "79d90c69-85fd-491d-cbfb-0e0f9c5c0c5e"
      },
      "source": [
        "start=time()\n",
        "# Create and run Grid Search\n",
        "grid = GridSearchCV(estimator=model, \n",
        "                    param_grid=hyper_parameters, \n",
        "                    n_jobs=-2, \n",
        "                    verbose=1, \n",
        "                    cv=3)\n",
        "\n",
        "grid_result = grid.fit(X_train, y_train)\n",
        "end=time()"
      ],
      "execution_count": 60,
      "outputs": [
        {
          "output_type": "stream",
          "text": [
            "Fitting 3 folds for each of 70 candidates, totalling 210 fits\n"
          ],
          "name": "stdout"
        },
        {
          "output_type": "stream",
          "text": [
            "[Parallel(n_jobs=-2)]: Using backend SequentialBackend with 1 concurrent workers.\n"
          ],
          "name": "stderr"
        },
        {
          "output_type": "stream",
          "text": [
            "1250/1250 [==============================] - 4s 2ms/step - loss: 0.7506 - accuracy: 0.7221\n",
            "625/625 [==============================] - 1s 2ms/step - loss: 0.4591 - accuracy: 0.8258\n",
            "1250/1250 [==============================] - 3s 2ms/step - loss: 0.7771 - accuracy: 0.7149\n",
            "625/625 [==============================] - 1s 2ms/step - loss: 0.5412 - accuracy: 0.8001\n",
            "1250/1250 [==============================] - 3s 2ms/step - loss: 0.7705 - accuracy: 0.7144\n",
            "625/625 [==============================] - 1s 2ms/step - loss: 0.5763 - accuracy: 0.7800\n",
            "1250/1250 [==============================] - 3s 2ms/step - loss: 0.6478 - accuracy: 0.7681\n",
            "625/625 [==============================] - 1s 2ms/step - loss: 0.4183 - accuracy: 0.8454\n",
            "1250/1250 [==============================] - 3s 2ms/step - loss: 0.6671 - accuracy: 0.7592\n",
            "625/625 [==============================] - 1s 2ms/step - loss: 0.4688 - accuracy: 0.8184\n",
            "1250/1250 [==============================] - 4s 2ms/step - loss: 0.6649 - accuracy: 0.7580\n",
            "625/625 [==============================] - 1s 2ms/step - loss: 0.4116 - accuracy: 0.8508\n",
            "1250/1250 [==============================] - 3s 2ms/step - loss: 0.6657 - accuracy: 0.7614\n",
            "625/625 [==============================] - 1s 2ms/step - loss: 0.4344 - accuracy: 0.8402\n",
            "1250/1250 [==============================] - 3s 2ms/step - loss: 0.6544 - accuracy: 0.7610\n",
            "625/625 [==============================] - 1s 2ms/step - loss: 0.4154 - accuracy: 0.8508\n",
            "1250/1250 [==============================] - 3s 2ms/step - loss: 0.6389 - accuracy: 0.7695\n",
            "625/625 [==============================] - 1s 2ms/step - loss: 0.4097 - accuracy: 0.8478\n",
            "1250/1250 [==============================] - 3s 2ms/step - loss: 0.6524 - accuracy: 0.7641\n",
            "625/625 [==============================] - 1s 1ms/step - loss: 0.4084 - accuracy: 0.8514\n",
            "1250/1250 [==============================] - 3s 2ms/step - loss: 0.6552 - accuracy: 0.7658\n",
            "625/625 [==============================] - 1s 2ms/step - loss: 0.3963 - accuracy: 0.8537\n",
            "1250/1250 [==============================] - 3s 2ms/step - loss: 0.6510 - accuracy: 0.7683\n",
            "625/625 [==============================] - 1s 2ms/step - loss: 0.4700 - accuracy: 0.8224\n",
            "1250/1250 [==============================] - 3s 2ms/step - loss: 0.6546 - accuracy: 0.7659\n",
            "625/625 [==============================] - 1s 2ms/step - loss: 0.4139 - accuracy: 0.8492\n",
            "1250/1250 [==============================] - 3s 2ms/step - loss: 0.6414 - accuracy: 0.7717\n",
            "625/625 [==============================] - 1s 2ms/step - loss: 0.4076 - accuracy: 0.8545\n",
            "1250/1250 [==============================] - 3s 2ms/step - loss: 0.6453 - accuracy: 0.7691\n",
            "625/625 [==============================] - 1s 2ms/step - loss: 0.4291 - accuracy: 0.8419\n",
            "1250/1250 [==============================] - 4s 2ms/step - loss: 0.6536 - accuracy: 0.7650\n",
            "625/625 [==============================] - 1s 2ms/step - loss: 0.4373 - accuracy: 0.8349\n",
            "1250/1250 [==============================] - 4s 2ms/step - loss: 0.6337 - accuracy: 0.7749\n",
            "625/625 [==============================] - 1s 2ms/step - loss: 0.3988 - accuracy: 0.8566\n",
            "1250/1250 [==============================] - 3s 2ms/step - loss: 0.6515 - accuracy: 0.7723\n",
            "625/625 [==============================] - 1s 2ms/step - loss: 0.4392 - accuracy: 0.8430\n",
            "1250/1250 [==============================] - 4s 2ms/step - loss: 0.6652 - accuracy: 0.7576\n",
            "625/625 [==============================] - 1s 2ms/step - loss: 0.4121 - accuracy: 0.8470\n",
            "1250/1250 [==============================] - 3s 2ms/step - loss: 0.6449 - accuracy: 0.7664\n",
            "625/625 [==============================] - 1s 2ms/step - loss: 0.4296 - accuracy: 0.8453\n",
            "1250/1250 [==============================] - 3s 2ms/step - loss: 0.6553 - accuracy: 0.7614\n",
            "625/625 [==============================] - 1s 2ms/step - loss: 0.4204 - accuracy: 0.8438\n",
            "1250/1250 [==============================] - 3s 2ms/step - loss: 0.6547 - accuracy: 0.7648\n",
            "625/625 [==============================] - 1s 2ms/step - loss: 0.4172 - accuracy: 0.8462\n",
            "1250/1250 [==============================] - 3s 2ms/step - loss: 0.6592 - accuracy: 0.7580\n",
            "625/625 [==============================] - 1s 2ms/step - loss: 0.3933 - accuracy: 0.8572\n",
            "1250/1250 [==============================] - 3s 2ms/step - loss: 0.6556 - accuracy: 0.7653\n",
            "625/625 [==============================] - 1s 2ms/step - loss: 0.4085 - accuracy: 0.8544\n",
            "1250/1250 [==============================] - 3s 2ms/step - loss: 0.6654 - accuracy: 0.7618\n",
            "625/625 [==============================] - 1s 2ms/step - loss: 0.4082 - accuracy: 0.8470\n",
            "1250/1250 [==============================] - 3s 2ms/step - loss: 0.6450 - accuracy: 0.7652\n",
            "625/625 [==============================] - 1s 2ms/step - loss: 0.4120 - accuracy: 0.8529\n",
            "1250/1250 [==============================] - 4s 2ms/step - loss: 0.6506 - accuracy: 0.7643\n",
            "625/625 [==============================] - 1s 2ms/step - loss: 0.4333 - accuracy: 0.8472\n",
            "1250/1250 [==============================] - 4s 2ms/step - loss: 0.6417 - accuracy: 0.7734\n",
            "625/625 [==============================] - 1s 2ms/step - loss: 0.4114 - accuracy: 0.8427\n",
            "1250/1250 [==============================] - 4s 2ms/step - loss: 0.6637 - accuracy: 0.7582\n",
            "625/625 [==============================] - 1s 2ms/step - loss: 0.4382 - accuracy: 0.8432\n",
            "1250/1250 [==============================] - 4s 2ms/step - loss: 0.6481 - accuracy: 0.7667\n",
            "625/625 [==============================] - 1s 2ms/step - loss: 0.4527 - accuracy: 0.8356\n",
            "1250/1250 [==============================] - 4s 2ms/step - loss: 0.8118 - accuracy: 0.6974\n",
            "625/625 [==============================] - 1s 2ms/step - loss: 0.4958 - accuracy: 0.8209\n",
            "1250/1250 [==============================] - 4s 2ms/step - loss: 0.7949 - accuracy: 0.7056\n",
            "625/625 [==============================] - 1s 2ms/step - loss: 0.5118 - accuracy: 0.8070\n",
            "1250/1250 [==============================] - 4s 2ms/step - loss: 0.8065 - accuracy: 0.7079\n",
            "625/625 [==============================] - 1s 2ms/step - loss: 0.5627 - accuracy: 0.8080\n",
            "1250/1250 [==============================] - 4s 2ms/step - loss: 0.7173 - accuracy: 0.7426\n",
            "625/625 [==============================] - 1s 2ms/step - loss: 0.4214 - accuracy: 0.8464\n",
            "1250/1250 [==============================] - 4s 2ms/step - loss: 0.7250 - accuracy: 0.7361\n",
            "625/625 [==============================] - 1s 2ms/step - loss: 0.4290 - accuracy: 0.8413\n",
            "1250/1250 [==============================] - 4s 2ms/step - loss: 0.7189 - accuracy: 0.7399\n",
            "625/625 [==============================] - 1s 2ms/step - loss: 0.4103 - accuracy: 0.8521\n",
            "1250/1250 [==============================] - 4s 2ms/step - loss: 0.7069 - accuracy: 0.7465\n",
            "625/625 [==============================] - 1s 2ms/step - loss: 0.4899 - accuracy: 0.8251\n",
            "1250/1250 [==============================] - 4s 2ms/step - loss: 0.7029 - accuracy: 0.7411\n",
            "625/625 [==============================] - 1s 2ms/step - loss: 0.4906 - accuracy: 0.8214\n",
            "1250/1250 [==============================] - 4s 2ms/step - loss: 0.7144 - accuracy: 0.7410\n",
            "625/625 [==============================] - 1s 2ms/step - loss: 0.4955 - accuracy: 0.8166\n",
            "1250/1250 [==============================] - 4s 2ms/step - loss: 0.7039 - accuracy: 0.7435\n",
            "625/625 [==============================] - 1s 2ms/step - loss: 0.5070 - accuracy: 0.8115\n",
            "1250/1250 [==============================] - 4s 2ms/step - loss: 0.6828 - accuracy: 0.7496\n",
            "625/625 [==============================] - 1s 2ms/step - loss: 0.4432 - accuracy: 0.8446\n",
            "1250/1250 [==============================] - 4s 2ms/step - loss: 0.7163 - accuracy: 0.7391\n",
            "625/625 [==============================] - 1s 2ms/step - loss: 0.4196 - accuracy: 0.8455\n",
            "1250/1250 [==============================] - 4s 2ms/step - loss: 0.7157 - accuracy: 0.7420\n",
            "625/625 [==============================] - 1s 2ms/step - loss: 0.4102 - accuracy: 0.8444\n",
            "1250/1250 [==============================] - 4s 2ms/step - loss: 0.7179 - accuracy: 0.7411\n",
            "625/625 [==============================] - 1s 2ms/step - loss: 0.4625 - accuracy: 0.8304\n",
            "1250/1250 [==============================] - 4s 2ms/step - loss: 0.7072 - accuracy: 0.7464\n",
            "625/625 [==============================] - 1s 2ms/step - loss: 0.4219 - accuracy: 0.8443\n",
            "1250/1250 [==============================] - 4s 2ms/step - loss: 0.7042 - accuracy: 0.7486\n",
            "625/625 [==============================] - 1s 2ms/step - loss: 0.4351 - accuracy: 0.8422\n",
            "1250/1250 [==============================] - 4s 2ms/step - loss: 0.7172 - accuracy: 0.7384\n",
            "625/625 [==============================] - 1s 2ms/step - loss: 0.4357 - accuracy: 0.8398\n",
            "1250/1250 [==============================] - 4s 2ms/step - loss: 0.7039 - accuracy: 0.7452\n",
            "625/625 [==============================] - 1s 2ms/step - loss: 0.4897 - accuracy: 0.8199\n",
            "1250/1250 [==============================] - 4s 2ms/step - loss: 0.7077 - accuracy: 0.7451\n",
            "625/625 [==============================] - 1s 2ms/step - loss: 0.4421 - accuracy: 0.8415\n",
            "1250/1250 [==============================] - 4s 2ms/step - loss: 0.7215 - accuracy: 0.7419\n",
            "625/625 [==============================] - 1s 2ms/step - loss: 0.4311 - accuracy: 0.8424\n",
            "1250/1250 [==============================] - 4s 2ms/step - loss: 0.7138 - accuracy: 0.7430\n",
            "625/625 [==============================] - 1s 2ms/step - loss: 0.4059 - accuracy: 0.8517\n",
            "1250/1250 [==============================] - 4s 2ms/step - loss: 0.7053 - accuracy: 0.7471\n",
            "625/625 [==============================] - 1s 2ms/step - loss: 0.4871 - accuracy: 0.8079\n",
            "1250/1250 [==============================] - 4s 2ms/step - loss: 0.7055 - accuracy: 0.7449\n",
            "625/625 [==============================] - 1s 2ms/step - loss: 0.4869 - accuracy: 0.8157\n",
            "1250/1250 [==============================] - 4s 2ms/step - loss: 0.7177 - accuracy: 0.7422\n",
            "625/625 [==============================] - 1s 2ms/step - loss: 0.4359 - accuracy: 0.8400\n",
            "1250/1250 [==============================] - 4s 2ms/step - loss: 0.7149 - accuracy: 0.7442\n",
            "625/625 [==============================] - 1s 2ms/step - loss: 0.4354 - accuracy: 0.8399\n",
            "1250/1250 [==============================] - 4s 2ms/step - loss: 0.7194 - accuracy: 0.7449\n",
            "625/625 [==============================] - 1s 2ms/step - loss: 0.4119 - accuracy: 0.8473\n",
            "1250/1250 [==============================] - 4s 2ms/step - loss: 0.7059 - accuracy: 0.7469\n",
            "625/625 [==============================] - 1s 2ms/step - loss: 0.4092 - accuracy: 0.8536\n",
            "1250/1250 [==============================] - 4s 2ms/step - loss: 0.7077 - accuracy: 0.7494\n",
            "625/625 [==============================] - 1s 2ms/step - loss: 0.4584 - accuracy: 0.8335\n",
            "1250/1250 [==============================] - 4s 2ms/step - loss: 0.7269 - accuracy: 0.7371\n",
            "625/625 [==============================] - 1s 2ms/step - loss: 0.4030 - accuracy: 0.8520\n",
            "1250/1250 [==============================] - 4s 2ms/step - loss: 0.7230 - accuracy: 0.7399\n",
            "625/625 [==============================] - 1s 2ms/step - loss: 0.4251 - accuracy: 0.8436\n",
            "1250/1250 [==============================] - 4s 2ms/step - loss: 0.8394 - accuracy: 0.6914\n",
            "625/625 [==============================] - 1s 2ms/step - loss: 0.5029 - accuracy: 0.8256\n",
            "1250/1250 [==============================] - 4s 2ms/step - loss: 0.8498 - accuracy: 0.6866\n",
            "625/625 [==============================] - 1s 2ms/step - loss: 0.5415 - accuracy: 0.7993\n",
            "1250/1250 [==============================] - 4s 2ms/step - loss: 0.8526 - accuracy: 0.6837\n",
            "625/625 [==============================] - 1s 2ms/step - loss: 0.5430 - accuracy: 0.8066\n",
            "1250/1250 [==============================] - 4s 2ms/step - loss: 0.7925 - accuracy: 0.7141\n",
            "625/625 [==============================] - 1s 2ms/step - loss: 0.4621 - accuracy: 0.8317\n",
            "1250/1250 [==============================] - 4s 2ms/step - loss: 0.7738 - accuracy: 0.7175\n",
            "625/625 [==============================] - 1s 2ms/step - loss: 0.4504 - accuracy: 0.8360\n",
            "1250/1250 [==============================] - 4s 2ms/step - loss: 0.8076 - accuracy: 0.7081\n",
            "625/625 [==============================] - 1s 2ms/step - loss: 0.4901 - accuracy: 0.8126\n",
            "1250/1250 [==============================] - 4s 2ms/step - loss: 0.7684 - accuracy: 0.7229\n",
            "625/625 [==============================] - 1s 2ms/step - loss: 0.4597 - accuracy: 0.8254\n",
            "1250/1250 [==============================] - 4s 2ms/step - loss: 0.7716 - accuracy: 0.7174\n",
            "625/625 [==============================] - 1s 2ms/step - loss: 0.4209 - accuracy: 0.8526\n",
            "1250/1250 [==============================] - 4s 2ms/step - loss: 0.7662 - accuracy: 0.7215\n",
            "625/625 [==============================] - 1s 2ms/step - loss: 0.4363 - accuracy: 0.8404\n",
            "1250/1250 [==============================] - 4s 2ms/step - loss: 0.7774 - accuracy: 0.7153\n",
            "625/625 [==============================] - 1s 2ms/step - loss: 0.4440 - accuracy: 0.8383\n",
            "1250/1250 [==============================] - 4s 2ms/step - loss: 0.7725 - accuracy: 0.7232\n",
            "625/625 [==============================] - 1s 2ms/step - loss: 0.4311 - accuracy: 0.8338\n",
            "1250/1250 [==============================] - 4s 2ms/step - loss: 0.7802 - accuracy: 0.7228\n",
            "625/625 [==============================] - 1s 2ms/step - loss: 0.4657 - accuracy: 0.8363\n",
            "1250/1250 [==============================] - 4s 2ms/step - loss: 0.7717 - accuracy: 0.7197\n",
            "625/625 [==============================] - 1s 2ms/step - loss: 0.4345 - accuracy: 0.8367\n",
            "1250/1250 [==============================] - 4s 2ms/step - loss: 0.7905 - accuracy: 0.7150\n",
            "625/625 [==============================] - 1s 2ms/step - loss: 0.4163 - accuracy: 0.8488\n",
            "1250/1250 [==============================] - 4s 2ms/step - loss: 0.7824 - accuracy: 0.7107\n",
            "625/625 [==============================] - 1s 2ms/step - loss: 0.4581 - accuracy: 0.8307\n",
            "1250/1250 [==============================] - 4s 2ms/step - loss: 0.7755 - accuracy: 0.7214\n",
            "625/625 [==============================] - 1s 2ms/step - loss: 0.4226 - accuracy: 0.8431\n",
            "1250/1250 [==============================] - 4s 2ms/step - loss: 0.7819 - accuracy: 0.7141\n",
            "625/625 [==============================] - 1s 2ms/step - loss: 0.4682 - accuracy: 0.8246\n",
            "1250/1250 [==============================] - 4s 2ms/step - loss: 0.7739 - accuracy: 0.7209\n",
            "625/625 [==============================] - 1s 2ms/step - loss: 0.4308 - accuracy: 0.8401\n",
            "1250/1250 [==============================] - 4s 2ms/step - loss: 0.7691 - accuracy: 0.7250\n",
            "625/625 [==============================] - 1s 2ms/step - loss: 0.4197 - accuracy: 0.8432\n",
            "1250/1250 [==============================] - 4s 2ms/step - loss: 0.7707 - accuracy: 0.7245\n",
            "625/625 [==============================] - 1s 2ms/step - loss: 0.4299 - accuracy: 0.8426\n",
            "1250/1250 [==============================] - 4s 2ms/step - loss: 0.7843 - accuracy: 0.7144\n",
            "625/625 [==============================] - 1s 2ms/step - loss: 0.4196 - accuracy: 0.8458\n",
            "1250/1250 [==============================] - 4s 2ms/step - loss: 0.7868 - accuracy: 0.7180\n",
            "625/625 [==============================] - 1s 2ms/step - loss: 0.4791 - accuracy: 0.8274\n",
            "1250/1250 [==============================] - 4s 2ms/step - loss: 0.8044 - accuracy: 0.7038\n",
            "625/625 [==============================] - 1s 2ms/step - loss: 0.4304 - accuracy: 0.8478\n",
            "1250/1250 [==============================] - 4s 2ms/step - loss: 0.7734 - accuracy: 0.7205\n",
            "625/625 [==============================] - 1s 2ms/step - loss: 0.4318 - accuracy: 0.8483\n",
            "1250/1250 [==============================] - 4s 2ms/step - loss: 0.7637 - accuracy: 0.7268\n",
            "625/625 [==============================] - 1s 2ms/step - loss: 0.4110 - accuracy: 0.8463\n",
            "1250/1250 [==============================] - 4s 2ms/step - loss: 0.7673 - accuracy: 0.7240\n",
            "625/625 [==============================] - 1s 2ms/step - loss: 0.4108 - accuracy: 0.8513\n",
            "1250/1250 [==============================] - 4s 2ms/step - loss: 0.7824 - accuracy: 0.7145\n",
            "625/625 [==============================] - 1s 2ms/step - loss: 0.3989 - accuracy: 0.8529\n",
            "1250/1250 [==============================] - 4s 2ms/step - loss: 0.7631 - accuracy: 0.7254\n",
            "625/625 [==============================] - 1s 2ms/step - loss: 0.4377 - accuracy: 0.8367\n",
            "1250/1250 [==============================] - 4s 2ms/step - loss: 0.7792 - accuracy: 0.7150\n",
            "625/625 [==============================] - 1s 2ms/step - loss: 0.4468 - accuracy: 0.8390\n",
            "1250/1250 [==============================] - 4s 2ms/step - loss: 0.7570 - accuracy: 0.7279\n",
            "625/625 [==============================] - 1s 2ms/step - loss: 0.4388 - accuracy: 0.8363\n",
            "1250/1250 [==============================] - 4s 2ms/step - loss: 0.9044 - accuracy: 0.6689\n",
            "625/625 [==============================] - 1s 2ms/step - loss: 0.5175 - accuracy: 0.8019\n",
            "1250/1250 [==============================] - 4s 2ms/step - loss: 0.9066 - accuracy: 0.6650\n",
            "625/625 [==============================] - 1s 2ms/step - loss: 0.5187 - accuracy: 0.8116\n",
            "1250/1250 [==============================] - 4s 2ms/step - loss: 0.9053 - accuracy: 0.6594\n",
            "625/625 [==============================] - 1s 2ms/step - loss: 0.4979 - accuracy: 0.8177\n",
            "1250/1250 [==============================] - 4s 2ms/step - loss: 0.8601 - accuracy: 0.6846\n",
            "625/625 [==============================] - 1s 2ms/step - loss: 0.4502 - accuracy: 0.8303\n",
            "1250/1250 [==============================] - 4s 2ms/step - loss: 0.8590 - accuracy: 0.6863\n",
            "625/625 [==============================] - 1s 2ms/step - loss: 0.4714 - accuracy: 0.8303\n",
            "1250/1250 [==============================] - 4s 2ms/step - loss: 0.8562 - accuracy: 0.6910\n",
            "625/625 [==============================] - 1s 2ms/step - loss: 0.4442 - accuracy: 0.8349\n",
            "1250/1250 [==============================] - 4s 2ms/step - loss: 0.8576 - accuracy: 0.6880\n",
            "625/625 [==============================] - 1s 2ms/step - loss: 0.4389 - accuracy: 0.8363\n",
            "1250/1250 [==============================] - 4s 2ms/step - loss: 0.8525 - accuracy: 0.6877\n",
            "625/625 [==============================] - 1s 2ms/step - loss: 0.4359 - accuracy: 0.8399\n",
            "1250/1250 [==============================] - 4s 2ms/step - loss: 0.8624 - accuracy: 0.6843\n",
            "625/625 [==============================] - 1s 2ms/step - loss: 0.5019 - accuracy: 0.8128\n",
            "1250/1250 [==============================] - 4s 2ms/step - loss: 0.8701 - accuracy: 0.6885\n",
            "625/625 [==============================] - 1s 2ms/step - loss: 0.4620 - accuracy: 0.8278\n",
            "1250/1250 [==============================] - 4s 2ms/step - loss: 0.8718 - accuracy: 0.6841\n",
            "625/625 [==============================] - 1s 2ms/step - loss: 0.4666 - accuracy: 0.8361\n",
            "1250/1250 [==============================] - 4s 2ms/step - loss: 0.8650 - accuracy: 0.6852\n",
            "625/625 [==============================] - 1s 2ms/step - loss: 0.4427 - accuracy: 0.8428\n",
            "1250/1250 [==============================] - 4s 2ms/step - loss: 0.8623 - accuracy: 0.6868\n",
            "625/625 [==============================] - 1s 2ms/step - loss: 0.4613 - accuracy: 0.8298\n",
            "1250/1250 [==============================] - 4s 2ms/step - loss: 0.8619 - accuracy: 0.6808\n",
            "625/625 [==============================] - 1s 2ms/step - loss: 0.4777 - accuracy: 0.8220\n",
            "1250/1250 [==============================] - 4s 2ms/step - loss: 0.8836 - accuracy: 0.6795\n",
            "625/625 [==============================] - 1s 2ms/step - loss: 0.4295 - accuracy: 0.8440\n",
            "1250/1250 [==============================] - 4s 2ms/step - loss: 0.8549 - accuracy: 0.6919\n",
            "625/625 [==============================] - 1s 2ms/step - loss: 0.4185 - accuracy: 0.8472\n",
            "1250/1250 [==============================] - 4s 2ms/step - loss: 0.8767 - accuracy: 0.6850\n",
            "625/625 [==============================] - 1s 2ms/step - loss: 0.4471 - accuracy: 0.8364\n",
            "1250/1250 [==============================] - 4s 2ms/step - loss: 0.8757 - accuracy: 0.6837\n",
            "625/625 [==============================] - 1s 2ms/step - loss: 0.4747 - accuracy: 0.8267\n",
            "1250/1250 [==============================] - 4s 2ms/step - loss: 0.8462 - accuracy: 0.6928\n",
            "625/625 [==============================] - 1s 2ms/step - loss: 0.4374 - accuracy: 0.8413\n",
            "1250/1250 [==============================] - 4s 2ms/step - loss: 0.8746 - accuracy: 0.6842\n",
            "625/625 [==============================] - 2s 2ms/step - loss: 0.4707 - accuracy: 0.8217\n",
            "1250/1250 [==============================] - 4s 2ms/step - loss: 0.8833 - accuracy: 0.6779\n",
            "625/625 [==============================] - 1s 2ms/step - loss: 0.4524 - accuracy: 0.8342\n",
            "1250/1250 [==============================] - 4s 2ms/step - loss: 0.8728 - accuracy: 0.6825\n",
            "625/625 [==============================] - 1s 2ms/step - loss: 0.4332 - accuracy: 0.8424\n",
            "1250/1250 [==============================] - 4s 2ms/step - loss: 0.8637 - accuracy: 0.6799\n",
            "625/625 [==============================] - 1s 2ms/step - loss: 0.4469 - accuracy: 0.8353\n",
            "1250/1250 [==============================] - 4s 2ms/step - loss: 0.8726 - accuracy: 0.6870\n",
            "625/625 [==============================] - 1s 2ms/step - loss: 0.4371 - accuracy: 0.8423\n",
            "1250/1250 [==============================] - 4s 2ms/step - loss: 0.8637 - accuracy: 0.6860\n",
            "625/625 [==============================] - 1s 2ms/step - loss: 0.4607 - accuracy: 0.8229\n",
            "1250/1250 [==============================] - 4s 2ms/step - loss: 0.8634 - accuracy: 0.6900\n",
            "625/625 [==============================] - 1s 2ms/step - loss: 0.4683 - accuracy: 0.8274\n",
            "1250/1250 [==============================] - 4s 2ms/step - loss: 0.8495 - accuracy: 0.6879\n",
            "625/625 [==============================] - 1s 2ms/step - loss: 0.4534 - accuracy: 0.8327\n",
            "1250/1250 [==============================] - 4s 2ms/step - loss: 0.8805 - accuracy: 0.6857\n",
            "625/625 [==============================] - 1s 2ms/step - loss: 0.4415 - accuracy: 0.8414\n",
            "1250/1250 [==============================] - 4s 2ms/step - loss: 0.8627 - accuracy: 0.6889\n",
            "625/625 [==============================] - 1s 2ms/step - loss: 0.4307 - accuracy: 0.8411\n",
            "1250/1250 [==============================] - 4s 2ms/step - loss: 0.8650 - accuracy: 0.6914\n",
            "625/625 [==============================] - 1s 2ms/step - loss: 0.4457 - accuracy: 0.8381\n",
            "1250/1250 [==============================] - 4s 2ms/step - loss: 0.9681 - accuracy: 0.6381\n",
            "625/625 [==============================] - 1s 2ms/step - loss: 0.5605 - accuracy: 0.7981\n",
            "1250/1250 [==============================] - 4s 2ms/step - loss: 0.9818 - accuracy: 0.6355\n",
            "625/625 [==============================] - 1s 2ms/step - loss: 0.5973 - accuracy: 0.7847\n",
            "1250/1250 [==============================] - 4s 2ms/step - loss: 0.9772 - accuracy: 0.6384\n",
            "625/625 [==============================] - 1s 2ms/step - loss: 0.5046 - accuracy: 0.8181\n",
            "1250/1250 [==============================] - 4s 2ms/step - loss: 0.9522 - accuracy: 0.6563\n",
            "625/625 [==============================] - 1s 2ms/step - loss: 0.4670 - accuracy: 0.8270\n",
            "1250/1250 [==============================] - 4s 2ms/step - loss: 0.9528 - accuracy: 0.6504\n",
            "625/625 [==============================] - 1s 2ms/step - loss: 0.4690 - accuracy: 0.8271\n",
            "1250/1250 [==============================] - 4s 2ms/step - loss: 0.9650 - accuracy: 0.6539\n",
            "625/625 [==============================] - 1s 2ms/step - loss: 0.5085 - accuracy: 0.8029\n",
            "1250/1250 [==============================] - 4s 2ms/step - loss: 0.9540 - accuracy: 0.6555\n",
            "625/625 [==============================] - 2s 2ms/step - loss: 0.4559 - accuracy: 0.8312\n",
            "1250/1250 [==============================] - 4s 2ms/step - loss: 0.9651 - accuracy: 0.6472\n",
            "625/625 [==============================] - 1s 2ms/step - loss: 0.4692 - accuracy: 0.8366\n",
            "1250/1250 [==============================] - 4s 2ms/step - loss: 0.9856 - accuracy: 0.6451\n",
            "625/625 [==============================] - 1s 2ms/step - loss: 0.4594 - accuracy: 0.8309\n",
            "1250/1250 [==============================] - 4s 2ms/step - loss: 0.9554 - accuracy: 0.6491\n",
            "625/625 [==============================] - 1s 2ms/step - loss: 0.4524 - accuracy: 0.8379\n",
            "1250/1250 [==============================] - 4s 2ms/step - loss: 1.0058 - accuracy: 0.6377\n",
            "625/625 [==============================] - 1s 2ms/step - loss: 0.4719 - accuracy: 0.8281\n",
            "1250/1250 [==============================] - 4s 2ms/step - loss: 0.9739 - accuracy: 0.6393\n",
            "625/625 [==============================] - 1s 2ms/step - loss: 0.4520 - accuracy: 0.8343\n",
            "1250/1250 [==============================] - 4s 2ms/step - loss: 0.9818 - accuracy: 0.6487\n",
            "625/625 [==============================] - 1s 2ms/step - loss: 0.4477 - accuracy: 0.8319\n",
            "1250/1250 [==============================] - 4s 2ms/step - loss: 1.0018 - accuracy: 0.6380\n",
            "625/625 [==============================] - 1s 2ms/step - loss: 0.4814 - accuracy: 0.8270\n",
            "1250/1250 [==============================] - 4s 2ms/step - loss: 0.9898 - accuracy: 0.6415\n",
            "625/625 [==============================] - 1s 2ms/step - loss: 0.4712 - accuracy: 0.8245\n",
            "1250/1250 [==============================] - 4s 2ms/step - loss: 0.9601 - accuracy: 0.6526\n",
            "625/625 [==============================] - 1s 2ms/step - loss: 0.4776 - accuracy: 0.8184\n",
            "1250/1250 [==============================] - 4s 2ms/step - loss: 0.9720 - accuracy: 0.6468\n",
            "625/625 [==============================] - 1s 2ms/step - loss: 0.4830 - accuracy: 0.8212\n",
            "1250/1250 [==============================] - 4s 2ms/step - loss: 0.9643 - accuracy: 0.6507\n",
            "625/625 [==============================] - 1s 2ms/step - loss: 0.4637 - accuracy: 0.8381\n",
            "1250/1250 [==============================] - 4s 2ms/step - loss: 0.9779 - accuracy: 0.6477\n",
            "625/625 [==============================] - 1s 2ms/step - loss: 0.4739 - accuracy: 0.8228\n",
            "1250/1250 [==============================] - 4s 2ms/step - loss: 0.9767 - accuracy: 0.6471\n",
            "625/625 [==============================] - 1s 2ms/step - loss: 0.4629 - accuracy: 0.8375\n",
            "1250/1250 [==============================] - 4s 2ms/step - loss: 0.9869 - accuracy: 0.6462\n",
            "625/625 [==============================] - 1s 2ms/step - loss: 0.4876 - accuracy: 0.8227\n",
            "1250/1250 [==============================] - 4s 2ms/step - loss: 1.0023 - accuracy: 0.6387\n",
            "625/625 [==============================] - 1s 2ms/step - loss: 0.4568 - accuracy: 0.8286\n",
            "1250/1250 [==============================] - 4s 2ms/step - loss: 0.9791 - accuracy: 0.6485\n",
            "625/625 [==============================] - 1s 2ms/step - loss: 0.4467 - accuracy: 0.8367\n",
            "1250/1250 [==============================] - 4s 2ms/step - loss: 0.9797 - accuracy: 0.6477\n",
            "625/625 [==============================] - 1s 2ms/step - loss: 0.4675 - accuracy: 0.8260\n",
            "1250/1250 [==============================] - 4s 2ms/step - loss: 0.9707 - accuracy: 0.6491\n",
            "625/625 [==============================] - 1s 2ms/step - loss: 0.4902 - accuracy: 0.8190\n",
            "1250/1250 [==============================] - 4s 2ms/step - loss: 0.9796 - accuracy: 0.6408\n",
            "625/625 [==============================] - 1s 2ms/step - loss: 0.4758 - accuracy: 0.8364\n",
            "1250/1250 [==============================] - 4s 2ms/step - loss: 0.9729 - accuracy: 0.6427\n",
            "625/625 [==============================] - 1s 2ms/step - loss: 0.4534 - accuracy: 0.8332\n",
            "1250/1250 [==============================] - 4s 2ms/step - loss: 0.9875 - accuracy: 0.6378\n",
            "625/625 [==============================] - 1s 2ms/step - loss: 0.4675 - accuracy: 0.8250\n",
            "1250/1250 [==============================] - 4s 2ms/step - loss: 0.9832 - accuracy: 0.6399\n",
            "625/625 [==============================] - 1s 2ms/step - loss: 0.4704 - accuracy: 0.8304\n",
            "1250/1250 [==============================] - 4s 2ms/step - loss: 0.9549 - accuracy: 0.6590\n",
            "625/625 [==============================] - 1s 2ms/step - loss: 0.4669 - accuracy: 0.8316\n",
            "1250/1250 [==============================] - 4s 2ms/step - loss: 1.0873 - accuracy: 0.5939\n",
            "625/625 [==============================] - 1s 2ms/step - loss: 0.5666 - accuracy: 0.7899\n",
            "1250/1250 [==============================] - 4s 2ms/step - loss: 1.0841 - accuracy: 0.5928\n",
            "625/625 [==============================] - 1s 2ms/step - loss: 0.5742 - accuracy: 0.8062\n",
            "1250/1250 [==============================] - 4s 2ms/step - loss: 1.1132 - accuracy: 0.5837\n",
            "625/625 [==============================] - 1s 2ms/step - loss: 0.5500 - accuracy: 0.8035\n",
            "1250/1250 [==============================] - 4s 2ms/step - loss: 1.1006 - accuracy: 0.6023\n",
            "625/625 [==============================] - 1s 2ms/step - loss: 0.5314 - accuracy: 0.8106\n",
            "1250/1250 [==============================] - 4s 2ms/step - loss: 1.0907 - accuracy: 0.6012\n",
            "625/625 [==============================] - 1s 2ms/step - loss: 0.5191 - accuracy: 0.7987\n",
            "1250/1250 [==============================] - 4s 2ms/step - loss: 1.1116 - accuracy: 0.5887\n",
            "625/625 [==============================] - 1s 2ms/step - loss: 0.5491 - accuracy: 0.8061\n",
            "1250/1250 [==============================] - 4s 2ms/step - loss: 1.1266 - accuracy: 0.5904\n",
            "625/625 [==============================] - 1s 2ms/step - loss: 0.5001 - accuracy: 0.8101\n",
            "1250/1250 [==============================] - 4s 2ms/step - loss: 1.1146 - accuracy: 0.5924\n",
            "625/625 [==============================] - 1s 2ms/step - loss: 0.5310 - accuracy: 0.8043\n",
            "1250/1250 [==============================] - 4s 2ms/step - loss: 1.1438 - accuracy: 0.5852\n",
            "625/625 [==============================] - 1s 2ms/step - loss: 0.5226 - accuracy: 0.7956\n",
            "1250/1250 [==============================] - 4s 2ms/step - loss: 1.1383 - accuracy: 0.5855\n",
            "625/625 [==============================] - 1s 2ms/step - loss: 0.5035 - accuracy: 0.8201\n",
            "1250/1250 [==============================] - 4s 2ms/step - loss: 1.1274 - accuracy: 0.5923\n",
            "625/625 [==============================] - 1s 2ms/step - loss: 0.4980 - accuracy: 0.8103\n",
            "1250/1250 [==============================] - 4s 2ms/step - loss: 1.1601 - accuracy: 0.5788\n",
            "625/625 [==============================] - 1s 2ms/step - loss: 0.4948 - accuracy: 0.8195\n",
            "1250/1250 [==============================] - 4s 2ms/step - loss: 1.1464 - accuracy: 0.5841\n",
            "625/625 [==============================] - 1s 2ms/step - loss: 0.5018 - accuracy: 0.8160\n",
            "1250/1250 [==============================] - 4s 2ms/step - loss: 1.1460 - accuracy: 0.5836\n",
            "625/625 [==============================] - 1s 2ms/step - loss: 0.4993 - accuracy: 0.8077\n",
            "1250/1250 [==============================] - 4s 2ms/step - loss: 1.1231 - accuracy: 0.5878\n",
            "625/625 [==============================] - 1s 2ms/step - loss: 0.4977 - accuracy: 0.8268\n",
            "1250/1250 [==============================] - 4s 2ms/step - loss: 1.1446 - accuracy: 0.5881\n",
            "625/625 [==============================] - 1s 2ms/step - loss: 0.4905 - accuracy: 0.8206\n",
            "1250/1250 [==============================] - 4s 2ms/step - loss: 1.1211 - accuracy: 0.5888\n",
            "625/625 [==============================] - 1s 2ms/step - loss: 0.5132 - accuracy: 0.8009\n",
            "1250/1250 [==============================] - 4s 2ms/step - loss: 1.1440 - accuracy: 0.5799\n",
            "625/625 [==============================] - 1s 2ms/step - loss: 0.5034 - accuracy: 0.8218\n",
            "1250/1250 [==============================] - 4s 2ms/step - loss: 1.1412 - accuracy: 0.5861\n",
            "625/625 [==============================] - 1s 2ms/step - loss: 0.5266 - accuracy: 0.7978\n",
            "1250/1250 [==============================] - 4s 2ms/step - loss: 1.1052 - accuracy: 0.6009\n",
            "625/625 [==============================] - 1s 2ms/step - loss: 0.5233 - accuracy: 0.8089\n",
            "1250/1250 [==============================] - 4s 2ms/step - loss: 1.1571 - accuracy: 0.5771\n",
            "625/625 [==============================] - 1s 2ms/step - loss: 0.4912 - accuracy: 0.8177\n",
            "1250/1250 [==============================] - 4s 2ms/step - loss: 1.1556 - accuracy: 0.5810\n",
            "625/625 [==============================] - 1s 2ms/step - loss: 0.5161 - accuracy: 0.8148\n",
            "1250/1250 [==============================] - 4s 2ms/step - loss: 1.1524 - accuracy: 0.5850\n",
            "625/625 [==============================] - 1s 2ms/step - loss: 0.4967 - accuracy: 0.8271\n",
            "1250/1250 [==============================] - 4s 2ms/step - loss: 1.1254 - accuracy: 0.5949\n",
            "625/625 [==============================] - 1s 2ms/step - loss: 0.5244 - accuracy: 0.8077\n",
            "1250/1250 [==============================] - 4s 2ms/step - loss: 1.1262 - accuracy: 0.5851\n",
            "625/625 [==============================] - 1s 2ms/step - loss: 0.5031 - accuracy: 0.8056\n",
            "1250/1250 [==============================] - 4s 2ms/step - loss: 1.1476 - accuracy: 0.5801\n",
            "625/625 [==============================] - 1s 2ms/step - loss: 0.5236 - accuracy: 0.8034\n",
            "1250/1250 [==============================] - 4s 2ms/step - loss: 1.1384 - accuracy: 0.5884\n",
            "625/625 [==============================] - 1s 2ms/step - loss: 0.4850 - accuracy: 0.8275\n",
            "1250/1250 [==============================] - 4s 2ms/step - loss: 1.1426 - accuracy: 0.5769\n",
            "625/625 [==============================] - 1s 2ms/step - loss: 0.5135 - accuracy: 0.8025\n",
            "1250/1250 [==============================] - 4s 2ms/step - loss: 1.1215 - accuracy: 0.5930\n",
            "625/625 [==============================] - 1s 2ms/step - loss: 0.5097 - accuracy: 0.8139\n",
            "1250/1250 [==============================] - 4s 2ms/step - loss: 1.1523 - accuracy: 0.5772\n",
            "625/625 [==============================] - 1s 2ms/step - loss: 0.4913 - accuracy: 0.8192\n",
            "1250/1250 [==============================] - 4s 2ms/step - loss: 1.2547 - accuracy: 0.5339\n",
            "625/625 [==============================] - 1s 2ms/step - loss: 0.5719 - accuracy: 0.7811\n",
            "1250/1250 [==============================] - 4s 2ms/step - loss: 1.2592 - accuracy: 0.5296\n",
            "625/625 [==============================] - 1s 2ms/step - loss: 0.6021 - accuracy: 0.7772\n",
            "1250/1250 [==============================] - 4s 2ms/step - loss: 1.2602 - accuracy: 0.5215\n",
            "625/625 [==============================] - 1s 2ms/step - loss: 0.6023 - accuracy: 0.7724\n",
            "1250/1250 [==============================] - 4s 2ms/step - loss: 1.3294 - accuracy: 0.5149\n",
            "625/625 [==============================] - 1s 2ms/step - loss: 0.5555 - accuracy: 0.7936\n",
            "1250/1250 [==============================] - 4s 2ms/step - loss: 1.3153 - accuracy: 0.5140\n",
            "625/625 [==============================] - 1s 2ms/step - loss: 0.5598 - accuracy: 0.7876\n",
            "1250/1250 [==============================] - 4s 2ms/step - loss: 1.3335 - accuracy: 0.5010\n",
            "625/625 [==============================] - 2s 2ms/step - loss: 0.5688 - accuracy: 0.7809\n",
            "1250/1250 [==============================] - 4s 2ms/step - loss: 1.3960 - accuracy: 0.5063\n",
            "625/625 [==============================] - 1s 2ms/step - loss: 0.5573 - accuracy: 0.8005\n",
            "1250/1250 [==============================] - 4s 2ms/step - loss: 1.3714 - accuracy: 0.4958\n",
            "625/625 [==============================] - 1s 2ms/step - loss: 0.5871 - accuracy: 0.7624\n",
            "1250/1250 [==============================] - 4s 2ms/step - loss: 1.3774 - accuracy: 0.4896\n",
            "625/625 [==============================] - 1s 2ms/step - loss: 0.5732 - accuracy: 0.7870\n",
            "1250/1250 [==============================] - 4s 2ms/step - loss: 1.3962 - accuracy: 0.4835\n",
            "625/625 [==============================] - 1s 2ms/step - loss: 0.5662 - accuracy: 0.7829\n",
            "1250/1250 [==============================] - 4s 2ms/step - loss: 1.3908 - accuracy: 0.5019\n",
            "625/625 [==============================] - 1s 2ms/step - loss: 0.5810 - accuracy: 0.7867\n",
            "1250/1250 [==============================] - 4s 2ms/step - loss: 1.3591 - accuracy: 0.5051\n",
            "625/625 [==============================] - 1s 2ms/step - loss: 0.5876 - accuracy: 0.7876\n",
            "1250/1250 [==============================] - 4s 2ms/step - loss: 1.3813 - accuracy: 0.4911\n",
            "625/625 [==============================] - 1s 2ms/step - loss: 0.5749 - accuracy: 0.7811\n",
            "1250/1250 [==============================] - 4s 2ms/step - loss: 1.3909 - accuracy: 0.4985\n",
            "625/625 [==============================] - 1s 2ms/step - loss: 0.5689 - accuracy: 0.7825\n",
            "1250/1250 [==============================] - 4s 2ms/step - loss: 1.3863 - accuracy: 0.4992\n",
            "625/625 [==============================] - 1s 2ms/step - loss: 0.5691 - accuracy: 0.7864\n",
            "1250/1250 [==============================] - 4s 2ms/step - loss: 1.3816 - accuracy: 0.4905\n",
            "625/625 [==============================] - 1s 2ms/step - loss: 0.5797 - accuracy: 0.7743\n",
            "1250/1250 [==============================] - 4s 2ms/step - loss: 1.3922 - accuracy: 0.4948\n",
            "625/625 [==============================] - 1s 2ms/step - loss: 0.5927 - accuracy: 0.7804\n",
            "1250/1250 [==============================] - 4s 2ms/step - loss: 1.3558 - accuracy: 0.5043\n",
            "625/625 [==============================] - 1s 2ms/step - loss: 0.5866 - accuracy: 0.7815\n",
            "1250/1250 [==============================] - 4s 2ms/step - loss: 1.3867 - accuracy: 0.4980\n",
            "625/625 [==============================] - 1s 2ms/step - loss: 0.5623 - accuracy: 0.7886\n",
            "1250/1250 [==============================] - 4s 2ms/step - loss: 1.3658 - accuracy: 0.5032\n",
            "625/625 [==============================] - 1s 2ms/step - loss: 0.5730 - accuracy: 0.7892\n",
            "1250/1250 [==============================] - 4s 2ms/step - loss: 1.3886 - accuracy: 0.5023\n",
            "625/625 [==============================] - 1s 2ms/step - loss: 0.5854 - accuracy: 0.7475\n",
            "1250/1250 [==============================] - 4s 2ms/step - loss: 1.3786 - accuracy: 0.4979\n",
            "625/625 [==============================] - 1s 2ms/step - loss: 0.5665 - accuracy: 0.7880\n",
            "1250/1250 [==============================] - 4s 2ms/step - loss: 1.3730 - accuracy: 0.4920\n",
            "625/625 [==============================] - 1s 2ms/step - loss: 0.5765 - accuracy: 0.7822\n",
            "1250/1250 [==============================] - 4s 2ms/step - loss: 1.4075 - accuracy: 0.4926\n",
            "625/625 [==============================] - 1s 2ms/step - loss: 0.5717 - accuracy: 0.7878\n",
            "1250/1250 [==============================] - 4s 2ms/step - loss: 1.3436 - accuracy: 0.5045\n",
            "625/625 [==============================] - 1s 2ms/step - loss: 0.5628 - accuracy: 0.7831\n",
            "1250/1250 [==============================] - 4s 2ms/step - loss: 1.3814 - accuracy: 0.4936\n",
            "625/625 [==============================] - 1s 2ms/step - loss: 0.5580 - accuracy: 0.7936\n",
            "1250/1250 [==============================] - 4s 2ms/step - loss: 1.3840 - accuracy: 0.4985\n",
            "625/625 [==============================] - 1s 2ms/step - loss: 0.5587 - accuracy: 0.7886\n",
            "1250/1250 [==============================] - 4s 2ms/step - loss: 1.3968 - accuracy: 0.4879\n",
            "625/625 [==============================] - 1s 2ms/step - loss: 0.5577 - accuracy: 0.7862\n",
            "1250/1250 [==============================] - 4s 3ms/step - loss: 1.3297 - accuracy: 0.5087\n",
            "625/625 [==============================] - 1s 2ms/step - loss: 0.5646 - accuracy: 0.7860\n",
            "1250/1250 [==============================] - 4s 2ms/step - loss: 1.4017 - accuracy: 0.4903\n",
            "625/625 [==============================] - 1s 2ms/step - loss: 0.5789 - accuracy: 0.7872\n"
          ],
          "name": "stdout"
        },
        {
          "output_type": "stream",
          "text": [
            "[Parallel(n_jobs=-2)]: Done 210 out of 210 | elapsed: 22.7min finished\n"
          ],
          "name": "stderr"
        },
        {
          "output_type": "stream",
          "text": [
            "1875/1875 [==============================] - 5s 2ms/step - loss: 0.6069 - accuracy: 0.7835\n"
          ],
          "name": "stdout"
        }
      ]
    },
    {
      "cell_type": "code",
      "metadata": {
        "colab": {
          "base_uri": "https://localhost:8080/"
        },
        "id": "RcRBgd4rZ8Ht",
        "outputId": "c2bdf750-2f3a-438e-ec43-7404509992cb"
      },
      "source": [
        "print(\"Gridsearch runtime {0:.3} mins\".format( (end-start)/60 ))"
      ],
      "execution_count": 61,
      "outputs": [
        {
          "output_type": "stream",
          "text": [
            "Gridsearch runtime 22.8 mins\n"
          ],
          "name": "stdout"
        }
      ]
    },
    {
      "cell_type": "code",
      "metadata": {
        "id": "ZDpxSKpfZ8Ht"
      },
      "source": [
        "# use the mean accuracy from the CV splits for determining best model score \n",
        "means = grid.cv_results_['mean_test_score']\n",
        "stds = grid.cv_results_['std_test_score']\n",
        "params = grid.cv_results_['params']\n",
        "\n",
        "# move l2 penalty values outside of dictionary and into a list\n",
        "param_values = [dic[\"dropout_prob\"] for dic in params]"
      ],
      "execution_count": 62,
      "outputs": []
    },
    {
      "cell_type": "markdown",
      "metadata": {
        "id": "QO4WtMbqZ8Ht"
      },
      "source": [
        "Since there are 2 indepdent variables this time around (dropout_prob and maxnorm_wc) which affect the validation accuracy, it's best to use a different plot. A heat map will work. "
      ]
    },
    {
      "cell_type": "code",
      "metadata": {
        "id": "c_A_EBXjZ8Hu"
      },
      "source": [
        "dropout_prob_list = [  dic[\"dropout_prob\"]  for dic in params]\n",
        "maxnorm_wc_list = [  dic[\"maxnorm_wc\"]  for dic in params]\n",
        "data = [means, dropout_prob_list, maxnorm_wc_list ]\n",
        "\n",
        "cols = [\"val_acc\", \"dropout_prob\", \"maxnorm_wc\"]\n",
        "df_exp3 =pd.DataFrame(data=data).T\n",
        "df_exp3.columns = cols\n",
        "df_exp3.dropout_prob = df_exp3.dropout_prob.round(2)\n",
        "\n",
        "# pivot dataframe in preperation for heat map\n",
        "df_exp3 = df_exp3.pivot(\"maxnorm_wc\", \"dropout_prob\", \"val_acc\")"
      ],
      "execution_count": 63,
      "outputs": []
    },
    {
      "cell_type": "code",
      "metadata": {
        "colab": {
          "base_uri": "https://localhost:8080/",
          "height": 498
        },
        "id": "6SFWQAwOZ8Hu",
        "outputId": "02ba9db8-f084-42ed-cb6b-63724dca182c"
      },
      "source": [
        "# Draw a heatmap with the val_acc values in each cell\n",
        "f, ax = plt.subplots(figsize=(18, 8))\n",
        "sns.heatmap(df_exp3, annot=True,  linewidths=.5, ax=ax);"
      ],
      "execution_count": 64,
      "outputs": [
        {
          "output_type": "display_data",
          "data": {
            "image/png": "[encoded data removed]",
            "text/plain": [
              "<Figure size 1296x576 with 2 Axes>"
            ]
          },
          "metadata": {
            "tags": [],
            "needs_background": "light"
          }
        }
      ]
    },
    {
      "cell_type": "markdown",
      "metadata": {
        "id": "0i2-s_WgZ8Hu"
      },
      "source": [
        "### Observations \n",
        "\n",
        "We can see the dropout probabilities in the horizontal axis and the maxnorm weight constraint values in the virtical axis. The values in the cells are the validation accuracy that corresponds to a pair of regularization values.\n",
        "\n",
        "Take a look at the heat map and answer the following questions. Note that depending on which model you used (the simple or complex one) your answers might be different from that of others. "
      ]
    },
    {
      "cell_type": "markdown",
      "metadata": {
        "id": "nLjIMbCBZ8Hu"
      },
      "source": [
        "**What range of dropout probability values tend to produce the highest validation accuracy?**"
      ]
    },
    {
      "cell_type": "markdown",
      "metadata": {
        "deletable": false,
        "nbgrader": {
          "cell_type": "markdown",
          "checksum": "0f0013d4e07104a03b4d51664a308f53",
          "grade": true,
          "grade_id": "cell-4e0cb7a9240b1531",
          "locked": false,
          "points": 0,
          "schema_version": 3,
          "solution": true,
          "task": false
        },
        "id": "QABfnpYLZ8Hv"
      },
      "source": [
        "YOUR ANSWER HERE"
      ]
    },
    {
      "cell_type": "markdown",
      "metadata": {
        "id": "krtFVz5QZ8Hv"
      },
      "source": [
        "**What range of maxnorm weight constraints tend to produce the highest validation accuracy?**"
      ]
    },
    {
      "cell_type": "markdown",
      "metadata": {
        "deletable": false,
        "nbgrader": {
          "cell_type": "markdown",
          "checksum": "9fd88f0bb870a910b925d60b38d17694",
          "grade": true,
          "grade_id": "cell-99539755d7d328f7",
          "locked": false,
          "points": 0,
          "schema_version": 3,
          "solution": true,
          "task": false
        },
        "id": "rYtHlaqtZ8Hv"
      },
      "source": [
        "YOUR ANSWER HERE 2.5"
      ]
    },
    {
      "cell_type": "markdown",
      "metadata": {
        "id": "pTjJ_a26Z8Hv"
      },
      "source": [
        "**When taken together, what pair of dropout probability and maxnorm weight constraints tend to produce the highest validation accuracy?**"
      ]
    },
    {
      "cell_type": "markdown",
      "metadata": {
        "deletable": false,
        "nbgrader": {
          "cell_type": "markdown",
          "checksum": "fee1e09ed8f6d354bd7b6e2986c2b811",
          "grade": true,
          "grade_id": "cell-5e19a56b4a2d975d",
          "locked": false,
          "points": 0,
          "schema_version": 3,
          "solution": true,
          "task": false
        },
        "id": "yC61m_aRZ8Hw"
      },
      "source": [
        "YOUR ANSWER HERE maxnorm : 2.5 and dropout prob:0.0\n"
      ]
    },
    {
      "cell_type": "markdown",
      "metadata": {
        "id": "mp_Q3hqSZ8Hw"
      },
      "source": [
        "**Do you think that using dropout was helpful in increasing model performance?**"
      ]
    },
    {
      "cell_type": "markdown",
      "metadata": {
        "deletable": false,
        "nbgrader": {
          "cell_type": "markdown",
          "checksum": "de9c1bcff3c5eb6266cc80632d0956f0",
          "grade": true,
          "grade_id": "cell-d2a2f7b284c801dc",
          "locked": false,
          "points": 0,
          "schema_version": 3,
          "solution": true,
          "task": false
        },
        "id": "AnCVTP2lZ8Hw"
      },
      "source": [
        "YOUR ANSWER HERE only slightly"
      ]
    },
    {
      "cell_type": "markdown",
      "metadata": {
        "id": "vN27hPGyZ8Hw"
      },
      "source": [
        "-----\n",
        "# Stretch Goals for $L_p$ Space section\n",
        "\n",
        "Here are some ideas that you can explore using the custom distance metric class that you have built. Though if you think of something else, go for it!\n",
        "\n",
        "- Run a similar experiment but instead of comparing L2 between Keras and our custom class, compare L1 (Lasso) \n",
        "- Run a similar experiment but instead of comparing L2 between Keras and our custom class, compare L1_L2 (Elastic Net) \n",
        "- Run a gridsearch across several different Lp distance metrics and strengths and see which Lp distance leads to the best performing model\n",
        "    - Consider selecting a p range between **[1, 1.5, 2, 2.5, 3, 3.5, 4, 4.5, 5, ..., 10]** step size of 0.5\n",
        "    - Consider selecting a p range between **[1, 10, 100, 1000, 10000]** step size in powers of 10"
      ]
    },
    {
      "cell_type": "code",
      "metadata": {
        "id": "aFXorGLdZ8Hx"
      },
      "source": [
        ""
      ],
      "execution_count": 64,
      "outputs": []
    },
    {
      "cell_type": "code",
      "metadata": {
        "id": "rwvb0xfdZ8Hx"
      },
      "source": [
        ""
      ],
      "execution_count": 64,
      "outputs": []
    },
    {
      "cell_type": "markdown",
      "metadata": {
        "id": "ky3yixrQZ8Hx"
      },
      "source": [
        "_____\n",
        "\n",
        "### Experiment 4: Train, Save, and Load a Keras model\n",
        "\n",
        "Let's get some practice with how to save and load trained Keras models \n",
        "\n",
        "For this experiment, review the section on Saving and Loading models from the guided project in order to help you to: \n",
        "\n",
        "- Build a model of your choosing\n",
        "- Gridsearch the model with a method of your choosing\n",
        "- Save the trained model to file\n",
        "- Load the trained model from file\n",
        "- Just as we did in the Guided Project, evalute the loaded model using a test set and make sure the results of the loaded model match that of the saved model "
      ]
    },
    {
      "cell_type": "code",
      "metadata": {
        "id": "JJXJRGnBZ8Hy"
      },
      "source": [
        ""
      ],
      "execution_count": 64,
      "outputs": []
    },
    {
      "cell_type": "code",
      "metadata": {
        "id": "1IMm9h97Z8Hy"
      },
      "source": [
        ""
      ],
      "execution_count": 64,
      "outputs": []
    },
    {
      "cell_type": "code",
      "metadata": {
        "id": "PT3_V5l9Z8Hy"
      },
      "source": [
        ""
      ],
      "execution_count": 64,
      "outputs": []
    }
  ]
}