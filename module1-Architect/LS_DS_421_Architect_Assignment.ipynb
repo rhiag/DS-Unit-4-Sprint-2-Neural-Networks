{
 "cells": [
  {
   "cell_type": "markdown",
   "metadata": {
    "colab_type": "text",
    "id": "ObyHCH8HvHSf"
   },
   "source": [
    "\n",
    "# *Data Science Unit 4 Sprint 2 Assignment 1*\n",
    "\n",
    "Use TensorFlow Keras & a sample of the [Quickdraw dataset](https://github.com/googlecreativelab/quickdraw-dataset) to build a sketch classification model. The dataset has been sampled to only 10 classes and 10000 observations per class. \n",
    "\n",
    "### Objective\n",
    "\n",
    "- Build a baseline classification model then run a few experiments with different optimizers and learning rates. \n",
    "- Don't forgot to [**switch to GPU on if you're running your notebook on Colab!**](https://colab.research.google.com/notebooks/gpu.ipynb)"
   ]
  },
  {
   "cell_type": "markdown",
   "metadata": {
    "colab_type": "text",
    "id": "s-Tc3ovEyQ9b"
   },
   "source": [
    "## Load Your Data"
   ]
  },
  {
   "cell_type": "code",
   "execution_count": 1,
   "metadata": {
    "colab": {},
    "colab_type": "code",
    "id": "CkU0pAYCvU8o"
   },
   "outputs": [],
   "source": [
    "# imports in first cell \n",
    "import seaborn as sns\n",
    "import pandas as pd\n",
    "import numpy as np\n",
    "import tensorflow as tf \n",
    "import matplotlib.pyplot as plt\n",
    "from sklearn.utils import shuffle\n",
    "\n",
    "# use Sequential to build out your model\n",
    "from tensorflow.keras.models import Sequential\n",
    "\n",
    "# Dense layer is used for Fully Connected Forward Feeding networks\n",
    "from tensorflow.keras.layers import Dense"
   ]
  },
  {
   "cell_type": "code",
   "execution_count": 2,
   "metadata": {
    "colab": {},
    "colab_type": "code",
    "id": "CkU0pAYCvU8o"
   },
   "outputs": [
    {
     "name": "stdout",
     "output_type": "stream",
     "text": [
      "(100000, 784)\n",
      "(100000,)\n"
     ]
    }
   ],
   "source": [
    "# load in data set\n",
    "data = np.load('../quickdraw10.npz')\n",
    "X = data['arr_0']\n",
    "y = data['arr_1']\n",
    "\n",
    "\n",
    "print(X.shape)\n",
    "print(y.shape)"
   ]
  },
  {
   "cell_type": "code",
   "execution_count": 3,
   "metadata": {
    "colab": {},
    "colab_type": "code",
    "id": "c8qsDqdqvHDd"
   },
   "outputs": [],
   "source": [
    "class_names = ['apple',\n",
    "             'anvil',\n",
    "             'airplane',\n",
    "             'banana',\n",
    "             'The Eiffel Tower',\n",
    "             'The Mona Lisa',\n",
    "             'The Great Wall of China',\n",
    "             'alarm clock',\n",
    "             'ant',\n",
    "             'asparagus']"
   ]
  },
  {
   "cell_type": "code",
   "execution_count": 4,
   "metadata": {
    "colab": {},
    "colab_type": "code",
    "id": "Owbm1EbxvA5A"
   },
   "outputs": [
    {
     "data": {
      "image/png": "[encoded data removed]",
      "text/plain": [
       "<Figure size 720x360 with 10 Axes>"
      ]
     },
     "metadata": {},
     "output_type": "display_data"
    }
   ],
   "source": [
    "# these are your 10 unique images\n",
    "plt.figure(figsize=(10,5))\n",
    "start = 0\n",
    "\n",
    "for num, name in enumerate(class_names):\n",
    "    plt.subplot(2,5, num+1)\n",
    "    plt.xticks([])\n",
    "    plt.yticks([])\n",
    "    plt.grid(False)\n",
    "    plt.imshow(X[start].reshape(28,28), cmap=plt.cm.binary)\n",
    "    plt.xlabel(name)\n",
    "    start += 10000\n",
    "plt.show()"
   ]
  },
  {
   "cell_type": "markdown",
   "metadata": {},
   "source": [
    "Say hello to the Quickdraw dataset. \n",
    "\n",
    "You'll be using this dataset a lot this week as an alternative to the mnist which we'll be using in the guided projects. The nice thing about this dataset is that it's simple, which allows us to focus on our model, it's various components, and gradually coming to a better understand of how to build neural networks without worrying about cleaning and preping our image data too much. "
   ]
  },
  {
   "cell_type": "code",
   "execution_count": 5,
   "metadata": {
    "colab": {},
    "colab_type": "code",
    "id": "c97_M1WNvTNY"
   },
   "outputs": [],
   "source": [
    "# always a good idea to shuffle your dataset \n",
    "X, y = shuffle(X, y)"
   ]
  },
  {
   "cell_type": "markdown",
   "metadata": {
    "colab_type": "text",
    "id": "jb70CbLVyK65"
   },
   "source": [
    "-----\n",
    "\n",
    "## Build Your Baseline Model\n",
    "\n",
    "Make sure that you\n",
    "\n",
    "- **Determine** the dimensionality of your input data by investigating **X**\n",
    "- **Normalize** your input data to values between 0 and 1 \n",
    "- **Determine** the number of neurons in your output layer by investigating **Y**\n",
    "- **Select** `sparse_categorical_crossentropy` as your loss function.\n",
    "- **Select** `sgd` as your optimizer.\n",
    "- **Add** 3 hidden layers to your model with the following number of nodes\n",
    "    - h1 has 500 nodes\n",
    "    - h2 has 250 nodes\n",
    "    - h3 has 100 nodes\n",
    "    \n",
    "- **Set** epochs to 20 \n",
    "- **Use** the `validation_split` command to automatically create a training / validation dataset from within the model, so you don't have to do it yourself.\n",
    "    -  Specify a percentage such as .2 in your fit statement.\n",
    " \n",
    " \n",
    "Not sure what the various parameters are for or what what values to assign to them?\n",
    "\n",
    "- Reference the guided project notebook for Sprint 2 Module 1\n",
    "- Reference the [**Keras documentation**](https://keras.io/api/)\n",
    "- Google other examples\n",
    "- Discuss your results with classmates "
   ]
  },
  {
   "cell_type": "code",
   "execution_count": 8,
   "metadata": {
    "deletable": false,
    "nbgrader": {
     "cell_type": "code",
     "checksum": "ef20dd34df6998e0a50e394d59d58659",
     "grade": false,
     "grade_id": "cell-907b9348d7a2ebb3",
     "locked": false,
     "schema_version": 3,
     "solution": true,
     "task": false
    }
   },
   "outputs": [
    {
     "name": "stdout",
     "output_type": "stream",
     "text": [
      "Input dimensions 784\n"
     ]
    },
    {
     "data": {
      "text/plain": [
       "array([[0., 0., 0., ..., 0., 0., 0.],\n",
       "       [0., 0., 0., ..., 0., 0., 0.],\n",
       "       [0., 0., 0., ..., 0., 0., 0.],\n",
       "       ...,\n",
       "       [0., 0., 0., ..., 0., 0., 0.],\n",
       "       [0., 0., 0., ..., 0., 0., 0.],\n",
       "       [0., 0., 0., ..., 0., 0., 0.]])"
      ]
     },
     "execution_count": 8,
     "metadata": {},
     "output_type": "execute_result"
    }
   ],
   "source": [
    "# get dim of image row vectors and save to imput_dim\n",
    "input_dim = X.shape[1]\n",
    "print(\"Input dimensions\",input_dim)\n",
    "# get number of unique labels and save to n_output_nodels\n",
    "n_output_nodels = len(np.unique(y))\n",
    "n_output_nodels\n",
    "# normalize image data to values between 0 and 1 (by dividing by max pixel value)\n",
    "max_pixel_value = X.max()\n",
    "X_scaled= X/max_pixel_value\n",
    "# print(\"Before transforming:\",X_scaled.shape)\n",
    "# X_scaled = X_scaled.transpose()\n",
    "# print(\"After transforming:\",X_scaled.shape)\n",
    "X_scaled\n"
   ]
  },
  {
   "cell_type": "code",
   "execution_count": null,
   "metadata": {},
   "outputs": [],
   "source": [
    "# # normalize image data to values between 0 and 1 (by dividing by max pixel value)\n",
    "# from sklearn.preprocessing import StandardScaler\n",
    "# scaler=StandardScaler().fit(X)\n",
    "# X_scaled = scaler.transform(X)"
   ]
  },
  {
   "cell_type": "code",
   "execution_count": 9,
   "metadata": {},
   "outputs": [],
   "source": [
    "# a check on your data prep \n",
    "assert  X_scaled.max(), \"Max pixel value should be 1.0, make sure you normalize your data\""
   ]
  },
  {
   "cell_type": "code",
   "execution_count": 10,
   "metadata": {
    "colab": {},
    "colab_type": "code",
    "deletable": false,
    "id": "zHWblzsMyNkU",
    "nbgrader": {
     "cell_type": "code",
     "checksum": "f0ba174cb72f491f73c3aa7df8ae7ac4",
     "grade": false,
     "grade_id": "cell-b7c96fc46d86725f",
     "locked": false,
     "schema_version": 3,
     "solution": true,
     "task": false
    }
   },
   "outputs": [],
   "source": [
    "# instantiate a sequential object and call it model, then add layers to your model\n",
    "model = Sequential()\n",
    "\n",
    "# add a compile layer but don't fit your model yet \n",
    "# Adding h1\n",
    "model.add(Dense(500,  \n",
    "                activation=\"sigmoid\",input_dim=input_dim))\n",
    "\n",
    "#Adding h2\n",
    "model.add(Dense(250, \n",
    "                activation=\"sigmoid\"))\n",
    "\n",
    "#Adding h3\n",
    "model.add(Dense(100, \n",
    "                activation=\"sigmoid\"))\n",
    "\n",
    "#Adding output layer\n",
    "model.add(Dense(n_output_nodels,\n",
    "                activation = \"softmax\"))\n",
    "\n",
    "#Adding compile layer\n",
    "model.compile(optimizer='sgd', \n",
    "              loss='sparse_categorical_crossentropy', \n",
    "              metrics=['accuracy'])\n",
    "\n",
    "                "
   ]
  },
  {
   "cell_type": "code",
   "execution_count": 11,
   "metadata": {},
   "outputs": [],
   "source": [
    "# a check on your model architecture \n",
    "n_layers = len(model.get_config()[\"layers\"])\n",
    "assert n_layers == 5, \"You should have 5 layers: input, h1, h2, h3, and output\""
   ]
  },
  {
   "cell_type": "code",
   "execution_count": 12,
   "metadata": {},
   "outputs": [
    {
     "name": "stdout",
     "output_type": "stream",
     "text": [
      "Model: \"sequential\"\n",
      "_________________________________________________________________\n",
      "Layer (type)                 Output Shape              Param #   \n",
      "=================================================================\n",
      "dense (Dense)                (None, 500)               392500    \n",
      "_________________________________________________________________\n",
      "dense_1 (Dense)              (None, 250)               125250    \n",
      "_________________________________________________________________\n",
      "dense_2 (Dense)              (None, 100)               25100     \n",
      "_________________________________________________________________\n",
      "dense_3 (Dense)              (None, 10)                1010      \n",
      "=================================================================\n",
      "Total params: 543,860\n",
      "Trainable params: 543,860\n",
      "Non-trainable params: 0\n",
      "_________________________________________________________________\n"
     ]
    }
   ],
   "source": [
    "# check out your model summary \n",
    "model.summary()"
   ]
  },
  {
   "cell_type": "code",
   "execution_count": 13,
   "metadata": {
    "colab": {},
    "colab_type": "code",
    "id": "zHWblzsMyNkU"
   },
   "outputs": [
    {
     "name": "stdout",
     "output_type": "stream",
     "text": [
      "Epoch 1/20\n",
      "2500/2500 [==============================] - 15s 6ms/step - loss: 2.3076 - accuracy: 0.1193 - val_loss: 2.2722 - val_accuracy: 0.1960\n",
      "Epoch 2/20\n",
      "2500/2500 [==============================] - 15s 6ms/step - loss: 2.2552 - accuracy: 0.2495 - val_loss: 2.1439 - val_accuracy: 0.3819\n",
      "Epoch 3/20\n",
      "2500/2500 [==============================] - 14s 6ms/step - loss: 2.0394 - accuracy: 0.4117 - val_loss: 1.7261 - val_accuracy: 0.4758\n",
      "Epoch 4/20\n",
      "2500/2500 [==============================] - 15s 6ms/step - loss: 1.6406 - accuracy: 0.5010 - val_loss: 1.4295 - val_accuracy: 0.5720\n",
      "Epoch 5/20\n",
      "2500/2500 [==============================] - 15s 6ms/step - loss: 1.3717 - accuracy: 0.5803 - val_loss: 1.2237 - val_accuracy: 0.6218\n",
      "Epoch 6/20\n",
      "2500/2500 [==============================] - 15s 6ms/step - loss: 1.1796 - accuracy: 0.6395 - val_loss: 1.0805 - val_accuracy: 0.6735\n",
      "Epoch 7/20\n",
      "2500/2500 [==============================] - 16s 6ms/step - loss: 1.0588 - accuracy: 0.6798 - val_loss: 0.9999 - val_accuracy: 0.6991\n",
      "Epoch 8/20\n",
      "2500/2500 [==============================] - 13s 5ms/step - loss: 0.9934 - accuracy: 0.6990 - val_loss: 0.9574 - val_accuracy: 0.7123\n",
      "Epoch 9/20\n",
      "2500/2500 [==============================] - 14s 6ms/step - loss: 0.9482 - accuracy: 0.7145 - val_loss: 0.9291 - val_accuracy: 0.7219\n",
      "Epoch 10/20\n",
      "2500/2500 [==============================] - 16s 6ms/step - loss: 0.9332 - accuracy: 0.7221 - val_loss: 0.9050 - val_accuracy: 0.7281\n",
      "Epoch 11/20\n",
      "2500/2500 [==============================] - 15s 6ms/step - loss: 0.9016 - accuracy: 0.7315 - val_loss: 0.8834 - val_accuracy: 0.7370\n",
      "Epoch 12/20\n",
      "2500/2500 [==============================] - 16s 6ms/step - loss: 0.8890 - accuracy: 0.7358 - val_loss: 0.8661 - val_accuracy: 0.7414\n",
      "Epoch 13/20\n",
      "2500/2500 [==============================] - 15s 6ms/step - loss: 0.8731 - accuracy: 0.7411 - val_loss: 0.8489 - val_accuracy: 0.7474\n",
      "Epoch 14/20\n",
      "2500/2500 [==============================] - 15s 6ms/step - loss: 0.8549 - accuracy: 0.7447 - val_loss: 0.8346 - val_accuracy: 0.7505\n",
      "Epoch 15/20\n",
      "2500/2500 [==============================] - 18s 7ms/step - loss: 0.8389 - accuracy: 0.7487 - val_loss: 0.8217 - val_accuracy: 0.7555\n",
      "Epoch 16/20\n",
      "2500/2500 [==============================] - 16s 6ms/step - loss: 0.8266 - accuracy: 0.7541 - val_loss: 0.8100 - val_accuracy: 0.7596\n",
      "Epoch 17/20\n",
      "2500/2500 [==============================] - 16s 6ms/step - loss: 0.8150 - accuracy: 0.7543 - val_loss: 0.7966 - val_accuracy: 0.7617\n",
      "Epoch 18/20\n",
      "2500/2500 [==============================] - 16s 6ms/step - loss: 0.8074 - accuracy: 0.7596 - val_loss: 0.7867 - val_accuracy: 0.7648\n",
      "Epoch 19/20\n",
      "2500/2500 [==============================] - 17s 7ms/step - loss: 0.7934 - accuracy: 0.7632 - val_loss: 0.7782 - val_accuracy: 0.7692\n",
      "Epoch 20/20\n",
      "2500/2500 [==============================] - 19s 8ms/step - loss: 0.7895 - accuracy: 0.7646 - val_loss: 0.7684 - val_accuracy: 0.7711\n"
     ]
    }
   ],
   "source": [
    "\n",
    "# fit your model and save training resuts to history \n",
    "history = model.fit(X_scaled, y, \n",
    "                    epochs =20, \n",
    "                    # test set will be generated within the model\n",
    "                    validation_split=0.2\n",
    "                   )"
   ]
  },
  {
   "cell_type": "markdown",
   "metadata": {
    "colab_type": "text",
    "id": "b0QJURWh-9uv"
   },
   "source": [
    "----\n",
    "### Visualize the results\n",
    "\n",
    "- Move results in `history` in a dataframe \n",
    "- Use [**Seaborn**](https://seaborn.pydata.org/generated/seaborn.lineplot.html) to create lineplots for both loss and accuracy by epoch. \n",
    "- Analyze the results and write a couple of obsverations. \n",
    "\n",
    "At what point should we have stopped training the model and why? "
   ]
  },
  {
   "cell_type": "code",
   "execution_count": 14,
   "metadata": {
    "colab": {},
    "colab_type": "code",
    "deletable": false,
    "id": "ijAlzfYKAFaY",
    "nbgrader": {
     "cell_type": "code",
     "checksum": "6ef8cde40701c2ef57cf853b19455125",
     "grade": false,
     "grade_id": "cell-16e647cfc3291a01",
     "locked": false,
     "schema_version": 3,
     "solution": true,
     "task": false
    }
   },
   "outputs": [
    {
     "data": {
      "text/html": [
       "<div>\n",
       "<style scoped>\n",
       "    .dataframe tbody tr th:only-of-type {\n",
       "        vertical-align: middle;\n",
       "    }\n",
       "\n",
       "    .dataframe tbody tr th {\n",
       "        vertical-align: top;\n",
       "    }\n",
       "\n",
       "    .dataframe thead th {\n",
       "        text-align: right;\n",
       "    }\n",
       "</style>\n",
       "<table border=\"1\" class=\"dataframe\">\n",
       "  <thead>\n",
       "    <tr style=\"text-align: right;\">\n",
       "      <th></th>\n",
       "      <th>loss</th>\n",
       "      <th>accuracy</th>\n",
       "      <th>val_loss</th>\n",
       "      <th>val_accuracy</th>\n",
       "    </tr>\n",
       "  </thead>\n",
       "  <tbody>\n",
       "    <tr>\n",
       "      <th>0</th>\n",
       "      <td>2.292425</td>\n",
       "      <td>0.140188</td>\n",
       "      <td>2.272198</td>\n",
       "      <td>0.19600</td>\n",
       "    </tr>\n",
       "    <tr>\n",
       "      <th>1</th>\n",
       "      <td>2.228186</td>\n",
       "      <td>0.298425</td>\n",
       "      <td>2.143942</td>\n",
       "      <td>0.38195</td>\n",
       "    </tr>\n",
       "    <tr>\n",
       "      <th>2</th>\n",
       "      <td>1.926949</td>\n",
       "      <td>0.437663</td>\n",
       "      <td>1.726133</td>\n",
       "      <td>0.47580</td>\n",
       "    </tr>\n",
       "    <tr>\n",
       "      <th>3</th>\n",
       "      <td>1.565443</td>\n",
       "      <td>0.524275</td>\n",
       "      <td>1.429471</td>\n",
       "      <td>0.57195</td>\n",
       "    </tr>\n",
       "    <tr>\n",
       "      <th>4</th>\n",
       "      <td>1.320878</td>\n",
       "      <td>0.595312</td>\n",
       "      <td>1.223747</td>\n",
       "      <td>0.62180</td>\n",
       "    </tr>\n",
       "    <tr>\n",
       "      <th>5</th>\n",
       "      <td>1.150563</td>\n",
       "      <td>0.652225</td>\n",
       "      <td>1.080531</td>\n",
       "      <td>0.67350</td>\n",
       "    </tr>\n",
       "    <tr>\n",
       "      <th>6</th>\n",
       "      <td>1.043453</td>\n",
       "      <td>0.683300</td>\n",
       "      <td>0.999851</td>\n",
       "      <td>0.69905</td>\n",
       "    </tr>\n",
       "    <tr>\n",
       "      <th>7</th>\n",
       "      <td>0.986638</td>\n",
       "      <td>0.702950</td>\n",
       "      <td>0.957388</td>\n",
       "      <td>0.71230</td>\n",
       "    </tr>\n",
       "    <tr>\n",
       "      <th>8</th>\n",
       "      <td>0.951982</td>\n",
       "      <td>0.715475</td>\n",
       "      <td>0.929055</td>\n",
       "      <td>0.72195</td>\n",
       "    </tr>\n",
       "    <tr>\n",
       "      <th>9</th>\n",
       "      <td>0.925732</td>\n",
       "      <td>0.724588</td>\n",
       "      <td>0.905019</td>\n",
       "      <td>0.72810</td>\n",
       "    </tr>\n",
       "    <tr>\n",
       "      <th>10</th>\n",
       "      <td>0.903674</td>\n",
       "      <td>0.731637</td>\n",
       "      <td>0.883439</td>\n",
       "      <td>0.73700</td>\n",
       "    </tr>\n",
       "    <tr>\n",
       "      <th>11</th>\n",
       "      <td>0.884072</td>\n",
       "      <td>0.737850</td>\n",
       "      <td>0.866068</td>\n",
       "      <td>0.74140</td>\n",
       "    </tr>\n",
       "    <tr>\n",
       "      <th>12</th>\n",
       "      <td>0.867200</td>\n",
       "      <td>0.742813</td>\n",
       "      <td>0.848906</td>\n",
       "      <td>0.74745</td>\n",
       "    </tr>\n",
       "    <tr>\n",
       "      <th>13</th>\n",
       "      <td>0.851438</td>\n",
       "      <td>0.746787</td>\n",
       "      <td>0.834614</td>\n",
       "      <td>0.75055</td>\n",
       "    </tr>\n",
       "    <tr>\n",
       "      <th>14</th>\n",
       "      <td>0.837391</td>\n",
       "      <td>0.750663</td>\n",
       "      <td>0.821709</td>\n",
       "      <td>0.75550</td>\n",
       "    </tr>\n",
       "    <tr>\n",
       "      <th>15</th>\n",
       "      <td>0.824423</td>\n",
       "      <td>0.754462</td>\n",
       "      <td>0.809958</td>\n",
       "      <td>0.75965</td>\n",
       "    </tr>\n",
       "    <tr>\n",
       "      <th>16</th>\n",
       "      <td>0.812125</td>\n",
       "      <td>0.756525</td>\n",
       "      <td>0.796596</td>\n",
       "      <td>0.76165</td>\n",
       "    </tr>\n",
       "    <tr>\n",
       "      <th>17</th>\n",
       "      <td>0.800854</td>\n",
       "      <td>0.760900</td>\n",
       "      <td>0.786658</td>\n",
       "      <td>0.76475</td>\n",
       "    </tr>\n",
       "    <tr>\n",
       "      <th>18</th>\n",
       "      <td>0.790412</td>\n",
       "      <td>0.763800</td>\n",
       "      <td>0.778213</td>\n",
       "      <td>0.76925</td>\n",
       "    </tr>\n",
       "    <tr>\n",
       "      <th>19</th>\n",
       "      <td>0.780453</td>\n",
       "      <td>0.766513</td>\n",
       "      <td>0.768355</td>\n",
       "      <td>0.77110</td>\n",
       "    </tr>\n",
       "  </tbody>\n",
       "</table>\n",
       "</div>"
      ],
      "text/plain": [
       "        loss  accuracy  val_loss  val_accuracy\n",
       "0   2.292425  0.140188  2.272198       0.19600\n",
       "1   2.228186  0.298425  2.143942       0.38195\n",
       "2   1.926949  0.437663  1.726133       0.47580\n",
       "3   1.565443  0.524275  1.429471       0.57195\n",
       "4   1.320878  0.595312  1.223747       0.62180\n",
       "5   1.150563  0.652225  1.080531       0.67350\n",
       "6   1.043453  0.683300  0.999851       0.69905\n",
       "7   0.986638  0.702950  0.957388       0.71230\n",
       "8   0.951982  0.715475  0.929055       0.72195\n",
       "9   0.925732  0.724588  0.905019       0.72810\n",
       "10  0.903674  0.731637  0.883439       0.73700\n",
       "11  0.884072  0.737850  0.866068       0.74140\n",
       "12  0.867200  0.742813  0.848906       0.74745\n",
       "13  0.851438  0.746787  0.834614       0.75055\n",
       "14  0.837391  0.750663  0.821709       0.75550\n",
       "15  0.824423  0.754462  0.809958       0.75965\n",
       "16  0.812125  0.756525  0.796596       0.76165\n",
       "17  0.800854  0.760900  0.786658       0.76475\n",
       "18  0.790412  0.763800  0.778213       0.76925\n",
       "19  0.780453  0.766513  0.768355       0.77110"
      ]
     },
     "execution_count": 14,
     "metadata": {},
     "output_type": "execute_result"
    }
   ],
   "source": [
    "# YOUR CODE HERE\n",
    "df = pd.DataFrame(history.history) \n",
    "df"
   ]
  },
  {
   "cell_type": "code",
   "execution_count": 15,
   "metadata": {},
   "outputs": [],
   "source": [
    "# a check on our model training\n",
    "assert df.shape[0] == 20, \"df should have the training results from 20 epochs\""
   ]
  },
  {
   "cell_type": "code",
   "execution_count": 16,
   "metadata": {
    "colab": {},
    "colab_type": "code",
    "deletable": false,
    "id": "ijAlzfYKAFaY",
    "nbgrader": {
     "cell_type": "code",
     "checksum": "424d241660318a72ecda935be10485d7",
     "grade": false,
     "grade_id": "cell-96dba18873c4cffc",
     "locked": false,
     "schema_version": 3,
     "solution": true,
     "task": false
    }
   },
   "outputs": [
    {
     "name": "stderr",
     "output_type": "stream",
     "text": [
      "/home/rhia/anaconda3/envs/U4-S2-NN/lib/python3.7/site-packages/seaborn/_decorators.py:43: FutureWarning: Pass the following variables as keyword args: x, y. From version 0.12, the only valid positional argument will be `data`, and passing other arguments without an explicit keyword will result in an error or misinterpretation.\n",
      "  FutureWarning\n",
      "/home/rhia/anaconda3/envs/U4-S2-NN/lib/python3.7/site-packages/seaborn/_decorators.py:43: FutureWarning: Pass the following variables as keyword args: x, y. From version 0.12, the only valid positional argument will be `data`, and passing other arguments without an explicit keyword will result in an error or misinterpretation.\n",
      "  FutureWarning\n"
     ]
    },
    {
     "data": {
      "image/png": "[encoded data removed]",
      "text/plain": [
       "<Figure size 1440x432 with 1 Axes>"
      ]
     },
     "metadata": {
      "needs_background": "light"
     },
     "output_type": "display_data"
    }
   ],
   "source": [
    "# use the plotting method in your dataframe to plot the modeling results \n",
    "import seaborn as sns\n",
    "\n",
    "plt.figure(figsize=(20,6))\n",
    "plt.grid()\n",
    "\n",
    "epochs = [i for i in range(len(df['loss']))]\n",
    "sns.lineplot(epochs, df['loss'], label=\"train\")\n",
    "sns.lineplot(epochs, df['val_loss'], label=\"test\");"
   ]
  },
  {
   "cell_type": "markdown",
   "metadata": {},
   "source": [
    "### Observations \n",
    "\n",
    "Based on the plot of the training and validation loss answer the following questions. "
   ]
  },
  {
   "cell_type": "markdown",
   "metadata": {},
   "source": [
    "**Was our model able to learn over the course of the 20 epochs? Why or why not?**"
   ]
  },
  {
   "cell_type": "markdown",
   "metadata": {
    "deletable": false,
    "nbgrader": {
     "cell_type": "markdown",
     "checksum": "b7713eb32ad3a910a58dfdb9494a9db3",
     "grade": true,
     "grade_id": "cell-820990a8232a858a",
     "locked": false,
     "points": 0,
     "schema_version": 3,
     "solution": true,
     "task": false
    }
   },
   "source": [
    "Yes - Our model was able to learn over the course of 20 epochs. IN fact at 7th epoch itself it looks like the model learnt as we can see that train and test loss is almost 0."
   ]
  },
  {
   "cell_type": "markdown",
   "metadata": {},
   "source": [
    "**Is our model overfitting? Why or why not?**"
   ]
  },
  {
   "cell_type": "markdown",
   "metadata": {
    "deletable": false,
    "nbgrader": {
     "cell_type": "markdown",
     "checksum": "1d30c64465cd35081d70578c20ecf96d",
     "grade": true,
     "grade_id": "cell-33868e7ef6e401b5",
     "locked": false,
     "points": 0,
     "schema_version": 3,
     "solution": true,
     "task": false
    }
   },
   "source": [
    "No the model is not over fitting. It is the right fit as the error/loss between the train and test is minimal."
   ]
  },
  {
   "cell_type": "markdown",
   "metadata": {},
   "source": [
    "**Could the model score benefit from additional epochs? Why or why not?**"
   ]
  },
  {
   "cell_type": "markdown",
   "metadata": {
    "deletable": false,
    "nbgrader": {
     "cell_type": "markdown",
     "checksum": "0fc2208e2c78461578fc7a05224066b8",
     "grade": true,
     "grade_id": "cell-5c883f0a3161e469",
     "locked": false,
     "points": 0,
     "schema_version": 3,
     "solution": true,
     "task": false
    }
   },
   "source": [
    "No - I dont think there is any need to add epochs as the score is pretty good.Any higher and it would result in overfitting."
   ]
  },
  {
   "cell_type": "markdown",
   "metadata": {
    "colab_type": "text",
    "id": "MAhBrcE4yOZe"
   },
   "source": [
    "-----\n",
    "## Change Optimizers\n",
    "\n",
    "Let's compare model performance between difference optimizers. \n",
    "- Build a new model, identical as the last one but using `adam` for the optimizer. \n",
    "- Visualize the training results just as we did for the last model. \n",
    "- Save modeling results to adam_history so we don't erase the results from the previous model run"
   ]
  },
  {
   "cell_type": "code",
   "execution_count": 17,
   "metadata": {
    "colab": {},
    "colab_type": "code",
    "deletable": false,
    "id": "jIW_spOZ0cxy",
    "nbgrader": {
     "cell_type": "code",
     "checksum": "6d30d8c6f4521861a77c9ef04dbde904",
     "grade": false,
     "grade_id": "cell-56663c8a5e75b71f",
     "locked": false,
     "schema_version": 3,
     "solution": true,
     "task": false
    }
   },
   "outputs": [],
   "source": [
    "# train same model as above but use sgd if you used adam previously ( or use adam if you used sgd previously)\n",
    "# instantiate a sequential object and call it model, then add layers to your model\n",
    "model = Sequential()\n",
    "\n",
    "# add a compile layer but don't fit your model yet \n",
    "# Adding h1\n",
    "model.add(Dense(500,  \n",
    "                activation=\"sigmoid\",input_dim=input_dim))\n",
    "\n",
    "#Adding h2\n",
    "model.add(Dense(250, \n",
    "                activation=\"sigmoid\"))\n",
    "\n",
    "#Adding h3\n",
    "model.add(Dense(100, \n",
    "                activation=\"sigmoid\"))\n",
    "\n",
    "#Adding output layer\n",
    "model.add(Dense(n_output_nodels,\n",
    "                activation = \"softmax\"))\n",
    "\n",
    "#Adding compile layer\n",
    "model.compile(optimizer='adam', \n",
    "              loss='sparse_categorical_crossentropy', \n",
    "              metrics=['accuracy'])"
   ]
  },
  {
   "cell_type": "code",
   "execution_count": 18,
   "metadata": {},
   "outputs": [],
   "source": [
    "# a check that we're using the correct optimizer in this model\n",
    "opt_name = model.optimizer.get_config()[\"name\"]\n",
    "assert opt_name == \"Adam\", \"you need to use adam for the optimizer in this model.\""
   ]
  },
  {
   "cell_type": "code",
   "execution_count": 19,
   "metadata": {
    "deletable": false,
    "nbgrader": {
     "cell_type": "code",
     "checksum": "1a4c01aa7dbcc832d75b05bffaeaacc8",
     "grade": false,
     "grade_id": "cell-20118d1646215346",
     "locked": false,
     "schema_version": 3,
     "solution": true,
     "task": false
    }
   },
   "outputs": [
    {
     "name": "stdout",
     "output_type": "stream",
     "text": [
      "Epoch 1/20\n",
      "2500/2500 [==============================] - 22s 9ms/step - loss: 1.0318 - accuracy: 0.6709 - val_loss: 0.5633 - val_accuracy: 0.8291\n",
      "Epoch 2/20\n",
      "2500/2500 [==============================] - 24s 10ms/step - loss: 0.5197 - accuracy: 0.8443 - val_loss: 0.5124 - val_accuracy: 0.8451\n",
      "Epoch 3/20\n",
      "2500/2500 [==============================] - 19s 8ms/step - loss: 0.4317 - accuracy: 0.8694 - val_loss: 0.4174 - val_accuracy: 0.8730\n",
      "Epoch 4/20\n",
      "2500/2500 [==============================] - 21s 8ms/step - loss: 0.3600 - accuracy: 0.8923 - val_loss: 0.4134 - val_accuracy: 0.8773\n",
      "Epoch 5/20\n",
      "2500/2500 [==============================] - 19s 8ms/step - loss: 0.3136 - accuracy: 0.9053 - val_loss: 0.3971 - val_accuracy: 0.8822\n",
      "Epoch 6/20\n",
      "2500/2500 [==============================] - 21s 9ms/step - loss: 0.2760 - accuracy: 0.9175 - val_loss: 0.4040 - val_accuracy: 0.8823\n",
      "Epoch 7/20\n",
      "2500/2500 [==============================] - 27s 11ms/step - loss: 0.2337 - accuracy: 0.9311 - val_loss: 0.4122 - val_accuracy: 0.8837\n",
      "Epoch 8/20\n",
      "2500/2500 [==============================] - 22s 9ms/step - loss: 0.2080 - accuracy: 0.9376 - val_loss: 0.4250 - val_accuracy: 0.8829\n",
      "Epoch 9/20\n",
      "2500/2500 [==============================] - 28s 11ms/step - loss: 0.1838 - accuracy: 0.9451 - val_loss: 0.4482 - val_accuracy: 0.8795\n",
      "Epoch 10/20\n",
      "2500/2500 [==============================] - 17s 7ms/step - loss: 0.1579 - accuracy: 0.9533 - val_loss: 0.4639 - val_accuracy: 0.8830\n",
      "Epoch 11/20\n",
      "2500/2500 [==============================] - 20s 8ms/step - loss: 0.1348 - accuracy: 0.9591 - val_loss: 0.4881 - val_accuracy: 0.8824\n",
      "Epoch 12/20\n",
      "2500/2500 [==============================] - 15s 6ms/step - loss: 0.1179 - accuracy: 0.9650 - val_loss: 0.5113 - val_accuracy: 0.8802\n",
      "Epoch 13/20\n",
      "2500/2500 [==============================] - 15s 6ms/step - loss: 0.1017 - accuracy: 0.9699 - val_loss: 0.5412 - val_accuracy: 0.8838\n",
      "Epoch 14/20\n",
      "2500/2500 [==============================] - 14s 6ms/step - loss: 0.0902 - accuracy: 0.9738 - val_loss: 0.5802 - val_accuracy: 0.8760\n",
      "Epoch 15/20\n",
      "2500/2500 [==============================] - 14s 6ms/step - loss: 0.0815 - accuracy: 0.9751 - val_loss: 0.5959 - val_accuracy: 0.8788\n",
      "Epoch 16/20\n",
      "2500/2500 [==============================] - 15s 6ms/step - loss: 0.0704 - accuracy: 0.9785 - val_loss: 0.6413 - val_accuracy: 0.8767\n",
      "Epoch 17/20\n",
      "2500/2500 [==============================] - 20s 8ms/step - loss: 0.0615 - accuracy: 0.9811 - val_loss: 0.6448 - val_accuracy: 0.8773\n",
      "Epoch 18/20\n",
      "2500/2500 [==============================] - 20s 8ms/step - loss: 0.0570 - accuracy: 0.9828 - val_loss: 0.6598 - val_accuracy: 0.8751\n",
      "Epoch 19/20\n",
      "2500/2500 [==============================] - 25s 10ms/step - loss: 0.0474 - accuracy: 0.9854 - val_loss: 0.7157 - val_accuracy: 0.8758\n",
      "Epoch 20/20\n",
      "2500/2500 [==============================] - 14s 5ms/step - loss: 0.0472 - accuracy: 0.9857 - val_loss: 0.7087 - val_accuracy: 0.8791\n"
     ]
    }
   ],
   "source": [
    "# fit your model and save training resuts to history \n",
    "history = model.fit(X_scaled, y, \n",
    "                    epochs =20, \n",
    "                    # test set will be generated within the model\n",
    "                    validation_split=0.2\n",
    "                   )"
   ]
  },
  {
   "cell_type": "code",
   "execution_count": 20,
   "metadata": {},
   "outputs": [
    {
     "data": {
      "text/html": [
       "<div>\n",
       "<style scoped>\n",
       "    .dataframe tbody tr th:only-of-type {\n",
       "        vertical-align: middle;\n",
       "    }\n",
       "\n",
       "    .dataframe tbody tr th {\n",
       "        vertical-align: top;\n",
       "    }\n",
       "\n",
       "    .dataframe thead th {\n",
       "        text-align: right;\n",
       "    }\n",
       "</style>\n",
       "<table border=\"1\" class=\"dataframe\">\n",
       "  <thead>\n",
       "    <tr style=\"text-align: right;\">\n",
       "      <th></th>\n",
       "      <th>loss</th>\n",
       "      <th>accuracy</th>\n",
       "      <th>val_loss</th>\n",
       "      <th>val_accuracy</th>\n",
       "    </tr>\n",
       "  </thead>\n",
       "  <tbody>\n",
       "    <tr>\n",
       "      <th>0</th>\n",
       "      <td>0.755714</td>\n",
       "      <td>0.767213</td>\n",
       "      <td>0.563331</td>\n",
       "      <td>0.82905</td>\n",
       "    </tr>\n",
       "    <tr>\n",
       "      <th>1</th>\n",
       "      <td>0.498484</td>\n",
       "      <td>0.848500</td>\n",
       "      <td>0.512351</td>\n",
       "      <td>0.84510</td>\n",
       "    </tr>\n",
       "    <tr>\n",
       "      <th>2</th>\n",
       "      <td>0.417177</td>\n",
       "      <td>0.873487</td>\n",
       "      <td>0.417445</td>\n",
       "      <td>0.87300</td>\n",
       "    </tr>\n",
       "    <tr>\n",
       "      <th>3</th>\n",
       "      <td>0.358957</td>\n",
       "      <td>0.891900</td>\n",
       "      <td>0.413397</td>\n",
       "      <td>0.87725</td>\n",
       "    </tr>\n",
       "    <tr>\n",
       "      <th>4</th>\n",
       "      <td>0.316294</td>\n",
       "      <td>0.904813</td>\n",
       "      <td>0.397147</td>\n",
       "      <td>0.88220</td>\n",
       "    </tr>\n",
       "    <tr>\n",
       "      <th>5</th>\n",
       "      <td>0.277858</td>\n",
       "      <td>0.916313</td>\n",
       "      <td>0.403968</td>\n",
       "      <td>0.88225</td>\n",
       "    </tr>\n",
       "    <tr>\n",
       "      <th>6</th>\n",
       "      <td>0.243023</td>\n",
       "      <td>0.927837</td>\n",
       "      <td>0.412185</td>\n",
       "      <td>0.88370</td>\n",
       "    </tr>\n",
       "    <tr>\n",
       "      <th>7</th>\n",
       "      <td>0.214097</td>\n",
       "      <td>0.935825</td>\n",
       "      <td>0.424979</td>\n",
       "      <td>0.88290</td>\n",
       "    </tr>\n",
       "    <tr>\n",
       "      <th>8</th>\n",
       "      <td>0.186194</td>\n",
       "      <td>0.944188</td>\n",
       "      <td>0.448219</td>\n",
       "      <td>0.87955</td>\n",
       "    </tr>\n",
       "    <tr>\n",
       "      <th>9</th>\n",
       "      <td>0.163756</td>\n",
       "      <td>0.951250</td>\n",
       "      <td>0.463941</td>\n",
       "      <td>0.88300</td>\n",
       "    </tr>\n",
       "    <tr>\n",
       "      <th>10</th>\n",
       "      <td>0.141005</td>\n",
       "      <td>0.957287</td>\n",
       "      <td>0.488130</td>\n",
       "      <td>0.88245</td>\n",
       "    </tr>\n",
       "    <tr>\n",
       "      <th>11</th>\n",
       "      <td>0.124532</td>\n",
       "      <td>0.962375</td>\n",
       "      <td>0.511261</td>\n",
       "      <td>0.88025</td>\n",
       "    </tr>\n",
       "    <tr>\n",
       "      <th>12</th>\n",
       "      <td>0.107569</td>\n",
       "      <td>0.967525</td>\n",
       "      <td>0.541235</td>\n",
       "      <td>0.88385</td>\n",
       "    </tr>\n",
       "    <tr>\n",
       "      <th>13</th>\n",
       "      <td>0.096861</td>\n",
       "      <td>0.970963</td>\n",
       "      <td>0.580215</td>\n",
       "      <td>0.87600</td>\n",
       "    </tr>\n",
       "    <tr>\n",
       "      <th>14</th>\n",
       "      <td>0.085010</td>\n",
       "      <td>0.973962</td>\n",
       "      <td>0.595865</td>\n",
       "      <td>0.87875</td>\n",
       "    </tr>\n",
       "    <tr>\n",
       "      <th>15</th>\n",
       "      <td>0.076499</td>\n",
       "      <td>0.976237</td>\n",
       "      <td>0.641279</td>\n",
       "      <td>0.87670</td>\n",
       "    </tr>\n",
       "    <tr>\n",
       "      <th>16</th>\n",
       "      <td>0.068613</td>\n",
       "      <td>0.978688</td>\n",
       "      <td>0.644833</td>\n",
       "      <td>0.87725</td>\n",
       "    </tr>\n",
       "    <tr>\n",
       "      <th>17</th>\n",
       "      <td>0.063195</td>\n",
       "      <td>0.980187</td>\n",
       "      <td>0.659847</td>\n",
       "      <td>0.87505</td>\n",
       "    </tr>\n",
       "    <tr>\n",
       "      <th>18</th>\n",
       "      <td>0.053502</td>\n",
       "      <td>0.983563</td>\n",
       "      <td>0.715728</td>\n",
       "      <td>0.87575</td>\n",
       "    </tr>\n",
       "    <tr>\n",
       "      <th>19</th>\n",
       "      <td>0.051853</td>\n",
       "      <td>0.983775</td>\n",
       "      <td>0.708651</td>\n",
       "      <td>0.87905</td>\n",
       "    </tr>\n",
       "  </tbody>\n",
       "</table>\n",
       "</div>"
      ],
      "text/plain": [
       "        loss  accuracy  val_loss  val_accuracy\n",
       "0   0.755714  0.767213  0.563331       0.82905\n",
       "1   0.498484  0.848500  0.512351       0.84510\n",
       "2   0.417177  0.873487  0.417445       0.87300\n",
       "3   0.358957  0.891900  0.413397       0.87725\n",
       "4   0.316294  0.904813  0.397147       0.88220\n",
       "5   0.277858  0.916313  0.403968       0.88225\n",
       "6   0.243023  0.927837  0.412185       0.88370\n",
       "7   0.214097  0.935825  0.424979       0.88290\n",
       "8   0.186194  0.944188  0.448219       0.87955\n",
       "9   0.163756  0.951250  0.463941       0.88300\n",
       "10  0.141005  0.957287  0.488130       0.88245\n",
       "11  0.124532  0.962375  0.511261       0.88025\n",
       "12  0.107569  0.967525  0.541235       0.88385\n",
       "13  0.096861  0.970963  0.580215       0.87600\n",
       "14  0.085010  0.973962  0.595865       0.87875\n",
       "15  0.076499  0.976237  0.641279       0.87670\n",
       "16  0.068613  0.978688  0.644833       0.87725\n",
       "17  0.063195  0.980187  0.659847       0.87505\n",
       "18  0.053502  0.983563  0.715728       0.87575\n",
       "19  0.051853  0.983775  0.708651       0.87905"
      ]
     },
     "execution_count": 20,
     "metadata": {},
     "output_type": "execute_result"
    }
   ],
   "source": [
    "df = pd.DataFrame(history.history) \n",
    "df"
   ]
  },
  {
   "cell_type": "code",
   "execution_count": 21,
   "metadata": {},
   "outputs": [
    {
     "name": "stderr",
     "output_type": "stream",
     "text": [
      "/home/rhia/anaconda3/envs/U4-S2-NN/lib/python3.7/site-packages/seaborn/_decorators.py:43: FutureWarning: Pass the following variables as keyword args: x, y. From version 0.12, the only valid positional argument will be `data`, and passing other arguments without an explicit keyword will result in an error or misinterpretation.\n",
      "  FutureWarning\n",
      "/home/rhia/anaconda3/envs/U4-S2-NN/lib/python3.7/site-packages/seaborn/_decorators.py:43: FutureWarning: Pass the following variables as keyword args: x, y. From version 0.12, the only valid positional argument will be `data`, and passing other arguments without an explicit keyword will result in an error or misinterpretation.\n",
      "  FutureWarning\n"
     ]
    },
    {
     "data": {
      "image/png": "[encoded data removed]",
      "text/plain": [
       "<Figure size 1440x432 with 1 Axes>"
      ]
     },
     "metadata": {
      "needs_background": "light"
     },
     "output_type": "display_data"
    }
   ],
   "source": [
    "# use the plotting method in your dataframe to plot the modeling results \n",
    "import seaborn as sns\n",
    "\n",
    "plt.figure(figsize=(20,6))\n",
    "plt.grid()\n",
    "\n",
    "epochs = [i for i in range(len(df['loss']))]\n",
    "sns.lineplot(epochs, df['loss'], label=\"train\")\n",
    "sns.lineplot(epochs, df['val_loss'], label=\"test\");"
   ]
  },
  {
   "cell_type": "markdown",
   "metadata": {},
   "source": [
    "### Observations \n",
    "\n",
    "This plot should look very different from the previous plot. Based on the plot of the training and validation loss answer the following questions. "
   ]
  },
  {
   "cell_type": "markdown",
   "metadata": {},
   "source": [
    "**Is our model overfitting? Why or why not?**"
   ]
  },
  {
   "cell_type": "markdown",
   "metadata": {
    "deletable": false,
    "nbgrader": {
     "cell_type": "markdown",
     "checksum": "fa4141497af675d227aa510feb8db732",
     "grade": true,
     "grade_id": "cell-7e524ccac970c33e",
     "locked": false,
     "points": 0,
     "schema_version": 3,
     "solution": true,
     "task": false
    }
   },
   "source": [
    "Tes the model is an overfit. We can see the validation loss decreasing and then a gradual but steady increase in the test set which means overfitting."
   ]
  },
  {
   "cell_type": "markdown",
   "metadata": {},
   "source": [
    "**Could our model's performance improve by training on more than 20 epochs? Why or why not?**"
   ]
  },
  {
   "cell_type": "markdown",
   "metadata": {
    "deletable": false,
    "nbgrader": {
     "cell_type": "markdown",
     "checksum": "ae03b8b897eb5d052590574ab3bba839",
     "grade": true,
     "grade_id": "cell-456c40e885652955",
     "locked": false,
     "points": 0,
     "schema_version": 3,
     "solution": true,
     "task": false
    }
   },
   "source": [
    "I would think that more regularisation might be a better approach to improve the model."
   ]
  },
  {
   "cell_type": "markdown",
   "metadata": {},
   "source": [
    "**Assuming that you want to stick to this model architecture, what can you do to avoid overfitting?**"
   ]
  },
  {
   "cell_type": "markdown",
   "metadata": {
    "deletable": false,
    "nbgrader": {
     "cell_type": "markdown",
     "checksum": "9f5a9393314231d3ce253363c1df1223",
     "grade": true,
     "grade_id": "cell-74d7def19c66702b",
     "locked": false,
     "points": 0,
     "schema_version": 3,
     "solution": true,
     "task": false
    }
   },
   "source": [
    "1. Add more regularisation 2. Reduce hidden layers\n"
   ]
  },
  {
   "cell_type": "markdown",
   "metadata": {},
   "source": [
    "------\n",
    "# Conclusion \n",
    "\n",
    "What you have observed by comparing the two models that are identitical, except for the optimizer, is that the choice of the optimizer can have a very big influence in the training outcome of ML models in general and in a neural networks in particuar. \n",
    "\n",
    "You might not actually know \n",
    "\n",
    "- why changing the optimizer from Stocastic Gradient Descent over to Adam made a difference.\n",
    "- how Gradient Desecent works \n",
    "- or that Adam is known as Adaptive Gradient Descent (i.e. is it a different version of ordinary Gradient Descent). \n",
    "\n",
    "But that's ok - tomorrow's lesson will be a deep dive into Gradient Descent. You'll learn the theory of Gradient Descent, we'll code up Gradient Descent from scratch, and we'll talk about how Adam is different from ordinary Gradient Descent. "
   ]
  },
  {
   "cell_type": "markdown",
   "metadata": {},
   "source": [
    "-----\n",
    "# Preparation for Tomorrow \n",
    "\n",
    "In Preparation for tomorrow, you might need to watch a few videos. I say might because you may or may not already be comfortable with multi-variate calculus. \n",
    "\n",
    "### Theory of Calculus \n",
    "The theory of Gradient Descent rest on [**the derivative from Calculus**](https://www.youtube.com/watch?v=WUvTyaaNkzM). If you've never taken a Calculus course before, or are a bit rusty, definitely watch this video in preparation for tomorrow's lesson. The take away here is to conceptually understand the derivative, you won't be asked to actually calculate any derivatives by hand. \n",
    "\n",
    "### The Gradient - a multi-dimensional derivative\n",
    "Once you've watched the previous video, you are now set up to  understand how to conceptualize a derivative in an N-dimensional space (where N is any number ranging from 2, 3, 4, ..., all the way to a very large number of dimensions N ) [**This video visually explains the multi-dimensional derivative called the Gradient visually**](https://www.youtube.com/watch?v=GkB4vW16QHI) - and that's the take away. This point of this video is to help you understand the Gradient visually using 3D surfaces. You should also know that the Gradient is made of up partial derivatives, more on this tomorrow. \n",
    "\n",
    "### Contour Maps \n",
    "It is very common to visual 3D surfaces as 2D contour maps - and we'll be making a lot of use of contour maps to understand Gradient Descent. Watch this video in order to [**understand the relationship between 3D surfaces and 2D contour maps**](https://www.youtube.com/watch?v=acdX4YamDtU)\n",
    "\n",
    "### The Calculus of Backpropagation \n",
    "\n",
    "Unlike standard Sklearn ML models, neural networks use not just Gradient Descent but also something called Backpropagatin in order to learn from the data. [**In order to understand how backpropagation works, you need to understand the Chain Rule in Calculus**](https://www.youtube.com/watch?v=acdX4YamDtU). The take away here is to understand how a partial derivative can be decomposed into a product of multiple derivatives. "
   ]
  },
  {
   "cell_type": "markdown",
   "metadata": {},
   "source": [
    "------\n",
    "# Stretch Goals\n",
    "\n",
    "### This section is optional!\n",
    "\n",
    "Only after you've completed the above work and watched the recommended videos, are you then encouraged to experiment with building a few more models and analyze their results. \n",
    "\n",
    "Here are some suggestions to help you get started. \n",
    "\n",
    "- Train the same model using the Sigmoid activation fucntion and the Relu activation function and note the difference in their learning outcomes.  [**Keras docs on activation fucntions**](https://keras.io/api/layers/activations/). We'll cover the Relu activation function in Sprint 2 Module 3.\n",
    "- Train the same model using Normalized and non-Normalized data and note the difference in their learning outcomes. \n",
    "\n",
    "\n",
    "The objective here is to give you an oppertunity to get more practice with the Keras API (i.e. building models) and running a couple of experiments to help set you up for future lessons. In order words, we'll be discussing different activation functions and the affect of Normalized data on model training. "
   ]
  },
  {
   "cell_type": "code",
   "execution_count": null,
   "metadata": {},
   "outputs": [],
   "source": []
  },
  {
   "cell_type": "code",
   "execution_count": null,
   "metadata": {},
   "outputs": [],
   "source": []
  }
 ],
 "metadata": {
  "accelerator": "GPU",
  "colab": {
   "collapsed_sections": [],
   "name": "LS_DS_432_TensorFlow_Assignment",
   "provenance": []
  },
  "kernelspec": {
   "display_name": "U4-S2-NN (Python3)",
   "language": "python",
   "name": "u4-s2-nn"
  },
  "language_info": {
   "codemirror_mode": {
    "name": "ipython",
    "version": 3
   },
   "file_extension": ".py",
   "mimetype": "text/x-python",
   "name": "python",
   "nbconvert_exporter": "python",
   "pygments_lexer": "ipython3",
   "version": "3.7.0"
  }
 },
 "nbformat": 4,
 "nbformat_minor": 4
}
